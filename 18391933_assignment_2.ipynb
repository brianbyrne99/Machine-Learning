{
 "cells": [
  {
   "cell_type": "markdown",
   "metadata": {},
   "source": [
    "# COMP47490- Assignment 2\n",
    "<b>By Brian Byrne - 18391933</b>\n",
    "\n",
    "The dataset being used in this question is <b><i><u>US_census_18391933.csv</u></i></b>. This is an extract of data collected for the the 1994 United States Census Bureau data.\n",
    "\n",
    "The objective of this question is to use the ensemble learning functionality to identify\n",
    "the extent to which classification performance can be improved through the\n",
    "combination of multiple models. Experiments will be run on a dataset extracted from\n",
    "US Census data. The data contains 14 attributes including age, race, sex, marital\n",
    "status etc, and the goal is to predict whether the individual earns over $50k per year."
   ]
  },
  {
   "cell_type": "markdown",
   "metadata": {},
   "source": [
    "## 1(a) Data Preprocessing\n",
    "<b><i>Carefully clean and prepare the dataset for machine learning analysis. You can\n",
    "do basic feature engineering to make your techniques scalable, but there is no\n",
    "need to go overboard with the dataset cleaning. Carefully consider the\n",
    "evaluation measure(s) that you use for this exercise and justify why you\n",
    "selected the particular evaluation measure(s). [Important: As much as possible,\n",
    "use this evaluation measure for the subsequent parts] [10 marks]</i></b>\n",
    "\n",
    "\n",
    "Data cleaning and transformation"
   ]
  },
  {
   "cell_type": "code",
   "execution_count": 230,
   "metadata": {},
   "outputs": [],
   "source": [
    "import pandas as pd\n",
    "import numpy as np\n",
    "import matplotlib\n",
    "import matplotlib.pyplot as plt\n",
    "import datetime\n",
    "# to make the plots display inline \n",
    "%matplotlib inline "
   ]
  },
  {
   "cell_type": "markdown",
   "metadata": {},
   "source": [
    "The data contains 14 attributes including age, race, sex, marital\n",
    "status etc, and the goal is to predict whether the individual earns over $50k per year."
   ]
  },
  {
   "cell_type": "code",
   "execution_count": 231,
   "metadata": {},
   "outputs": [
    {
     "data": {
      "text/html": [
       "<div>\n",
       "<style scoped>\n",
       "    .dataframe tbody tr th:only-of-type {\n",
       "        vertical-align: middle;\n",
       "    }\n",
       "\n",
       "    .dataframe tbody tr th {\n",
       "        vertical-align: top;\n",
       "    }\n",
       "\n",
       "    .dataframe thead th {\n",
       "        text-align: right;\n",
       "    }\n",
       "</style>\n",
       "<table border=\"1\" class=\"dataframe\">\n",
       "  <thead>\n",
       "    <tr style=\"text-align: right;\">\n",
       "      <th></th>\n",
       "      <th>age</th>\n",
       "      <th>workclass</th>\n",
       "      <th>fnlwgt</th>\n",
       "      <th>education</th>\n",
       "      <th>education-num</th>\n",
       "      <th>marital-status</th>\n",
       "      <th>occupation</th>\n",
       "      <th>relationship</th>\n",
       "      <th>race</th>\n",
       "      <th>sex</th>\n",
       "      <th>capital-gain</th>\n",
       "      <th>capital-loss</th>\n",
       "      <th>hours-per-week</th>\n",
       "      <th>native-country</th>\n",
       "      <th>Income-category</th>\n",
       "    </tr>\n",
       "  </thead>\n",
       "  <tbody>\n",
       "    <tr>\n",
       "      <th>0</th>\n",
       "      <td>27</td>\n",
       "      <td>Private</td>\n",
       "      <td>189530</td>\n",
       "      <td>Some-college</td>\n",
       "      <td>10</td>\n",
       "      <td>Never-married</td>\n",
       "      <td>Sales</td>\n",
       "      <td>Own-child</td>\n",
       "      <td>White</td>\n",
       "      <td>Male</td>\n",
       "      <td>0</td>\n",
       "      <td>0</td>\n",
       "      <td>35</td>\n",
       "      <td>United-States</td>\n",
       "      <td>&lt;=50K</td>\n",
       "    </tr>\n",
       "    <tr>\n",
       "      <th>1</th>\n",
       "      <td>55</td>\n",
       "      <td>Private</td>\n",
       "      <td>35551</td>\n",
       "      <td>HS-grad</td>\n",
       "      <td>9</td>\n",
       "      <td>Divorced</td>\n",
       "      <td>Craft-repair</td>\n",
       "      <td>Not-in-family</td>\n",
       "      <td>White</td>\n",
       "      <td>Male</td>\n",
       "      <td>0</td>\n",
       "      <td>0</td>\n",
       "      <td>40</td>\n",
       "      <td>United-States</td>\n",
       "      <td>&lt;=50K</td>\n",
       "    </tr>\n",
       "    <tr>\n",
       "      <th>2</th>\n",
       "      <td>46</td>\n",
       "      <td>Private</td>\n",
       "      <td>155489</td>\n",
       "      <td>Masters</td>\n",
       "      <td>14</td>\n",
       "      <td>Married-civ-spouse</td>\n",
       "      <td>Exec-managerial</td>\n",
       "      <td>Husband</td>\n",
       "      <td>White</td>\n",
       "      <td>Male</td>\n",
       "      <td>0</td>\n",
       "      <td>0</td>\n",
       "      <td>50</td>\n",
       "      <td>United-States</td>\n",
       "      <td>&gt;50K</td>\n",
       "    </tr>\n",
       "    <tr>\n",
       "      <th>3</th>\n",
       "      <td>37</td>\n",
       "      <td>Private</td>\n",
       "      <td>186191</td>\n",
       "      <td>HS-grad</td>\n",
       "      <td>9</td>\n",
       "      <td>Married-civ-spouse</td>\n",
       "      <td>Machine-op-inspct</td>\n",
       "      <td>Husband</td>\n",
       "      <td>White</td>\n",
       "      <td>Male</td>\n",
       "      <td>0</td>\n",
       "      <td>0</td>\n",
       "      <td>46</td>\n",
       "      <td>United-States</td>\n",
       "      <td>&lt;=50K</td>\n",
       "    </tr>\n",
       "    <tr>\n",
       "      <th>4</th>\n",
       "      <td>26</td>\n",
       "      <td>Private</td>\n",
       "      <td>219815</td>\n",
       "      <td>Some-college</td>\n",
       "      <td>10</td>\n",
       "      <td>Married-spouse-abs</td>\n",
       "      <td>Adm-clerical</td>\n",
       "      <td>Unmarried</td>\n",
       "      <td>White</td>\n",
       "      <td>Female</td>\n",
       "      <td>0</td>\n",
       "      <td>0</td>\n",
       "      <td>40</td>\n",
       "      <td>United-States</td>\n",
       "      <td>&lt;=50K</td>\n",
       "    </tr>\n",
       "    <tr>\n",
       "      <th>5</th>\n",
       "      <td>37</td>\n",
       "      <td>Local-gov</td>\n",
       "      <td>218490</td>\n",
       "      <td>HS-grad</td>\n",
       "      <td>9</td>\n",
       "      <td>Married-civ-spouse</td>\n",
       "      <td>Protective-serv</td>\n",
       "      <td>Husband</td>\n",
       "      <td>White</td>\n",
       "      <td>Male</td>\n",
       "      <td>7688</td>\n",
       "      <td>0</td>\n",
       "      <td>35</td>\n",
       "      <td>United-States</td>\n",
       "      <td>&gt;50K</td>\n",
       "    </tr>\n",
       "    <tr>\n",
       "      <th>6</th>\n",
       "      <td>42</td>\n",
       "      <td>Local-gov</td>\n",
       "      <td>143046</td>\n",
       "      <td>HS-grad</td>\n",
       "      <td>9</td>\n",
       "      <td>Widowed</td>\n",
       "      <td>Transport-moving</td>\n",
       "      <td>Unmarried</td>\n",
       "      <td>White</td>\n",
       "      <td>Female</td>\n",
       "      <td>0</td>\n",
       "      <td>0</td>\n",
       "      <td>40</td>\n",
       "      <td>United-States</td>\n",
       "      <td>&lt;=50K</td>\n",
       "    </tr>\n",
       "    <tr>\n",
       "      <th>7</th>\n",
       "      <td>43</td>\n",
       "      <td>Self-emp-inc</td>\n",
       "      <td>175715</td>\n",
       "      <td>HS-grad</td>\n",
       "      <td>9</td>\n",
       "      <td>Never-married</td>\n",
       "      <td>Exec-managerial</td>\n",
       "      <td>Not-in-family</td>\n",
       "      <td>Black</td>\n",
       "      <td>Male</td>\n",
       "      <td>0</td>\n",
       "      <td>0</td>\n",
       "      <td>55</td>\n",
       "      <td>United-States</td>\n",
       "      <td>&lt;=50K</td>\n",
       "    </tr>\n",
       "    <tr>\n",
       "      <th>8</th>\n",
       "      <td>40</td>\n",
       "      <td>Private</td>\n",
       "      <td>205987</td>\n",
       "      <td>Prof-school</td>\n",
       "      <td>15</td>\n",
       "      <td>Never-married</td>\n",
       "      <td>Exec-managerial</td>\n",
       "      <td>Not-in-family</td>\n",
       "      <td>White</td>\n",
       "      <td>Female</td>\n",
       "      <td>0</td>\n",
       "      <td>0</td>\n",
       "      <td>40</td>\n",
       "      <td>Cuba</td>\n",
       "      <td>&lt;=50K</td>\n",
       "    </tr>\n",
       "    <tr>\n",
       "      <th>9</th>\n",
       "      <td>33</td>\n",
       "      <td>Self-emp-not-inc</td>\n",
       "      <td>272359</td>\n",
       "      <td>Bachelors</td>\n",
       "      <td>13</td>\n",
       "      <td>Married-civ-spouse</td>\n",
       "      <td>Sales</td>\n",
       "      <td>Husband</td>\n",
       "      <td>White</td>\n",
       "      <td>Male</td>\n",
       "      <td>7298</td>\n",
       "      <td>0</td>\n",
       "      <td>80</td>\n",
       "      <td>United-States</td>\n",
       "      <td>&gt;50K</td>\n",
       "    </tr>\n",
       "  </tbody>\n",
       "</table>\n",
       "</div>"
      ],
      "text/plain": [
       "   age          workclass   fnlwgt      education   education-num  \\\n",
       "0   27            Private   189530   Some-college              10   \n",
       "1   55            Private    35551        HS-grad               9   \n",
       "2   46            Private   155489        Masters              14   \n",
       "3   37            Private   186191        HS-grad               9   \n",
       "4   26            Private   219815   Some-college              10   \n",
       "5   37          Local-gov   218490        HS-grad               9   \n",
       "6   42          Local-gov   143046        HS-grad               9   \n",
       "7   43       Self-emp-inc   175715        HS-grad               9   \n",
       "8   40            Private   205987    Prof-school              15   \n",
       "9   33   Self-emp-not-inc   272359      Bachelors              13   \n",
       "\n",
       "        marital-status          occupation    relationship    race      sex  \\\n",
       "0        Never-married               Sales       Own-child   White     Male   \n",
       "1             Divorced        Craft-repair   Not-in-family   White     Male   \n",
       "2   Married-civ-spouse     Exec-managerial         Husband   White     Male   \n",
       "3   Married-civ-spouse   Machine-op-inspct         Husband   White     Male   \n",
       "4   Married-spouse-abs        Adm-clerical       Unmarried   White   Female   \n",
       "5   Married-civ-spouse     Protective-serv         Husband   White     Male   \n",
       "6              Widowed    Transport-moving       Unmarried   White   Female   \n",
       "7        Never-married     Exec-managerial   Not-in-family   Black     Male   \n",
       "8        Never-married     Exec-managerial   Not-in-family   White   Female   \n",
       "9   Married-civ-spouse               Sales         Husband   White     Male   \n",
       "\n",
       "    capital-gain   capital-loss   hours-per-week  native-country  \\\n",
       "0              0              0               35   United-States   \n",
       "1              0              0               40   United-States   \n",
       "2              0              0               50   United-States   \n",
       "3              0              0               46   United-States   \n",
       "4              0              0               40   United-States   \n",
       "5           7688              0               35   United-States   \n",
       "6              0              0               40   United-States   \n",
       "7              0              0               55   United-States   \n",
       "8              0              0               40            Cuba   \n",
       "9           7298              0               80   United-States   \n",
       "\n",
       "   Income-category  \n",
       "0            <=50K  \n",
       "1            <=50K  \n",
       "2             >50K  \n",
       "3            <=50K  \n",
       "4            <=50K  \n",
       "5             >50K  \n",
       "6            <=50K  \n",
       "7            <=50K  \n",
       "8            <=50K  \n",
       "9             >50K  "
      ]
     },
     "execution_count": 231,
     "metadata": {},
     "output_type": "execute_result"
    }
   ],
   "source": [
    "original_df = pd.read_csv('US_census_18391933.csv')\n",
    "original_df.head(10)"
   ]
  },
  {
   "cell_type": "markdown",
   "metadata": {},
   "source": [
    "### Exploring the dataset"
   ]
  },
  {
   "cell_type": "code",
   "execution_count": 232,
   "metadata": {},
   "outputs": [
    {
     "name": "stdout",
     "output_type": "stream",
     "text": [
      "The data contains 5000 number of rows and 15 number of columns\n"
     ]
    }
   ],
   "source": [
    "def dataShape(df):\n",
    "    print(\"The data contains {0} number of rows and {1} number of columns\".format(df.shape[0], df.shape[1]))\n",
    "\n",
    "dataShape(original_df)"
   ]
  },
  {
   "cell_type": "markdown",
   "metadata": {},
   "source": [
    "Initial analysis of data"
   ]
  },
  {
   "cell_type": "code",
   "execution_count": 233,
   "metadata": {},
   "outputs": [
    {
     "data": {
      "text/plain": [
       "age                  int64\n",
       " workclass          object\n",
       " fnlwgt              int64\n",
       " education          object\n",
       " education-num       int64\n",
       " marital-status     object\n",
       " occupation         object\n",
       " relationship       object\n",
       " race               object\n",
       " sex                object\n",
       " capital-gain        int64\n",
       " capital-loss        int64\n",
       " hours-per-week      int64\n",
       " native-country     object\n",
       " Income-category    object\n",
       "dtype: object"
      ]
     },
     "execution_count": 233,
     "metadata": {},
     "output_type": "execute_result"
    }
   ],
   "source": [
    "original_df.dtypes"
   ]
  },
  {
   "cell_type": "markdown",
   "metadata": {},
   "source": [
    "Notice the indent caused by a single whitespace character occurring at index 0 after the age column header"
   ]
  },
  {
   "cell_type": "code",
   "execution_count": 234,
   "metadata": {},
   "outputs": [
    {
     "data": {
      "text/plain": [
       "Index(['age', 'workclass', 'fnlwgt', 'education', 'education-num',\n",
       "       'marital-status', 'occupation', 'relationship', 'race', 'sex',\n",
       "       'capital-gain', 'capital-loss', 'hours-per-week', 'native-country',\n",
       "       'Income-category'],\n",
       "      dtype='object')"
      ]
     },
     "execution_count": 234,
     "metadata": {},
     "output_type": "execute_result"
    }
   ],
   "source": [
    "original_df.columns = original_df.columns.str.replace(' ', '')\n",
    "original_df.columns"
   ]
  },
  {
   "cell_type": "code",
   "execution_count": 235,
   "metadata": {},
   "outputs": [
    {
     "name": "stdout",
     "output_type": "stream",
     "text": [
      "1\n",
      "Name: age\n",
      "Number of unique entries: 70\n",
      "[27 55 46 37 26 42 43 40 33 38 36 35 71 28 47 32 25 22 60 50 18 20 48 19\n",
      " 39 41 45 30 44 53 49 29 23 67 69 62 51 21 52 31 56 34 54 58 70 57 59 64\n",
      " 24 66 61 63 65 79 68 76 17 75 73 72 74 90 77 81 84 78 88 82 85 80]\n",
      "Number of null entries: 0\n",
      "\n",
      "\n",
      "\n",
      "\n",
      "2\n",
      "Name: workclass\n",
      "Number of unique entries: 8\n",
      "[' Private' ' Local-gov' ' Self-emp-inc' ' Self-emp-not-inc' ' ?'\n",
      " ' State-gov' ' Federal-gov' ' Without-pay']\n",
      "Number of null entries: 0\n",
      "\n",
      "\n",
      "\n",
      "\n",
      "3\n",
      "Name: fnlwgt\n",
      "Number of unique entries: 4580\n",
      "[189530  35551 155489 ... 889965 319280  98287]\n",
      "Number of null entries: 0\n",
      "\n",
      "\n",
      "\n",
      "\n",
      "4\n",
      "Name: education\n",
      "Number of unique entries: 16\n",
      "[' Some-college' ' HS-grad' ' Masters' ' Prof-school' ' Bachelors'\n",
      " ' Doctorate' ' 10th' ' 12th' ' 11th' ' Assoc-voc' ' Assoc-acdm'\n",
      " ' 5th-6th' ' 9th' ' 1st-4th' ' Preschool' ' 7th-8th']\n",
      "Number of null entries: 0\n",
      "\n",
      "\n",
      "\n",
      "\n",
      "5\n",
      "Name: education-num\n",
      "Number of unique entries: 16\n",
      "[10  9 14 15 13 16  6  8  7 11 12  3  5  2  1  4]\n",
      "Number of null entries: 0\n",
      "\n",
      "\n",
      "\n",
      "\n",
      "6\n",
      "Name: marital-status\n",
      "Number of unique entries: 7\n",
      "[' Never-married' ' Divorced' ' Married-civ-spouse' ' Married-spouse-abs'\n",
      " ' Widowed' ' Separated' ' Married-AF-spouse']\n",
      "Number of null entries: 0\n",
      "\n",
      "\n",
      "\n",
      "\n",
      "7\n",
      "Name: occupation\n",
      "Number of unique entries: 14\n",
      "[' Sales' ' Craft-repair' ' Exec-managerial' ' Machine-op-inspct'\n",
      " ' Adm-clerical' ' Protective-serv' ' Transport-moving' ' ?'\n",
      " ' Prof-specialty' ' Handlers-cleaners' ' Tech-support' ' Other-service'\n",
      " ' Farming-fishing' ' Priv-house-serv']\n",
      "Number of null entries: 0\n",
      "\n",
      "\n",
      "\n",
      "\n",
      "8\n",
      "Name: relationship\n",
      "Number of unique entries: 6\n",
      "[' Own-child' ' Not-in-family' ' Husband' ' Unmarried' ' Wife'\n",
      " ' Other-relative']\n",
      "Number of null entries: 0\n",
      "\n",
      "\n",
      "\n",
      "\n",
      "9\n",
      "Name: race\n",
      "Number of unique entries: 5\n",
      "[' White' ' Black' ' Asian-Pac-Islander' ' Other' ' Amer-Indian-Eskimo']\n",
      "Number of null entries: 0\n",
      "\n",
      "\n",
      "\n",
      "\n",
      "10\n",
      "Name: sex\n",
      "Number of unique entries: 2\n",
      "[' Male' ' Female']\n",
      "Number of null entries: 0\n",
      "\n",
      "\n",
      "\n",
      "\n",
      "11\n",
      "Name: capital-gain\n",
      "Number of unique entries: 79\n",
      "[    0  7688  7298  4386 15024  1086  3325   594 99999  2062  3411  3464\n",
      "  5178  1409 13550  5013  2176  2580  4650 14084  8614  3942  4064  2414\n",
      " 10520  3137  3103  1151  6497 10605  6849  2407  2354  2597  1055  1173\n",
      "   914  2463 20051 25124  2829  7430  2174 34095  2290 25236  6723  2202\n",
      "  9386  4865  4787   991  2977  3781 14344  3908  4508  2635  4687 22040\n",
      "  2885  2050  1506  1797  4934  3432  2105  2964  4101 27828  5455  1424\n",
      "  6767  5556  3418  6418  2936  3887  2009]\n",
      "Number of null entries: 0\n",
      "\n",
      "\n",
      "\n",
      "\n",
      "12\n",
      "Name: capital-loss\n",
      "Number of unique entries: 54\n",
      "[   0 1602 2002 1977 1485 1902 1590 1651 1340 2051 1721 1669 1755  625\n",
      " 2246 2238 2444  880 2339 1504 1887 1848 1672 1628 1876 2377 2415 1741\n",
      " 2258 1579 2129 2174 1408 2001 1740 2489 1573 1762 1974  419 1719 2179\n",
      " 1980 2559 1564 2824 3683 2392 2042 1648 1617 2547 1594 1258]\n",
      "Number of null entries: 0\n",
      "\n",
      "\n",
      "\n",
      "\n",
      "13\n",
      "Name: hours-per-week\n",
      "Number of unique entries: 75\n",
      "[35 40 50 46 55 80 47 10 43  2 24 20 60 45 30 48 25 52 44 37 91  6 39 15\n",
      " 38 99 34  8 70 36  4 33 26 65 16 12 42 32 56 18 98  9 75 68  5 72 22 49\n",
      " 31 66  1  3 41 28 64 57 21 85 27  7 90 58 54 78 19 17 84 23 11 14 53 13\n",
      " 51 87 63]\n",
      "Number of null entries: 0\n",
      "\n",
      "\n",
      "\n",
      "\n",
      "14\n",
      "Name: native-country\n",
      "Number of unique entries: 41\n",
      "[' United-States' ' Cuba' ' Mexico' ' Poland' ' India' ' Columbia' ' ?'\n",
      " ' Iran' ' Ecuador' ' South' ' Philippines' ' Vietnam' ' England'\n",
      " ' El-Salvador' ' China' ' Peru' ' Scotland' ' Canada' ' Italy' ' Jamaica'\n",
      " ' Puerto-Rico' ' Guatemala' ' Japan' ' Germany' ' Taiwan' ' France'\n",
      " ' Portugal' ' Dominican-Republic' ' Nicaragua' ' Hong' ' Trinadad&Tobago'\n",
      " ' Haiti' ' Thailand' ' Greece' ' Cambodia' ' Laos' ' Hungary' ' Honduras'\n",
      " ' Outlying-US-Guam-USVI' ' Ireland' ' Yugoslavia']\n",
      "Number of null entries: 0\n",
      "\n",
      "\n",
      "\n",
      "\n",
      "15\n",
      "Name: Income-category\n",
      "Number of unique entries: 2\n",
      "[' <=50K' ' >50K']\n",
      "Number of null entries: 0\n",
      "\n",
      "\n",
      "\n",
      "\n"
     ]
    }
   ],
   "source": [
    "def attribute_analyser(column_name, column, iterator):\n",
    "    print(iterator)\n",
    "    print('Name:', column_name)\n",
    "    print('Number of unique entries:',len(column.unique()))\n",
    "    print(column.unique())\n",
    "    print('Number of null entries:', column.isnull().sum())\n",
    "    print('\\n\\n\\n')\n",
    "\n",
    "iterator = 1\n",
    "for column in original_df:\n",
    "    attribute_analyser(column, original_df[column], iterator)\n",
    "    iterator += 1"
   ]
  },
  {
   "cell_type": "markdown",
   "metadata": {},
   "source": [
    "## Atttributes\n",
    "-\t<b>age</b> is representative of age in years\n",
    "-\t<b>workclass</b> represents a person’s employment situation at the time of census.\n",
    "-\t<b>fnlwgt</b> is the weight of the amount of people believed to be represented by this entry in the census.\n",
    "-\t<b>education</b> is the highest-level of education achieved by the person.\n",
    "-\t<b>education-num</b> is a numeric representation of  the education attribute.\n",
    "-\t<b>marital-status</b> is self-explanatory, the entries containing AF means that the spouse of the entered person is in the Armed-forces (army, navy, air force etc.). Civ tells us the spouse in question is a civilian (non-armed force member).\n",
    "-\t<b>relationship</b> -  a little confusing, only shows one attribute i.e. “Wife” in relation to others. \n",
    "-\t<b>occupation</b> shows the job of an entry.\n",
    "-\t<b>race</b> is the ethnicity of an entry.\n",
    "-\t<b>gender</b> gender assigned to entry at birth\n",
    "-\t<b>capital gain</b> and capital loss - A capital gain is the increase in a capital asset's value and is realized when the asset is sold i.e., shares or a house. A loss is a loss upon sale.\n",
    "-\t<b>hours</b> -per – week – working hours per week\n",
    "-\t<b>native country</b> – country of origin\n",
    "-\t<b>income category</b> whether an employee earns over 50k a year.\n"
   ]
  },
  {
   "cell_type": "markdown",
   "metadata": {},
   "source": [
    "Check for missing values - No Missing Values"
   ]
  },
  {
   "cell_type": "markdown",
   "metadata": {},
   "source": [
    "Cleaning header names"
   ]
  },
  {
   "cell_type": "code",
   "execution_count": 236,
   "metadata": {},
   "outputs": [
    {
     "data": {
      "text/plain": [
       "age                0.0\n",
       "workclass          0.0\n",
       "fnlwgt             0.0\n",
       "education          0.0\n",
       "education-num      0.0\n",
       "marital-status     0.0\n",
       "occupation         0.0\n",
       "relationship       0.0\n",
       "race               0.0\n",
       "sex                0.0\n",
       "capital-gain       0.0\n",
       "capital-loss       0.0\n",
       "hours-per-week     0.0\n",
       "native-country     0.0\n",
       "Income-category    0.0\n",
       "dtype: float64"
      ]
     },
     "execution_count": 236,
     "metadata": {},
     "output_type": "execute_result"
    }
   ],
   "source": [
    "#% of missing data for all features\n",
    "100 * (original_df.isnull().sum()/original_df.shape[0])"
   ]
  },
  {
   "cell_type": "code",
   "execution_count": 237,
   "metadata": {},
   "outputs": [
    {
     "data": {
      "text/plain": [
       "0"
      ]
     },
     "execution_count": 237,
     "metadata": {},
     "output_type": "execute_result"
    }
   ],
   "source": [
    "# Checking for duplicates\n",
    "num_duplicates = len(original_df[original_df.duplicated(keep=False)])\n",
    "num_duplicates"
   ]
  },
  {
   "cell_type": "markdown",
   "metadata": {},
   "source": [
    "Next we will check if the education number is consistent with the education categories"
   ]
  },
  {
   "cell_type": "code",
   "execution_count": 238,
   "metadata": {},
   "outputs": [
    {
     "name": "stdout",
     "output_type": "stream",
     "text": [
      "16\n",
      "16\n",
      "Remove education column\n"
     ]
    }
   ],
   "source": [
    "education = original_df['education']\n",
    "education_num = original_df['education-num']\n",
    "print(len(education.unique()))\n",
    "print(len(education_num.unique()))\n",
    "\n",
    "levels_of_ed = list(education.unique())\n",
    "levels_of_ed_num = list(education_num.unique())\n",
    "\n",
    "ed_num_to_string={}\n",
    "for i in range(len(levels_of_ed)):\n",
    "    ed_num_to_string[levels_of_ed_num[i]] = levels_of_ed[i]\n",
    "    \n",
    "#Test to ensure each education num is associated with the correct string in the education column\n",
    "counter = 0\n",
    "boolean = False\n",
    "for num in education_num:\n",
    "    expected = ed_num_to_string[num]\n",
    "    actual = education[counter]\n",
    "    counter += 1\n",
    "    if expected != actual:\n",
    "        boolean = True\n",
    "        \n",
    "# algorithm is used to determine if the two education columns correspond to eachother\n",
    "if not boolean:\n",
    "    print('Remove education column')\n",
    "else:\n",
    "    print('Inconsistent')"
   ]
  },
  {
   "cell_type": "code",
   "execution_count": 239,
   "metadata": {},
   "outputs": [
    {
     "data": {
      "text/html": [
       "<div>\n",
       "<style scoped>\n",
       "    .dataframe tbody tr th:only-of-type {\n",
       "        vertical-align: middle;\n",
       "    }\n",
       "\n",
       "    .dataframe tbody tr th {\n",
       "        vertical-align: top;\n",
       "    }\n",
       "\n",
       "    .dataframe thead th {\n",
       "        text-align: right;\n",
       "    }\n",
       "</style>\n",
       "<table border=\"1\" class=\"dataframe\">\n",
       "  <thead>\n",
       "    <tr style=\"text-align: right;\">\n",
       "      <th></th>\n",
       "      <th>age</th>\n",
       "      <th>workclass</th>\n",
       "      <th>fnlwgt</th>\n",
       "      <th>education</th>\n",
       "      <th>marital-status</th>\n",
       "      <th>occupation</th>\n",
       "      <th>relationship</th>\n",
       "      <th>race</th>\n",
       "      <th>sex</th>\n",
       "      <th>capital-gain</th>\n",
       "      <th>capital-loss</th>\n",
       "      <th>hours-per-week</th>\n",
       "      <th>native-country</th>\n",
       "      <th>Income-category</th>\n",
       "    </tr>\n",
       "  </thead>\n",
       "  <tbody>\n",
       "    <tr>\n",
       "      <th>0</th>\n",
       "      <td>27</td>\n",
       "      <td>Private</td>\n",
       "      <td>189530</td>\n",
       "      <td>10</td>\n",
       "      <td>Never-married</td>\n",
       "      <td>Sales</td>\n",
       "      <td>Own-child</td>\n",
       "      <td>White</td>\n",
       "      <td>Male</td>\n",
       "      <td>0</td>\n",
       "      <td>0</td>\n",
       "      <td>35</td>\n",
       "      <td>United-States</td>\n",
       "      <td>&lt;=50K</td>\n",
       "    </tr>\n",
       "    <tr>\n",
       "      <th>1</th>\n",
       "      <td>55</td>\n",
       "      <td>Private</td>\n",
       "      <td>35551</td>\n",
       "      <td>9</td>\n",
       "      <td>Divorced</td>\n",
       "      <td>Craft-repair</td>\n",
       "      <td>Not-in-family</td>\n",
       "      <td>White</td>\n",
       "      <td>Male</td>\n",
       "      <td>0</td>\n",
       "      <td>0</td>\n",
       "      <td>40</td>\n",
       "      <td>United-States</td>\n",
       "      <td>&lt;=50K</td>\n",
       "    </tr>\n",
       "    <tr>\n",
       "      <th>2</th>\n",
       "      <td>46</td>\n",
       "      <td>Private</td>\n",
       "      <td>155489</td>\n",
       "      <td>14</td>\n",
       "      <td>Married-civ-spouse</td>\n",
       "      <td>Exec-managerial</td>\n",
       "      <td>Husband</td>\n",
       "      <td>White</td>\n",
       "      <td>Male</td>\n",
       "      <td>0</td>\n",
       "      <td>0</td>\n",
       "      <td>50</td>\n",
       "      <td>United-States</td>\n",
       "      <td>&gt;50K</td>\n",
       "    </tr>\n",
       "    <tr>\n",
       "      <th>3</th>\n",
       "      <td>37</td>\n",
       "      <td>Private</td>\n",
       "      <td>186191</td>\n",
       "      <td>9</td>\n",
       "      <td>Married-civ-spouse</td>\n",
       "      <td>Machine-op-inspct</td>\n",
       "      <td>Husband</td>\n",
       "      <td>White</td>\n",
       "      <td>Male</td>\n",
       "      <td>0</td>\n",
       "      <td>0</td>\n",
       "      <td>46</td>\n",
       "      <td>United-States</td>\n",
       "      <td>&lt;=50K</td>\n",
       "    </tr>\n",
       "    <tr>\n",
       "      <th>4</th>\n",
       "      <td>26</td>\n",
       "      <td>Private</td>\n",
       "      <td>219815</td>\n",
       "      <td>10</td>\n",
       "      <td>Married-spouse-abs</td>\n",
       "      <td>Adm-clerical</td>\n",
       "      <td>Unmarried</td>\n",
       "      <td>White</td>\n",
       "      <td>Female</td>\n",
       "      <td>0</td>\n",
       "      <td>0</td>\n",
       "      <td>40</td>\n",
       "      <td>United-States</td>\n",
       "      <td>&lt;=50K</td>\n",
       "    </tr>\n",
       "  </tbody>\n",
       "</table>\n",
       "</div>"
      ],
      "text/plain": [
       "   age workclass  fnlwgt education       marital-status          occupation  \\\n",
       "0   27   Private  189530        10        Never-married               Sales   \n",
       "1   55   Private   35551         9             Divorced        Craft-repair   \n",
       "2   46   Private  155489        14   Married-civ-spouse     Exec-managerial   \n",
       "3   37   Private  186191         9   Married-civ-spouse   Machine-op-inspct   \n",
       "4   26   Private  219815        10   Married-spouse-abs        Adm-clerical   \n",
       "\n",
       "     relationship    race      sex  capital-gain  capital-loss  \\\n",
       "0       Own-child   White     Male             0             0   \n",
       "1   Not-in-family   White     Male             0             0   \n",
       "2         Husband   White     Male             0             0   \n",
       "3         Husband   White     Male             0             0   \n",
       "4       Unmarried   White   Female             0             0   \n",
       "\n",
       "   hours-per-week  native-country Income-category  \n",
       "0              35   United-States           <=50K  \n",
       "1              40   United-States           <=50K  \n",
       "2              50   United-States            >50K  \n",
       "3              46   United-States           <=50K  \n",
       "4              40   United-States           <=50K  "
      ]
     },
     "execution_count": 239,
     "metadata": {},
     "output_type": "execute_result"
    }
   ],
   "source": [
    "# removing the education column and changing education num to type category instead of int\n",
    "df_2 = original_df.drop(['education'], 1)\n",
    "df_2 = df_2.rename({'education-num' : 'education'}, axis=1)\n",
    "df_2['education'] = df_2['education'].astype('category')\n",
    "df_2.head()"
   ]
  },
  {
   "cell_type": "code",
   "execution_count": 240,
   "metadata": {},
   "outputs": [
    {
     "data": {
      "text/plain": [
       "4580"
      ]
     },
     "execution_count": 240,
     "metadata": {},
     "output_type": "execute_result"
    }
   ],
   "source": [
    "len(df_2['fnlwgt'].unique())"
   ]
  },
  {
   "cell_type": "markdown",
   "metadata": {},
   "source": [
    "4580 entries out of 5000 are unique in the <b><i>fnlwgt</i></b> column. This is not very useful to us for characterising people and this column should be dropped/"
   ]
  },
  {
   "cell_type": "code",
   "execution_count": 241,
   "metadata": {},
   "outputs": [],
   "source": [
    "df_2 = df_2.drop(['fnlwgt'], 1)"
   ]
  },
  {
   "cell_type": "code",
   "execution_count": 242,
   "metadata": {},
   "outputs": [
    {
     "data": {
      "text/plain": [
       "age                   int64\n",
       "workclass          category\n",
       "education          category\n",
       "marital-status     category\n",
       "occupation         category\n",
       "relationship       category\n",
       "race               category\n",
       "sex                category\n",
       "capital-gain          int64\n",
       "capital-loss          int64\n",
       "hours-per-week        int64\n",
       "native-country     category\n",
       "Income-category    category\n",
       "dtype: object"
      ]
     },
     "execution_count": 242,
     "metadata": {},
     "output_type": "execute_result"
    }
   ],
   "source": [
    "# Convert object columns to category function\n",
    "def objectToCategory(df):\n",
    "    for column in df.select_dtypes(['object']).columns:\n",
    "        df[column] = df[column].astype('category')\n",
    "    return df\n",
    "\n",
    "categorized_df = objectToCategory(df_2)\n",
    "categorized_df.dtypes"
   ]
  },
  {
   "cell_type": "code",
   "execution_count": 243,
   "metadata": {},
   "outputs": [
    {
     "data": {
      "text/html": [
       "<div>\n",
       "<style scoped>\n",
       "    .dataframe tbody tr th:only-of-type {\n",
       "        vertical-align: middle;\n",
       "    }\n",
       "\n",
       "    .dataframe tbody tr th {\n",
       "        vertical-align: top;\n",
       "    }\n",
       "\n",
       "    .dataframe thead th {\n",
       "        text-align: right;\n",
       "    }\n",
       "</style>\n",
       "<table border=\"1\" class=\"dataframe\">\n",
       "  <thead>\n",
       "    <tr style=\"text-align: right;\">\n",
       "      <th></th>\n",
       "      <th>age</th>\n",
       "      <th>workclass</th>\n",
       "      <th>education</th>\n",
       "      <th>marital-status</th>\n",
       "      <th>occupation</th>\n",
       "      <th>relationship</th>\n",
       "      <th>race</th>\n",
       "      <th>sex</th>\n",
       "      <th>capital-gain</th>\n",
       "      <th>capital-loss</th>\n",
       "      <th>hours-per-week</th>\n",
       "      <th>native-country</th>\n",
       "      <th>Income-category</th>\n",
       "    </tr>\n",
       "  </thead>\n",
       "  <tbody>\n",
       "    <tr>\n",
       "      <th>4995</th>\n",
       "      <td>30</td>\n",
       "      <td>Federal-gov</td>\n",
       "      <td>10</td>\n",
       "      <td>Never-married</td>\n",
       "      <td>Craft-repair</td>\n",
       "      <td>Not-in-family</td>\n",
       "      <td>White</td>\n",
       "      <td>Male</td>\n",
       "      <td>0</td>\n",
       "      <td>0</td>\n",
       "      <td>40</td>\n",
       "      <td>United-States</td>\n",
       "      <td>&lt;=50K</td>\n",
       "    </tr>\n",
       "    <tr>\n",
       "      <th>4996</th>\n",
       "      <td>34</td>\n",
       "      <td>Private</td>\n",
       "      <td>13</td>\n",
       "      <td>Never-married</td>\n",
       "      <td>Craft-repair</td>\n",
       "      <td>Unmarried</td>\n",
       "      <td>White</td>\n",
       "      <td>Male</td>\n",
       "      <td>0</td>\n",
       "      <td>0</td>\n",
       "      <td>40</td>\n",
       "      <td>United-States</td>\n",
       "      <td>&lt;=50K</td>\n",
       "    </tr>\n",
       "    <tr>\n",
       "      <th>4997</th>\n",
       "      <td>24</td>\n",
       "      <td>Private</td>\n",
       "      <td>9</td>\n",
       "      <td>Married-civ-spouse</td>\n",
       "      <td>Sales</td>\n",
       "      <td>Husband</td>\n",
       "      <td>White</td>\n",
       "      <td>Male</td>\n",
       "      <td>0</td>\n",
       "      <td>0</td>\n",
       "      <td>50</td>\n",
       "      <td>United-States</td>\n",
       "      <td>&lt;=50K</td>\n",
       "    </tr>\n",
       "    <tr>\n",
       "      <th>4998</th>\n",
       "      <td>33</td>\n",
       "      <td>Private</td>\n",
       "      <td>10</td>\n",
       "      <td>Never-married</td>\n",
       "      <td>Machine-op-inspct</td>\n",
       "      <td>Not-in-family</td>\n",
       "      <td>White</td>\n",
       "      <td>Male</td>\n",
       "      <td>0</td>\n",
       "      <td>0</td>\n",
       "      <td>40</td>\n",
       "      <td>United-States</td>\n",
       "      <td>&lt;=50K</td>\n",
       "    </tr>\n",
       "    <tr>\n",
       "      <th>4999</th>\n",
       "      <td>51</td>\n",
       "      <td>Private</td>\n",
       "      <td>10</td>\n",
       "      <td>Divorced</td>\n",
       "      <td>Sales</td>\n",
       "      <td>Not-in-family</td>\n",
       "      <td>White</td>\n",
       "      <td>Female</td>\n",
       "      <td>0</td>\n",
       "      <td>0</td>\n",
       "      <td>45</td>\n",
       "      <td>United-States</td>\n",
       "      <td>&gt;50K</td>\n",
       "    </tr>\n",
       "  </tbody>\n",
       "</table>\n",
       "</div>"
      ],
      "text/plain": [
       "      age     workclass education       marital-status          occupation  \\\n",
       "4995   30   Federal-gov        10        Never-married        Craft-repair   \n",
       "4996   34       Private        13        Never-married        Craft-repair   \n",
       "4997   24       Private         9   Married-civ-spouse               Sales   \n",
       "4998   33       Private        10        Never-married   Machine-op-inspct   \n",
       "4999   51       Private        10             Divorced               Sales   \n",
       "\n",
       "        relationship    race      sex  capital-gain  capital-loss  \\\n",
       "4995   Not-in-family   White     Male             0             0   \n",
       "4996       Unmarried   White     Male             0             0   \n",
       "4997         Husband   White     Male             0             0   \n",
       "4998   Not-in-family   White     Male             0             0   \n",
       "4999   Not-in-family   White   Female             0             0   \n",
       "\n",
       "      hours-per-week  native-country Income-category  \n",
       "4995              40   United-States           <=50K  \n",
       "4996              40   United-States           <=50K  \n",
       "4997              50   United-States           <=50K  \n",
       "4998              40   United-States           <=50K  \n",
       "4999              45   United-States            >50K  "
      ]
     },
     "execution_count": 243,
     "metadata": {},
     "output_type": "execute_result"
    }
   ],
   "source": [
    "categorized_df.tail()"
   ]
  },
  {
   "cell_type": "markdown",
   "metadata": {},
   "source": [
    "Checking for outliers or unusual activity"
   ]
  },
  {
   "cell_type": "code",
   "execution_count": 244,
   "metadata": {},
   "outputs": [
    {
     "data": {
      "image/png": "[encoded data removed]",
      "text/plain": [
       "<Figure size 1080x360 with 1 Axes>"
      ]
     },
     "metadata": {
      "needs_background": "light"
     },
     "output_type": "display_data"
    },
    {
     "data": {
      "image/png": "[encoded data removed]",
      "text/plain": [
       "<Figure size 1080x360 with 1 Axes>"
      ]
     },
     "metadata": {
      "needs_background": "light"
     },
     "output_type": "display_data"
    },
    {
     "data": {
      "image/png": "[encoded data removed]",
      "text/plain": [
       "<Figure size 1080x360 with 1 Axes>"
      ]
     },
     "metadata": {
      "needs_background": "light"
     },
     "output_type": "display_data"
    },
    {
     "data": {
      "image/png": "[encoded data removed]",
      "text/plain": [
       "<Figure size 1080x360 with 1 Axes>"
      ]
     },
     "metadata": {
      "needs_background": "light"
     },
     "output_type": "display_data"
    }
   ],
   "source": [
    "categorical_columns = ['workclass', 'education', 'marital-status', 'race']\n",
    "for column in categorical_columns:\n",
    "    original_df[column].value_counts(dropna=False).plot(kind='bar', title=column, figsize=(15,5), rot=0)\n",
    "    plt.show()"
   ]
  },
  {
   "cell_type": "code",
   "execution_count": 245,
   "metadata": {},
   "outputs": [],
   "source": [
    "# Data to plot\n",
    "def missingValDetails(data):\n",
    "    labels = []\n",
    "    sizes = []\n",
    "\n",
    "    for x, y in data.items():\n",
    "        labels.append(x)\n",
    "        sizes.append(y)\n",
    "        print('{0} %: {1}'.format(x,(y/5000)*100))\n",
    "    \n",
    "    plt.pie(sizes, labels=labels)   \n",
    "    plt.axis('equal')\n",
    "    plt.show()"
   ]
  },
  {
   "cell_type": "code",
   "execution_count": 246,
   "metadata": {},
   "outputs": [
    {
     "data": {
      "text/plain": [
       "{'native country present': 94, 'native country missing': 4906}"
      ]
     },
     "execution_count": 246,
     "metadata": {},
     "output_type": "execute_result"
    }
   ],
   "source": [
    "# checking the number of citizens with missing native-country values\n",
    "missing_country_data = {'native country present' : (len(categorized_df[categorized_df['native-country'] == ' ?'])), \n",
    "                       'native country missing' : (len(categorized_df[categorized_df['native-country'] != ' ?']))}\n",
    "\n",
    "missing_country_data"
   ]
  },
  {
   "cell_type": "code",
   "execution_count": 247,
   "metadata": {},
   "outputs": [
    {
     "data": {
      "text/plain": [
       "{'occupation present': 280, 'occupation missing': 4720}"
      ]
     },
     "execution_count": 247,
     "metadata": {},
     "output_type": "execute_result"
    }
   ],
   "source": [
    "# checking the number of citizens with missing occupation values\n",
    "missing_occupation_data = {'occupation present' : (len(categorized_df[categorized_df['occupation'] == ' ?'])), \n",
    "                       'occupation missing' : (len(categorized_df[categorized_df['occupation'] != ' ?']))}\n",
    "\n",
    "missing_occupation_data"
   ]
  },
  {
   "cell_type": "code",
   "execution_count": 248,
   "metadata": {},
   "outputs": [
    {
     "data": {
      "text/plain": [
       "{'workclass present': 280, 'workclass missing': 4720}"
      ]
     },
     "execution_count": 248,
     "metadata": {},
     "output_type": "execute_result"
    }
   ],
   "source": [
    "# checking the number of citizens with missing working class values\n",
    "missing_workclass_data = {'workclass present' : (len(categorized_df[categorized_df['workclass'] == ' ?'])), \n",
    "                       'workclass missing' : (len(categorized_df[categorized_df['workclass'] != ' ?']))}\n",
    "\n",
    "missing_workclass_data"
   ]
  },
  {
   "cell_type": "code",
   "execution_count": 249,
   "metadata": {},
   "outputs": [
    {
     "name": "stdout",
     "output_type": "stream",
     "text": [
      "native country present %: 1.8800000000000001\n",
      "native country missing %: 98.11999999999999\n"
     ]
    },
    {
     "data": {
      "image/png": "[encoded data removed]",
      "text/plain": [
       "<Figure size 432x288 with 1 Axes>"
      ]
     },
     "metadata": {},
     "output_type": "display_data"
    },
    {
     "name": "stdout",
     "output_type": "stream",
     "text": [
      "occupation present %: 5.6000000000000005\n",
      "occupation missing %: 94.39999999999999\n"
     ]
    },
    {
     "data": {
      "image/png": "[encoded data removed]",
      "text/plain": [
       "<Figure size 432x288 with 1 Axes>"
      ]
     },
     "metadata": {},
     "output_type": "display_data"
    },
    {
     "name": "stdout",
     "output_type": "stream",
     "text": [
      "workclass present %: 5.6000000000000005\n",
      "workclass missing %: 94.39999999999999\n"
     ]
    },
    {
     "data": {
      "image/png": "[encoded data removed]",
      "text/plain": [
       "<Figure size 432x288 with 1 Axes>"
      ]
     },
     "metadata": {},
     "output_type": "display_data"
    }
   ],
   "source": [
    "missingValDetails(missing_country_data)\n",
    "missingValDetails(missing_occupation_data)\n",
    "missingValDetails(missing_workclass_data)"
   ]
  },
  {
   "cell_type": "markdown",
   "metadata": {},
   "source": [
    "The <i><b>‘?’</b></i> character is used to depict missing values and occurs in the native country, workclass and occupation categories. An fascinating observation is that there is the exact same number of missing values in the workclass and occupation columns, which could suggest that a missing value in occupation implies a missing value in workclass. Here we will investigate this."
   ]
  },
  {
   "cell_type": "code",
   "execution_count": 250,
   "metadata": {},
   "outputs": [
    {
     "data": {
      "text/html": [
       "<div>\n",
       "<style scoped>\n",
       "    .dataframe tbody tr th:only-of-type {\n",
       "        vertical-align: middle;\n",
       "    }\n",
       "\n",
       "    .dataframe tbody tr th {\n",
       "        vertical-align: top;\n",
       "    }\n",
       "\n",
       "    .dataframe thead th {\n",
       "        text-align: right;\n",
       "    }\n",
       "</style>\n",
       "<table border=\"1\" class=\"dataframe\">\n",
       "  <thead>\n",
       "    <tr style=\"text-align: right;\">\n",
       "      <th></th>\n",
       "      <th>age</th>\n",
       "      <th>workclass</th>\n",
       "      <th>education</th>\n",
       "      <th>marital-status</th>\n",
       "      <th>occupation</th>\n",
       "      <th>relationship</th>\n",
       "      <th>race</th>\n",
       "      <th>sex</th>\n",
       "      <th>capital-gain</th>\n",
       "      <th>capital-loss</th>\n",
       "      <th>hours-per-week</th>\n",
       "      <th>native-country</th>\n",
       "      <th>Income-category</th>\n",
       "    </tr>\n",
       "  </thead>\n",
       "  <tbody>\n",
       "    <tr>\n",
       "      <th>13</th>\n",
       "      <td>26</td>\n",
       "      <td>?</td>\n",
       "      <td>13</td>\n",
       "      <td>Married-civ-spouse</td>\n",
       "      <td>?</td>\n",
       "      <td>Wife</td>\n",
       "      <td>White</td>\n",
       "      <td>Female</td>\n",
       "      <td>0</td>\n",
       "      <td>0</td>\n",
       "      <td>40</td>\n",
       "      <td>United-States</td>\n",
       "      <td>&lt;=50K</td>\n",
       "    </tr>\n",
       "    <tr>\n",
       "      <th>14</th>\n",
       "      <td>71</td>\n",
       "      <td>?</td>\n",
       "      <td>16</td>\n",
       "      <td>Married-civ-spouse</td>\n",
       "      <td>?</td>\n",
       "      <td>Husband</td>\n",
       "      <td>White</td>\n",
       "      <td>Male</td>\n",
       "      <td>0</td>\n",
       "      <td>0</td>\n",
       "      <td>10</td>\n",
       "      <td>United-States</td>\n",
       "      <td>&gt;50K</td>\n",
       "    </tr>\n",
       "    <tr>\n",
       "      <th>29</th>\n",
       "      <td>32</td>\n",
       "      <td>?</td>\n",
       "      <td>10</td>\n",
       "      <td>Never-married</td>\n",
       "      <td>?</td>\n",
       "      <td>Unmarried</td>\n",
       "      <td>White</td>\n",
       "      <td>Female</td>\n",
       "      <td>0</td>\n",
       "      <td>0</td>\n",
       "      <td>40</td>\n",
       "      <td>United-States</td>\n",
       "      <td>&lt;=50K</td>\n",
       "    </tr>\n",
       "    <tr>\n",
       "      <th>46</th>\n",
       "      <td>25</td>\n",
       "      <td>?</td>\n",
       "      <td>13</td>\n",
       "      <td>Never-married</td>\n",
       "      <td>?</td>\n",
       "      <td>Own-child</td>\n",
       "      <td>White</td>\n",
       "      <td>Female</td>\n",
       "      <td>0</td>\n",
       "      <td>0</td>\n",
       "      <td>30</td>\n",
       "      <td>United-States</td>\n",
       "      <td>&lt;=50K</td>\n",
       "    </tr>\n",
       "    <tr>\n",
       "      <th>52</th>\n",
       "      <td>67</td>\n",
       "      <td>?</td>\n",
       "      <td>9</td>\n",
       "      <td>Widowed</td>\n",
       "      <td>?</td>\n",
       "      <td>Not-in-family</td>\n",
       "      <td>White</td>\n",
       "      <td>Male</td>\n",
       "      <td>1086</td>\n",
       "      <td>0</td>\n",
       "      <td>35</td>\n",
       "      <td>United-States</td>\n",
       "      <td>&lt;=50K</td>\n",
       "    </tr>\n",
       "  </tbody>\n",
       "</table>\n",
       "</div>"
      ],
      "text/plain": [
       "    age workclass education       marital-status occupation    relationship  \\\n",
       "13   26         ?        13   Married-civ-spouse          ?            Wife   \n",
       "14   71         ?        16   Married-civ-spouse          ?         Husband   \n",
       "29   32         ?        10        Never-married          ?       Unmarried   \n",
       "46   25         ?        13        Never-married          ?       Own-child   \n",
       "52   67         ?         9              Widowed          ?   Not-in-family   \n",
       "\n",
       "      race      sex  capital-gain  capital-loss  hours-per-week  \\\n",
       "13   White   Female             0             0              40   \n",
       "14   White     Male             0             0              10   \n",
       "29   White   Female             0             0              40   \n",
       "46   White   Female             0             0              30   \n",
       "52   White     Male          1086             0              35   \n",
       "\n",
       "    native-country Income-category  \n",
       "13   United-States           <=50K  \n",
       "14   United-States            >50K  \n",
       "29   United-States           <=50K  \n",
       "46   United-States           <=50K  \n",
       "52   United-States           <=50K  "
      ]
     },
     "execution_count": 250,
     "metadata": {},
     "output_type": "execute_result"
    }
   ],
   "source": [
    "# Checking consistency of ? character in the occupation and workclass columns\n",
    "missing_occupation_vals = categorized_df[categorized_df['occupation'] == ' ?']\n",
    "missing_workclass_vals = categorized_df[categorized_df['workclass'] == ' ?']\n",
    "missing_occupation_vals.head()"
   ]
  },
  {
   "cell_type": "code",
   "execution_count": 251,
   "metadata": {},
   "outputs": [
    {
     "data": {
      "text/html": [
       "<div>\n",
       "<style scoped>\n",
       "    .dataframe tbody tr th:only-of-type {\n",
       "        vertical-align: middle;\n",
       "    }\n",
       "\n",
       "    .dataframe tbody tr th {\n",
       "        vertical-align: top;\n",
       "    }\n",
       "\n",
       "    .dataframe thead th {\n",
       "        text-align: right;\n",
       "    }\n",
       "</style>\n",
       "<table border=\"1\" class=\"dataframe\">\n",
       "  <thead>\n",
       "    <tr style=\"text-align: right;\">\n",
       "      <th></th>\n",
       "      <th>age</th>\n",
       "      <th>workclass</th>\n",
       "      <th>education</th>\n",
       "      <th>marital-status</th>\n",
       "      <th>occupation</th>\n",
       "      <th>relationship</th>\n",
       "      <th>race</th>\n",
       "      <th>sex</th>\n",
       "      <th>capital-gain</th>\n",
       "      <th>capital-loss</th>\n",
       "      <th>hours-per-week</th>\n",
       "      <th>native-country</th>\n",
       "      <th>Income-category</th>\n",
       "    </tr>\n",
       "  </thead>\n",
       "  <tbody>\n",
       "    <tr>\n",
       "      <th>13</th>\n",
       "      <td>26</td>\n",
       "      <td>?</td>\n",
       "      <td>13</td>\n",
       "      <td>Married-civ-spouse</td>\n",
       "      <td>?</td>\n",
       "      <td>Wife</td>\n",
       "      <td>White</td>\n",
       "      <td>Female</td>\n",
       "      <td>0</td>\n",
       "      <td>0</td>\n",
       "      <td>40</td>\n",
       "      <td>United-States</td>\n",
       "      <td>&lt;=50K</td>\n",
       "    </tr>\n",
       "    <tr>\n",
       "      <th>14</th>\n",
       "      <td>71</td>\n",
       "      <td>?</td>\n",
       "      <td>16</td>\n",
       "      <td>Married-civ-spouse</td>\n",
       "      <td>?</td>\n",
       "      <td>Husband</td>\n",
       "      <td>White</td>\n",
       "      <td>Male</td>\n",
       "      <td>0</td>\n",
       "      <td>0</td>\n",
       "      <td>10</td>\n",
       "      <td>United-States</td>\n",
       "      <td>&gt;50K</td>\n",
       "    </tr>\n",
       "    <tr>\n",
       "      <th>29</th>\n",
       "      <td>32</td>\n",
       "      <td>?</td>\n",
       "      <td>10</td>\n",
       "      <td>Never-married</td>\n",
       "      <td>?</td>\n",
       "      <td>Unmarried</td>\n",
       "      <td>White</td>\n",
       "      <td>Female</td>\n",
       "      <td>0</td>\n",
       "      <td>0</td>\n",
       "      <td>40</td>\n",
       "      <td>United-States</td>\n",
       "      <td>&lt;=50K</td>\n",
       "    </tr>\n",
       "    <tr>\n",
       "      <th>46</th>\n",
       "      <td>25</td>\n",
       "      <td>?</td>\n",
       "      <td>13</td>\n",
       "      <td>Never-married</td>\n",
       "      <td>?</td>\n",
       "      <td>Own-child</td>\n",
       "      <td>White</td>\n",
       "      <td>Female</td>\n",
       "      <td>0</td>\n",
       "      <td>0</td>\n",
       "      <td>30</td>\n",
       "      <td>United-States</td>\n",
       "      <td>&lt;=50K</td>\n",
       "    </tr>\n",
       "    <tr>\n",
       "      <th>52</th>\n",
       "      <td>67</td>\n",
       "      <td>?</td>\n",
       "      <td>9</td>\n",
       "      <td>Widowed</td>\n",
       "      <td>?</td>\n",
       "      <td>Not-in-family</td>\n",
       "      <td>White</td>\n",
       "      <td>Male</td>\n",
       "      <td>1086</td>\n",
       "      <td>0</td>\n",
       "      <td>35</td>\n",
       "      <td>United-States</td>\n",
       "      <td>&lt;=50K</td>\n",
       "    </tr>\n",
       "  </tbody>\n",
       "</table>\n",
       "</div>"
      ],
      "text/plain": [
       "    age workclass education       marital-status occupation    relationship  \\\n",
       "13   26         ?        13   Married-civ-spouse          ?            Wife   \n",
       "14   71         ?        16   Married-civ-spouse          ?         Husband   \n",
       "29   32         ?        10        Never-married          ?       Unmarried   \n",
       "46   25         ?        13        Never-married          ?       Own-child   \n",
       "52   67         ?         9              Widowed          ?   Not-in-family   \n",
       "\n",
       "      race      sex  capital-gain  capital-loss  hours-per-week  \\\n",
       "13   White   Female             0             0              40   \n",
       "14   White     Male             0             0              10   \n",
       "29   White   Female             0             0              40   \n",
       "46   White   Female             0             0              30   \n",
       "52   White     Male          1086             0              35   \n",
       "\n",
       "    native-country Income-category  \n",
       "13   United-States           <=50K  \n",
       "14   United-States            >50K  \n",
       "29   United-States           <=50K  \n",
       "46   United-States           <=50K  \n",
       "52   United-States           <=50K  "
      ]
     },
     "execution_count": 251,
     "metadata": {},
     "output_type": "execute_result"
    }
   ],
   "source": [
    "missing_workclass_vals.head()"
   ]
  },
  {
   "cell_type": "code",
   "execution_count": 252,
   "metadata": {},
   "outputs": [
    {
     "data": {
      "text/plain": [
       "Int64Index([  13,   14,   29,   46,   52,   57,   62,   72,   80,   90,\n",
       "            ...\n",
       "            4724, 4741, 4743, 4891, 4902, 4930, 4931, 4951, 4959, 4975],\n",
       "           dtype='int64', length=280)"
      ]
     },
     "execution_count": 252,
     "metadata": {},
     "output_type": "execute_result"
    }
   ],
   "source": [
    "missing_occupation_vals.index"
   ]
  },
  {
   "cell_type": "code",
   "execution_count": 253,
   "metadata": {},
   "outputs": [
    {
     "name": "stdout",
     "output_type": "stream",
     "text": [
      "True\n"
     ]
    }
   ],
   "source": [
    "# Checking if the indexes are the exact same for these two datasets \n",
    "# if all indexes are the same then \n",
    "comparison = missing_occupation_vals.index == missing_occupation_vals.index\n",
    "equal_arrays = comparison.all()\n",
    "\n",
    "print(equal_arrays)"
   ]
  },
  {
   "cell_type": "markdown",
   "metadata": {},
   "source": [
    "As predicted, workclass missing values are consistent with occupation missing values."
   ]
  },
  {
   "cell_type": "code",
   "execution_count": 254,
   "metadata": {},
   "outputs": [
    {
     "data": {
      "text/plain": [
       "94"
      ]
     },
     "execution_count": 254,
     "metadata": {},
     "output_type": "execute_result"
    }
   ],
   "source": [
    "missing_native_indexes = list(categorized_df[categorized_df['native-country'] == ' ?'].index)\n",
    "other_missing_indexes = list(missing_occupation_vals.index)\n",
    "len(missing_native_indexes)"
   ]
  },
  {
   "cell_type": "code",
   "execution_count": 255,
   "metadata": {},
   "outputs": [
    {
     "data": {
      "text/plain": [
       "89"
      ]
     },
     "execution_count": 255,
     "metadata": {},
     "output_type": "execute_result"
    }
   ],
   "source": [
    "# counting the inconsistencies between the missing native indexes and the occupation/workclass missing indexes\n",
    "difference_in_indexes = 0\n",
    "for native_index in missing_native_indexes:\n",
    "    if native_index not in other_missing_indexes:\n",
    "        difference_in_indexes += 1\n",
    "\n",
    "difference_in_indexes"
   ]
  },
  {
   "cell_type": "markdown",
   "metadata": {},
   "source": [
    "It appears that there is very little correlation between the missing native country values and the occupation/workclass missing values. Due to the consistency between the missing values in the occupation/workclass columns, as well as the relativley small number of missing \"native-country\" values, I'm going to delete these rows."
   ]
  },
  {
   "cell_type": "code",
   "execution_count": 256,
   "metadata": {},
   "outputs": [
    {
     "name": "stdout",
     "output_type": "stream",
     "text": [
      "369\n"
     ]
    },
    {
     "data": {
      "text/plain": [
       "(4631, 13)"
      ]
     },
     "execution_count": 256,
     "metadata": {},
     "output_type": "execute_result"
    }
   ],
   "source": [
    "# Deleting rows containing missing values\n",
    "#combining missing_native_indexes and other_missing_indexes without duplication\n",
    "missing_indexes = (other_missing_indexes + list(set(missing_native_indexes) - set(other_missing_indexes)))\n",
    "print(len(missing_indexes))\n",
    "categorized_df = categorized_df.drop(missing_indexes)\n",
    "categorized_df.shape"
   ]
  },
  {
   "cell_type": "markdown",
   "metadata": {},
   "source": [
    "As we can now see there is no more unknown values in the dataset."
   ]
  },
  {
   "cell_type": "code",
   "execution_count": 257,
   "metadata": {},
   "outputs": [
    {
     "data": {
      "text/html": [
       "<div>\n",
       "<style scoped>\n",
       "    .dataframe tbody tr th:only-of-type {\n",
       "        vertical-align: middle;\n",
       "    }\n",
       "\n",
       "    .dataframe tbody tr th {\n",
       "        vertical-align: top;\n",
       "    }\n",
       "\n",
       "    .dataframe thead th {\n",
       "        text-align: right;\n",
       "    }\n",
       "</style>\n",
       "<table border=\"1\" class=\"dataframe\">\n",
       "  <thead>\n",
       "    <tr style=\"text-align: right;\">\n",
       "      <th></th>\n",
       "      <th>age</th>\n",
       "      <th>workclass</th>\n",
       "      <th>education</th>\n",
       "      <th>marital-status</th>\n",
       "      <th>occupation</th>\n",
       "      <th>relationship</th>\n",
       "      <th>race</th>\n",
       "      <th>sex</th>\n",
       "      <th>capital-gain</th>\n",
       "      <th>capital-loss</th>\n",
       "      <th>hours-per-week</th>\n",
       "      <th>native-country</th>\n",
       "      <th>Income-category</th>\n",
       "    </tr>\n",
       "  </thead>\n",
       "  <tbody>\n",
       "  </tbody>\n",
       "</table>\n",
       "</div>"
      ],
      "text/plain": [
       "Empty DataFrame\n",
       "Columns: [age, workclass, education, marital-status, occupation, relationship, race, sex, capital-gain, capital-loss, hours-per-week, native-country, Income-category]\n",
       "Index: []"
      ]
     },
     "execution_count": 257,
     "metadata": {},
     "output_type": "execute_result"
    }
   ],
   "source": [
    "categorized_df[categorized_df['workclass'] == ' ?']"
   ]
  },
  {
   "cell_type": "code",
   "execution_count": 258,
   "metadata": {},
   "outputs": [
    {
     "data": {
      "text/html": [
       "<div>\n",
       "<style scoped>\n",
       "    .dataframe tbody tr th:only-of-type {\n",
       "        vertical-align: middle;\n",
       "    }\n",
       "\n",
       "    .dataframe tbody tr th {\n",
       "        vertical-align: top;\n",
       "    }\n",
       "\n",
       "    .dataframe thead th {\n",
       "        text-align: right;\n",
       "    }\n",
       "</style>\n",
       "<table border=\"1\" class=\"dataframe\">\n",
       "  <thead>\n",
       "    <tr style=\"text-align: right;\">\n",
       "      <th></th>\n",
       "      <th>age</th>\n",
       "      <th>workclass</th>\n",
       "      <th>education</th>\n",
       "      <th>marital-status</th>\n",
       "      <th>occupation</th>\n",
       "      <th>relationship</th>\n",
       "      <th>race</th>\n",
       "      <th>sex</th>\n",
       "      <th>capital-gain</th>\n",
       "      <th>capital-loss</th>\n",
       "      <th>hours-per-week</th>\n",
       "      <th>native-country</th>\n",
       "      <th>Income-category</th>\n",
       "    </tr>\n",
       "  </thead>\n",
       "  <tbody>\n",
       "  </tbody>\n",
       "</table>\n",
       "</div>"
      ],
      "text/plain": [
       "Empty DataFrame\n",
       "Columns: [age, workclass, education, marital-status, occupation, relationship, race, sex, capital-gain, capital-loss, hours-per-week, native-country, Income-category]\n",
       "Index: []"
      ]
     },
     "execution_count": 258,
     "metadata": {},
     "output_type": "execute_result"
    }
   ],
   "source": [
    "categorized_df[categorized_df['occupation'] == ' ?']"
   ]
  },
  {
   "cell_type": "code",
   "execution_count": 259,
   "metadata": {},
   "outputs": [
    {
     "data": {
      "text/html": [
       "<div>\n",
       "<style scoped>\n",
       "    .dataframe tbody tr th:only-of-type {\n",
       "        vertical-align: middle;\n",
       "    }\n",
       "\n",
       "    .dataframe tbody tr th {\n",
       "        vertical-align: top;\n",
       "    }\n",
       "\n",
       "    .dataframe thead th {\n",
       "        text-align: right;\n",
       "    }\n",
       "</style>\n",
       "<table border=\"1\" class=\"dataframe\">\n",
       "  <thead>\n",
       "    <tr style=\"text-align: right;\">\n",
       "      <th></th>\n",
       "      <th>age</th>\n",
       "      <th>workclass</th>\n",
       "      <th>education</th>\n",
       "      <th>marital-status</th>\n",
       "      <th>occupation</th>\n",
       "      <th>relationship</th>\n",
       "      <th>race</th>\n",
       "      <th>sex</th>\n",
       "      <th>capital-gain</th>\n",
       "      <th>capital-loss</th>\n",
       "      <th>hours-per-week</th>\n",
       "      <th>native-country</th>\n",
       "      <th>Income-category</th>\n",
       "    </tr>\n",
       "  </thead>\n",
       "  <tbody>\n",
       "  </tbody>\n",
       "</table>\n",
       "</div>"
      ],
      "text/plain": [
       "Empty DataFrame\n",
       "Columns: [age, workclass, education, marital-status, occupation, relationship, race, sex, capital-gain, capital-loss, hours-per-week, native-country, Income-category]\n",
       "Index: []"
      ]
     },
     "execution_count": 259,
     "metadata": {},
     "output_type": "execute_result"
    }
   ],
   "source": [
    "categorized_df[categorized_df['native-country'] == ' ?']"
   ]
  },
  {
   "cell_type": "markdown",
   "metadata": {},
   "source": [
    "## Male and Female, 50,000 USD Threshold"
   ]
  },
  {
   "cell_type": "code",
   "execution_count": 260,
   "metadata": {},
   "outputs": [
    {
     "name": "stdout",
     "output_type": "stream",
     "text": [
      "1467 : 3164\n",
      "Percentages: 0.31677823364284174% : 0.6832217663571583%\n"
     ]
    },
    {
     "data": {
      "image/png": "[encoded data removed]",
      "text/plain": [
       "<Figure size 504x504 with 1 Axes>"
      ]
     },
     "metadata": {
      "needs_background": "light"
     },
     "output_type": "display_data"
    },
    {
     "name": "stdout",
     "output_type": "stream",
     "text": [
      "3454 : 1177\n",
      "Percentages: 0.7458432304038005% : 0.25415676959619954%\n"
     ]
    },
    {
     "data": {
      "image/png": "[encoded data removed]",
      "text/plain": [
       "<Figure size 504x504 with 1 Axes>"
      ]
     },
     "metadata": {
      "needs_background": "light"
     },
     "output_type": "display_data"
    }
   ],
   "source": [
    "def binaryComparion(column,heading):\n",
    "    vals = column.value_counts(dropna=False)\n",
    "    print('{0} : {1}'.format(vals[0], vals[1]))\n",
    "    val_sum = vals[0] + vals[1]\n",
    "    print('Percentages: {0}% : {1}%'.format(vals[0]/val_sum, vals[1]/val_sum))\n",
    "    vals.plot(kind='bar', title='', figsize=(7,7), rot=0)\n",
    "    plt.title(heading)\n",
    "    plt.show()\n",
    "    \n",
    "binaryComparion(categorized_df['sex'], 'Gender Comparison')\n",
    "binaryComparion(categorized_df['Income-category'], 'Income Category')"
   ]
  },
  {
   "cell_type": "markdown",
   "metadata": {},
   "source": [
    "We can see a 75% to 25% imbalance in the labelling column, infavour of <=50k."
   ]
  },
  {
   "cell_type": "code",
   "execution_count": 261,
   "metadata": {},
   "outputs": [
    {
     "data": {
      "text/plain": [
       "23    144\n",
       "25    143\n",
       "39    138\n",
       "32    132\n",
       "40    131\n",
       "     ... \n",
       "84      1\n",
       "88      1\n",
       "77      1\n",
       "85      1\n",
       "81      1\n",
       "Name: age, Length: 70, dtype: int64"
      ]
     },
     "execution_count": 261,
     "metadata": {},
     "output_type": "execute_result"
    }
   ],
   "source": [
    "age_distribution = categorized_df['age'].value_counts(dropna=False)\n",
    "age_distribution"
   ]
  },
  {
   "cell_type": "code",
   "execution_count": 262,
   "metadata": {
    "scrolled": true
   },
   "outputs": [
    {
     "data": {
      "image/png": "[encoded data removed]",
      "text/plain": [
       "<Figure size 432x288 with 1 Axes>"
      ]
     },
     "metadata": {
      "needs_background": "light"
     },
     "output_type": "display_data"
    }
   ],
   "source": [
    "age_distribution = age_distribution.sort_index()\n",
    "\n",
    "plt.plot(age_distribution)\n",
    "plt.title('Number of People per Age')\n",
    "plt.xlabel('Age')\n",
    "plt.ylabel('No. People')\n",
    "plt.show()"
   ]
  },
  {
   "cell_type": "markdown",
   "metadata": {},
   "source": [
    "Most people in this dataset seem to be between 20 and 50 years of age"
   ]
  },
  {
   "cell_type": "code",
   "execution_count": 263,
   "metadata": {},
   "outputs": [
    {
     "data": {
      "text/plain": [
       "age                   int64\n",
       "workclass          category\n",
       "education          category\n",
       "marital-status     category\n",
       "occupation         category\n",
       "relationship       category\n",
       "race               category\n",
       "sex                category\n",
       "capital-gain          int64\n",
       "capital-loss          int64\n",
       "hours-per-week        int64\n",
       "native-country     category\n",
       "Income-category    category\n",
       "dtype: object"
      ]
     },
     "execution_count": 263,
     "metadata": {},
     "output_type": "execute_result"
    }
   ],
   "source": [
    "categorized_df.dtypes"
   ]
  },
  {
   "cell_type": "code",
   "execution_count": 264,
   "metadata": {},
   "outputs": [
    {
     "data": {
      "text/html": [
       "<div>\n",
       "<style scoped>\n",
       "    .dataframe tbody tr th:only-of-type {\n",
       "        vertical-align: middle;\n",
       "    }\n",
       "\n",
       "    .dataframe tbody tr th {\n",
       "        vertical-align: top;\n",
       "    }\n",
       "\n",
       "    .dataframe thead th {\n",
       "        text-align: right;\n",
       "    }\n",
       "</style>\n",
       "<table border=\"1\" class=\"dataframe\">\n",
       "  <thead>\n",
       "    <tr style=\"text-align: right;\">\n",
       "      <th></th>\n",
       "      <th>age</th>\n",
       "      <th>workclass</th>\n",
       "      <th>education</th>\n",
       "      <th>marital-status</th>\n",
       "      <th>occupation</th>\n",
       "      <th>relationship</th>\n",
       "      <th>race</th>\n",
       "      <th>sex</th>\n",
       "      <th>capital-gain</th>\n",
       "      <th>capital-loss</th>\n",
       "      <th>hours-per-week</th>\n",
       "      <th>native-country</th>\n",
       "      <th>Income-category</th>\n",
       "    </tr>\n",
       "  </thead>\n",
       "  <tbody>\n",
       "    <tr>\n",
       "      <th>0</th>\n",
       "      <td>27</td>\n",
       "      <td>Private</td>\n",
       "      <td>10</td>\n",
       "      <td>Never-married</td>\n",
       "      <td>Sales</td>\n",
       "      <td>Own-child</td>\n",
       "      <td>White</td>\n",
       "      <td>Male</td>\n",
       "      <td>0</td>\n",
       "      <td>0</td>\n",
       "      <td>35</td>\n",
       "      <td>United-States</td>\n",
       "      <td>&lt;=50K</td>\n",
       "    </tr>\n",
       "    <tr>\n",
       "      <th>1</th>\n",
       "      <td>55</td>\n",
       "      <td>Private</td>\n",
       "      <td>9</td>\n",
       "      <td>Divorced</td>\n",
       "      <td>Craft-repair</td>\n",
       "      <td>Not-in-family</td>\n",
       "      <td>White</td>\n",
       "      <td>Male</td>\n",
       "      <td>0</td>\n",
       "      <td>0</td>\n",
       "      <td>40</td>\n",
       "      <td>United-States</td>\n",
       "      <td>&lt;=50K</td>\n",
       "    </tr>\n",
       "    <tr>\n",
       "      <th>2</th>\n",
       "      <td>46</td>\n",
       "      <td>Private</td>\n",
       "      <td>14</td>\n",
       "      <td>Married-civ-spouse</td>\n",
       "      <td>Exec-managerial</td>\n",
       "      <td>Husband</td>\n",
       "      <td>White</td>\n",
       "      <td>Male</td>\n",
       "      <td>0</td>\n",
       "      <td>0</td>\n",
       "      <td>50</td>\n",
       "      <td>United-States</td>\n",
       "      <td>&gt;50K</td>\n",
       "    </tr>\n",
       "    <tr>\n",
       "      <th>3</th>\n",
       "      <td>37</td>\n",
       "      <td>Private</td>\n",
       "      <td>9</td>\n",
       "      <td>Married-civ-spouse</td>\n",
       "      <td>Machine-op-inspct</td>\n",
       "      <td>Husband</td>\n",
       "      <td>White</td>\n",
       "      <td>Male</td>\n",
       "      <td>0</td>\n",
       "      <td>0</td>\n",
       "      <td>46</td>\n",
       "      <td>United-States</td>\n",
       "      <td>&lt;=50K</td>\n",
       "    </tr>\n",
       "    <tr>\n",
       "      <th>4</th>\n",
       "      <td>26</td>\n",
       "      <td>Private</td>\n",
       "      <td>10</td>\n",
       "      <td>Married-spouse-abs</td>\n",
       "      <td>Adm-clerical</td>\n",
       "      <td>Unmarried</td>\n",
       "      <td>White</td>\n",
       "      <td>Female</td>\n",
       "      <td>0</td>\n",
       "      <td>0</td>\n",
       "      <td>40</td>\n",
       "      <td>United-States</td>\n",
       "      <td>&lt;=50K</td>\n",
       "    </tr>\n",
       "    <tr>\n",
       "      <th>...</th>\n",
       "      <td>...</td>\n",
       "      <td>...</td>\n",
       "      <td>...</td>\n",
       "      <td>...</td>\n",
       "      <td>...</td>\n",
       "      <td>...</td>\n",
       "      <td>...</td>\n",
       "      <td>...</td>\n",
       "      <td>...</td>\n",
       "      <td>...</td>\n",
       "      <td>...</td>\n",
       "      <td>...</td>\n",
       "      <td>...</td>\n",
       "    </tr>\n",
       "    <tr>\n",
       "      <th>4995</th>\n",
       "      <td>30</td>\n",
       "      <td>Federal-gov</td>\n",
       "      <td>10</td>\n",
       "      <td>Never-married</td>\n",
       "      <td>Craft-repair</td>\n",
       "      <td>Not-in-family</td>\n",
       "      <td>White</td>\n",
       "      <td>Male</td>\n",
       "      <td>0</td>\n",
       "      <td>0</td>\n",
       "      <td>40</td>\n",
       "      <td>United-States</td>\n",
       "      <td>&lt;=50K</td>\n",
       "    </tr>\n",
       "    <tr>\n",
       "      <th>4996</th>\n",
       "      <td>34</td>\n",
       "      <td>Private</td>\n",
       "      <td>13</td>\n",
       "      <td>Never-married</td>\n",
       "      <td>Craft-repair</td>\n",
       "      <td>Unmarried</td>\n",
       "      <td>White</td>\n",
       "      <td>Male</td>\n",
       "      <td>0</td>\n",
       "      <td>0</td>\n",
       "      <td>40</td>\n",
       "      <td>United-States</td>\n",
       "      <td>&lt;=50K</td>\n",
       "    </tr>\n",
       "    <tr>\n",
       "      <th>4997</th>\n",
       "      <td>24</td>\n",
       "      <td>Private</td>\n",
       "      <td>9</td>\n",
       "      <td>Married-civ-spouse</td>\n",
       "      <td>Sales</td>\n",
       "      <td>Husband</td>\n",
       "      <td>White</td>\n",
       "      <td>Male</td>\n",
       "      <td>0</td>\n",
       "      <td>0</td>\n",
       "      <td>50</td>\n",
       "      <td>United-States</td>\n",
       "      <td>&lt;=50K</td>\n",
       "    </tr>\n",
       "    <tr>\n",
       "      <th>4998</th>\n",
       "      <td>33</td>\n",
       "      <td>Private</td>\n",
       "      <td>10</td>\n",
       "      <td>Never-married</td>\n",
       "      <td>Machine-op-inspct</td>\n",
       "      <td>Not-in-family</td>\n",
       "      <td>White</td>\n",
       "      <td>Male</td>\n",
       "      <td>0</td>\n",
       "      <td>0</td>\n",
       "      <td>40</td>\n",
       "      <td>United-States</td>\n",
       "      <td>&lt;=50K</td>\n",
       "    </tr>\n",
       "    <tr>\n",
       "      <th>4999</th>\n",
       "      <td>51</td>\n",
       "      <td>Private</td>\n",
       "      <td>10</td>\n",
       "      <td>Divorced</td>\n",
       "      <td>Sales</td>\n",
       "      <td>Not-in-family</td>\n",
       "      <td>White</td>\n",
       "      <td>Female</td>\n",
       "      <td>0</td>\n",
       "      <td>0</td>\n",
       "      <td>45</td>\n",
       "      <td>United-States</td>\n",
       "      <td>&gt;50K</td>\n",
       "    </tr>\n",
       "  </tbody>\n",
       "</table>\n",
       "<p>4631 rows × 13 columns</p>\n",
       "</div>"
      ],
      "text/plain": [
       "      age     workclass education       marital-status          occupation  \\\n",
       "0      27       Private        10        Never-married               Sales   \n",
       "1      55       Private         9             Divorced        Craft-repair   \n",
       "2      46       Private        14   Married-civ-spouse     Exec-managerial   \n",
       "3      37       Private         9   Married-civ-spouse   Machine-op-inspct   \n",
       "4      26       Private        10   Married-spouse-abs        Adm-clerical   \n",
       "...   ...           ...       ...                  ...                 ...   \n",
       "4995   30   Federal-gov        10        Never-married        Craft-repair   \n",
       "4996   34       Private        13        Never-married        Craft-repair   \n",
       "4997   24       Private         9   Married-civ-spouse               Sales   \n",
       "4998   33       Private        10        Never-married   Machine-op-inspct   \n",
       "4999   51       Private        10             Divorced               Sales   \n",
       "\n",
       "        relationship    race      sex  capital-gain  capital-loss  \\\n",
       "0          Own-child   White     Male             0             0   \n",
       "1      Not-in-family   White     Male             0             0   \n",
       "2            Husband   White     Male             0             0   \n",
       "3            Husband   White     Male             0             0   \n",
       "4          Unmarried   White   Female             0             0   \n",
       "...              ...     ...      ...           ...           ...   \n",
       "4995   Not-in-family   White     Male             0             0   \n",
       "4996       Unmarried   White     Male             0             0   \n",
       "4997         Husband   White     Male             0             0   \n",
       "4998   Not-in-family   White     Male             0             0   \n",
       "4999   Not-in-family   White   Female             0             0   \n",
       "\n",
       "      hours-per-week  native-country Income-category  \n",
       "0                 35   United-States           <=50K  \n",
       "1                 40   United-States           <=50K  \n",
       "2                 50   United-States            >50K  \n",
       "3                 46   United-States           <=50K  \n",
       "4                 40   United-States           <=50K  \n",
       "...              ...             ...             ...  \n",
       "4995              40   United-States           <=50K  \n",
       "4996              40   United-States           <=50K  \n",
       "4997              50   United-States           <=50K  \n",
       "4998              40   United-States           <=50K  \n",
       "4999              45   United-States            >50K  \n",
       "\n",
       "[4631 rows x 13 columns]"
      ]
     },
     "execution_count": 264,
     "metadata": {},
     "output_type": "execute_result"
    }
   ],
   "source": [
    "categorized_df"
   ]
  },
  {
   "cell_type": "markdown",
   "metadata": {},
   "source": [
    "### Reset row indexes after dropping rows"
   ]
  },
  {
   "cell_type": "code",
   "execution_count": 265,
   "metadata": {},
   "outputs": [
    {
     "data": {
      "text/html": [
       "<div>\n",
       "<style scoped>\n",
       "    .dataframe tbody tr th:only-of-type {\n",
       "        vertical-align: middle;\n",
       "    }\n",
       "\n",
       "    .dataframe tbody tr th {\n",
       "        vertical-align: top;\n",
       "    }\n",
       "\n",
       "    .dataframe thead th {\n",
       "        text-align: right;\n",
       "    }\n",
       "</style>\n",
       "<table border=\"1\" class=\"dataframe\">\n",
       "  <thead>\n",
       "    <tr style=\"text-align: right;\">\n",
       "      <th></th>\n",
       "      <th>age</th>\n",
       "      <th>workclass</th>\n",
       "      <th>education</th>\n",
       "      <th>marital-status</th>\n",
       "      <th>occupation</th>\n",
       "      <th>relationship</th>\n",
       "      <th>race</th>\n",
       "      <th>sex</th>\n",
       "      <th>capital-gain</th>\n",
       "      <th>capital-loss</th>\n",
       "      <th>hours-per-week</th>\n",
       "      <th>native-country</th>\n",
       "      <th>Income-category</th>\n",
       "    </tr>\n",
       "  </thead>\n",
       "  <tbody>\n",
       "    <tr>\n",
       "      <th>0</th>\n",
       "      <td>27</td>\n",
       "      <td>Private</td>\n",
       "      <td>10</td>\n",
       "      <td>Never-married</td>\n",
       "      <td>Sales</td>\n",
       "      <td>Own-child</td>\n",
       "      <td>White</td>\n",
       "      <td>Male</td>\n",
       "      <td>0</td>\n",
       "      <td>0</td>\n",
       "      <td>35</td>\n",
       "      <td>United-States</td>\n",
       "      <td>&lt;=50K</td>\n",
       "    </tr>\n",
       "    <tr>\n",
       "      <th>1</th>\n",
       "      <td>55</td>\n",
       "      <td>Private</td>\n",
       "      <td>9</td>\n",
       "      <td>Divorced</td>\n",
       "      <td>Craft-repair</td>\n",
       "      <td>Not-in-family</td>\n",
       "      <td>White</td>\n",
       "      <td>Male</td>\n",
       "      <td>0</td>\n",
       "      <td>0</td>\n",
       "      <td>40</td>\n",
       "      <td>United-States</td>\n",
       "      <td>&lt;=50K</td>\n",
       "    </tr>\n",
       "    <tr>\n",
       "      <th>2</th>\n",
       "      <td>46</td>\n",
       "      <td>Private</td>\n",
       "      <td>14</td>\n",
       "      <td>Married-civ-spouse</td>\n",
       "      <td>Exec-managerial</td>\n",
       "      <td>Husband</td>\n",
       "      <td>White</td>\n",
       "      <td>Male</td>\n",
       "      <td>0</td>\n",
       "      <td>0</td>\n",
       "      <td>50</td>\n",
       "      <td>United-States</td>\n",
       "      <td>&gt;50K</td>\n",
       "    </tr>\n",
       "    <tr>\n",
       "      <th>3</th>\n",
       "      <td>37</td>\n",
       "      <td>Private</td>\n",
       "      <td>9</td>\n",
       "      <td>Married-civ-spouse</td>\n",
       "      <td>Machine-op-inspct</td>\n",
       "      <td>Husband</td>\n",
       "      <td>White</td>\n",
       "      <td>Male</td>\n",
       "      <td>0</td>\n",
       "      <td>0</td>\n",
       "      <td>46</td>\n",
       "      <td>United-States</td>\n",
       "      <td>&lt;=50K</td>\n",
       "    </tr>\n",
       "    <tr>\n",
       "      <th>4</th>\n",
       "      <td>26</td>\n",
       "      <td>Private</td>\n",
       "      <td>10</td>\n",
       "      <td>Married-spouse-abs</td>\n",
       "      <td>Adm-clerical</td>\n",
       "      <td>Unmarried</td>\n",
       "      <td>White</td>\n",
       "      <td>Female</td>\n",
       "      <td>0</td>\n",
       "      <td>0</td>\n",
       "      <td>40</td>\n",
       "      <td>United-States</td>\n",
       "      <td>&lt;=50K</td>\n",
       "    </tr>\n",
       "    <tr>\n",
       "      <th>...</th>\n",
       "      <td>...</td>\n",
       "      <td>...</td>\n",
       "      <td>...</td>\n",
       "      <td>...</td>\n",
       "      <td>...</td>\n",
       "      <td>...</td>\n",
       "      <td>...</td>\n",
       "      <td>...</td>\n",
       "      <td>...</td>\n",
       "      <td>...</td>\n",
       "      <td>...</td>\n",
       "      <td>...</td>\n",
       "      <td>...</td>\n",
       "    </tr>\n",
       "    <tr>\n",
       "      <th>4626</th>\n",
       "      <td>30</td>\n",
       "      <td>Federal-gov</td>\n",
       "      <td>10</td>\n",
       "      <td>Never-married</td>\n",
       "      <td>Craft-repair</td>\n",
       "      <td>Not-in-family</td>\n",
       "      <td>White</td>\n",
       "      <td>Male</td>\n",
       "      <td>0</td>\n",
       "      <td>0</td>\n",
       "      <td>40</td>\n",
       "      <td>United-States</td>\n",
       "      <td>&lt;=50K</td>\n",
       "    </tr>\n",
       "    <tr>\n",
       "      <th>4627</th>\n",
       "      <td>34</td>\n",
       "      <td>Private</td>\n",
       "      <td>13</td>\n",
       "      <td>Never-married</td>\n",
       "      <td>Craft-repair</td>\n",
       "      <td>Unmarried</td>\n",
       "      <td>White</td>\n",
       "      <td>Male</td>\n",
       "      <td>0</td>\n",
       "      <td>0</td>\n",
       "      <td>40</td>\n",
       "      <td>United-States</td>\n",
       "      <td>&lt;=50K</td>\n",
       "    </tr>\n",
       "    <tr>\n",
       "      <th>4628</th>\n",
       "      <td>24</td>\n",
       "      <td>Private</td>\n",
       "      <td>9</td>\n",
       "      <td>Married-civ-spouse</td>\n",
       "      <td>Sales</td>\n",
       "      <td>Husband</td>\n",
       "      <td>White</td>\n",
       "      <td>Male</td>\n",
       "      <td>0</td>\n",
       "      <td>0</td>\n",
       "      <td>50</td>\n",
       "      <td>United-States</td>\n",
       "      <td>&lt;=50K</td>\n",
       "    </tr>\n",
       "    <tr>\n",
       "      <th>4629</th>\n",
       "      <td>33</td>\n",
       "      <td>Private</td>\n",
       "      <td>10</td>\n",
       "      <td>Never-married</td>\n",
       "      <td>Machine-op-inspct</td>\n",
       "      <td>Not-in-family</td>\n",
       "      <td>White</td>\n",
       "      <td>Male</td>\n",
       "      <td>0</td>\n",
       "      <td>0</td>\n",
       "      <td>40</td>\n",
       "      <td>United-States</td>\n",
       "      <td>&lt;=50K</td>\n",
       "    </tr>\n",
       "    <tr>\n",
       "      <th>4630</th>\n",
       "      <td>51</td>\n",
       "      <td>Private</td>\n",
       "      <td>10</td>\n",
       "      <td>Divorced</td>\n",
       "      <td>Sales</td>\n",
       "      <td>Not-in-family</td>\n",
       "      <td>White</td>\n",
       "      <td>Female</td>\n",
       "      <td>0</td>\n",
       "      <td>0</td>\n",
       "      <td>45</td>\n",
       "      <td>United-States</td>\n",
       "      <td>&gt;50K</td>\n",
       "    </tr>\n",
       "  </tbody>\n",
       "</table>\n",
       "<p>4631 rows × 13 columns</p>\n",
       "</div>"
      ],
      "text/plain": [
       "      age     workclass education       marital-status          occupation  \\\n",
       "0      27       Private        10        Never-married               Sales   \n",
       "1      55       Private         9             Divorced        Craft-repair   \n",
       "2      46       Private        14   Married-civ-spouse     Exec-managerial   \n",
       "3      37       Private         9   Married-civ-spouse   Machine-op-inspct   \n",
       "4      26       Private        10   Married-spouse-abs        Adm-clerical   \n",
       "...   ...           ...       ...                  ...                 ...   \n",
       "4626   30   Federal-gov        10        Never-married        Craft-repair   \n",
       "4627   34       Private        13        Never-married        Craft-repair   \n",
       "4628   24       Private         9   Married-civ-spouse               Sales   \n",
       "4629   33       Private        10        Never-married   Machine-op-inspct   \n",
       "4630   51       Private        10             Divorced               Sales   \n",
       "\n",
       "        relationship    race      sex  capital-gain  capital-loss  \\\n",
       "0          Own-child   White     Male             0             0   \n",
       "1      Not-in-family   White     Male             0             0   \n",
       "2            Husband   White     Male             0             0   \n",
       "3            Husband   White     Male             0             0   \n",
       "4          Unmarried   White   Female             0             0   \n",
       "...              ...     ...      ...           ...           ...   \n",
       "4626   Not-in-family   White     Male             0             0   \n",
       "4627       Unmarried   White     Male             0             0   \n",
       "4628         Husband   White     Male             0             0   \n",
       "4629   Not-in-family   White     Male             0             0   \n",
       "4630   Not-in-family   White   Female             0             0   \n",
       "\n",
       "      hours-per-week  native-country Income-category  \n",
       "0                 35   United-States           <=50K  \n",
       "1                 40   United-States           <=50K  \n",
       "2                 50   United-States            >50K  \n",
       "3                 46   United-States           <=50K  \n",
       "4                 40   United-States           <=50K  \n",
       "...              ...             ...             ...  \n",
       "4626              40   United-States           <=50K  \n",
       "4627              40   United-States           <=50K  \n",
       "4628              50   United-States           <=50K  \n",
       "4629              40   United-States           <=50K  \n",
       "4630              45   United-States            >50K  \n",
       "\n",
       "[4631 rows x 13 columns]"
      ]
     },
     "execution_count": 265,
     "metadata": {},
     "output_type": "execute_result"
    }
   ],
   "source": [
    "categorized_df.reset_index(inplace=True, drop=True)\n",
    "categorized_df"
   ]
  },
  {
   "cell_type": "code",
   "execution_count": 266,
   "metadata": {},
   "outputs": [
    {
     "data": {
      "text/html": [
       "<div>\n",
       "<style scoped>\n",
       "    .dataframe tbody tr th:only-of-type {\n",
       "        vertical-align: middle;\n",
       "    }\n",
       "\n",
       "    .dataframe tbody tr th {\n",
       "        vertical-align: top;\n",
       "    }\n",
       "\n",
       "    .dataframe thead th {\n",
       "        text-align: right;\n",
       "    }\n",
       "</style>\n",
       "<table border=\"1\" class=\"dataframe\">\n",
       "  <thead>\n",
       "    <tr style=\"text-align: right;\">\n",
       "      <th></th>\n",
       "      <th>age</th>\n",
       "      <th>capital-gain</th>\n",
       "      <th>capital-loss</th>\n",
       "      <th>hours-per-week</th>\n",
       "    </tr>\n",
       "  </thead>\n",
       "  <tbody>\n",
       "    <tr>\n",
       "      <th>count</th>\n",
       "      <td>4631.000000</td>\n",
       "      <td>4631.000000</td>\n",
       "      <td>4631.000000</td>\n",
       "      <td>4631.000000</td>\n",
       "    </tr>\n",
       "    <tr>\n",
       "      <th>mean</th>\n",
       "      <td>38.434679</td>\n",
       "      <td>950.045778</td>\n",
       "      <td>87.977327</td>\n",
       "      <td>40.751458</td>\n",
       "    </tr>\n",
       "    <tr>\n",
       "      <th>std</th>\n",
       "      <td>13.200972</td>\n",
       "      <td>6346.634970</td>\n",
       "      <td>400.500609</td>\n",
       "      <td>11.803438</td>\n",
       "    </tr>\n",
       "    <tr>\n",
       "      <th>min</th>\n",
       "      <td>17.000000</td>\n",
       "      <td>0.000000</td>\n",
       "      <td>0.000000</td>\n",
       "      <td>1.000000</td>\n",
       "    </tr>\n",
       "    <tr>\n",
       "      <th>25%</th>\n",
       "      <td>28.000000</td>\n",
       "      <td>0.000000</td>\n",
       "      <td>0.000000</td>\n",
       "      <td>40.000000</td>\n",
       "    </tr>\n",
       "    <tr>\n",
       "      <th>50%</th>\n",
       "      <td>37.000000</td>\n",
       "      <td>0.000000</td>\n",
       "      <td>0.000000</td>\n",
       "      <td>40.000000</td>\n",
       "    </tr>\n",
       "    <tr>\n",
       "      <th>75%</th>\n",
       "      <td>47.000000</td>\n",
       "      <td>0.000000</td>\n",
       "      <td>0.000000</td>\n",
       "      <td>45.000000</td>\n",
       "    </tr>\n",
       "    <tr>\n",
       "      <th>max</th>\n",
       "      <td>90.000000</td>\n",
       "      <td>99999.000000</td>\n",
       "      <td>3683.000000</td>\n",
       "      <td>99.000000</td>\n",
       "    </tr>\n",
       "  </tbody>\n",
       "</table>\n",
       "</div>"
      ],
      "text/plain": [
       "               age  capital-gain  capital-loss  hours-per-week\n",
       "count  4631.000000   4631.000000   4631.000000     4631.000000\n",
       "mean     38.434679    950.045778     87.977327       40.751458\n",
       "std      13.200972   6346.634970    400.500609       11.803438\n",
       "min      17.000000      0.000000      0.000000        1.000000\n",
       "25%      28.000000      0.000000      0.000000       40.000000\n",
       "50%      37.000000      0.000000      0.000000       40.000000\n",
       "75%      47.000000      0.000000      0.000000       45.000000\n",
       "max      90.000000  99999.000000   3683.000000       99.000000"
      ]
     },
     "execution_count": 266,
     "metadata": {},
     "output_type": "execute_result"
    }
   ],
   "source": [
    "categorized_df.describe()"
   ]
  },
  {
   "cell_type": "markdown",
   "metadata": {},
   "source": [
    "### Summary of the issues in data and potential handling strategies"
   ]
  },
  {
   "cell_type": "markdown",
   "metadata": {},
   "source": [
    "## Normalisation\n",
    "To evaluate our dataset, we will have to normalize the numerical data and encode the categorical data."
   ]
  },
  {
   "cell_type": "code",
   "execution_count": 267,
   "metadata": {},
   "outputs": [
    {
     "data": {
      "text/plain": [
       "Index(['workclass', 'education', 'marital-status', 'occupation',\n",
       "       'relationship', 'race', 'sex', 'native-country', 'Income-category'],\n",
       "      dtype='object')"
      ]
     },
     "execution_count": 267,
     "metadata": {},
     "output_type": "execute_result"
    }
   ],
   "source": [
    "# splitting data by type\n",
    "categorical_columns = categorized_df.select_dtypes(['category']).columns \n",
    "integer_columns = categorized_df.select_dtypes(['int64']).columns \n",
    "categorical_columns"
   ]
  },
  {
   "cell_type": "markdown",
   "metadata": {},
   "source": [
    "Encoding the target"
   ]
  },
  {
   "cell_type": "code",
   "execution_count": 268,
   "metadata": {},
   "outputs": [
    {
     "data": {
      "text/plain": [
       "0     <=50K\n",
       "1     <=50K\n",
       "2      >50K\n",
       "3     <=50K\n",
       "4     <=50K\n",
       "5      >50K\n",
       "6     <=50K\n",
       "7     <=50K\n",
       "Name: Income-category, dtype: category\n",
       "Categories (2, object): [<=50K, >50K]"
      ]
     },
     "execution_count": 268,
     "metadata": {},
     "output_type": "execute_result"
    }
   ],
   "source": [
    "target = categorized_df.pop('Income-category')\n",
    "target.head(8)"
   ]
  },
  {
   "cell_type": "code",
   "execution_count": 269,
   "metadata": {},
   "outputs": [],
   "source": [
    "from graphviz import Source # required for printing decision trees in graphic format\n",
    "from sklearn.svm import SVC\n",
    "from sklearn.naive_bayes import GaussianNB\n",
    "from sklearn.neighbors import KNeighborsClassifier\n",
    "from sklearn.tree import DecisionTreeClassifier, export_graphviz\n",
    "\n",
    "# model utils\n",
    "from sklearn.metrics import accuracy_score\n",
    "from sklearn.preprocessing import LabelEncoder, OneHotEncoder\n",
    "from sklearn.model_selection import train_test_split\n",
    "from sklearn.compose import make_column_selector as selector"
   ]
  },
  {
   "cell_type": "code",
   "execution_count": 270,
   "metadata": {},
   "outputs": [
    {
     "data": {
      "text/plain": [
       "array([0, 0, 1, 0, 0, 1, 0, 0])"
      ]
     },
     "execution_count": 270,
     "metadata": {},
     "output_type": "execute_result"
    }
   ],
   "source": [
    "label_encoder = LabelEncoder()\n",
    "target_encoded = label_encoder.fit_transform(target) # returns array-like of shape target.shape[0]\n",
    "target_encoded[:8]"
   ]
  },
  {
   "cell_type": "markdown",
   "metadata": {},
   "source": [
    "To normalise the numerical data we are going to use <b><i>MinMaxScaler</i></b> to make sure each numeric column is within a common scale, without deviaiting from the actual ranges of the original data and the normaisled data."
   ]
  },
  {
   "cell_type": "code",
   "execution_count": 271,
   "metadata": {},
   "outputs": [
    {
     "data": {
      "text/html": [
       "<div>\n",
       "<style scoped>\n",
       "    .dataframe tbody tr th:only-of-type {\n",
       "        vertical-align: middle;\n",
       "    }\n",
       "\n",
       "    .dataframe tbody tr th {\n",
       "        vertical-align: top;\n",
       "    }\n",
       "\n",
       "    .dataframe thead th {\n",
       "        text-align: right;\n",
       "    }\n",
       "</style>\n",
       "<table border=\"1\" class=\"dataframe\">\n",
       "  <thead>\n",
       "    <tr style=\"text-align: right;\">\n",
       "      <th></th>\n",
       "      <th>age</th>\n",
       "      <th>workclass</th>\n",
       "      <th>education</th>\n",
       "      <th>marital-status</th>\n",
       "      <th>occupation</th>\n",
       "      <th>relationship</th>\n",
       "      <th>race</th>\n",
       "      <th>sex</th>\n",
       "      <th>capital-gain</th>\n",
       "      <th>capital-loss</th>\n",
       "      <th>hours-per-week</th>\n",
       "      <th>native-country</th>\n",
       "    </tr>\n",
       "  </thead>\n",
       "  <tbody>\n",
       "    <tr>\n",
       "      <th>0</th>\n",
       "      <td>0.136986</td>\n",
       "      <td>Private</td>\n",
       "      <td>10</td>\n",
       "      <td>Never-married</td>\n",
       "      <td>Sales</td>\n",
       "      <td>Own-child</td>\n",
       "      <td>White</td>\n",
       "      <td>Male</td>\n",
       "      <td>0.000000</td>\n",
       "      <td>0.0</td>\n",
       "      <td>0.346939</td>\n",
       "      <td>United-States</td>\n",
       "    </tr>\n",
       "    <tr>\n",
       "      <th>1</th>\n",
       "      <td>0.520548</td>\n",
       "      <td>Private</td>\n",
       "      <td>9</td>\n",
       "      <td>Divorced</td>\n",
       "      <td>Craft-repair</td>\n",
       "      <td>Not-in-family</td>\n",
       "      <td>White</td>\n",
       "      <td>Male</td>\n",
       "      <td>0.000000</td>\n",
       "      <td>0.0</td>\n",
       "      <td>0.397959</td>\n",
       "      <td>United-States</td>\n",
       "    </tr>\n",
       "    <tr>\n",
       "      <th>2</th>\n",
       "      <td>0.397260</td>\n",
       "      <td>Private</td>\n",
       "      <td>14</td>\n",
       "      <td>Married-civ-spouse</td>\n",
       "      <td>Exec-managerial</td>\n",
       "      <td>Husband</td>\n",
       "      <td>White</td>\n",
       "      <td>Male</td>\n",
       "      <td>0.000000</td>\n",
       "      <td>0.0</td>\n",
       "      <td>0.500000</td>\n",
       "      <td>United-States</td>\n",
       "    </tr>\n",
       "    <tr>\n",
       "      <th>3</th>\n",
       "      <td>0.273973</td>\n",
       "      <td>Private</td>\n",
       "      <td>9</td>\n",
       "      <td>Married-civ-spouse</td>\n",
       "      <td>Machine-op-inspct</td>\n",
       "      <td>Husband</td>\n",
       "      <td>White</td>\n",
       "      <td>Male</td>\n",
       "      <td>0.000000</td>\n",
       "      <td>0.0</td>\n",
       "      <td>0.459184</td>\n",
       "      <td>United-States</td>\n",
       "    </tr>\n",
       "    <tr>\n",
       "      <th>4</th>\n",
       "      <td>0.123288</td>\n",
       "      <td>Private</td>\n",
       "      <td>10</td>\n",
       "      <td>Married-spouse-abs</td>\n",
       "      <td>Adm-clerical</td>\n",
       "      <td>Unmarried</td>\n",
       "      <td>White</td>\n",
       "      <td>Female</td>\n",
       "      <td>0.000000</td>\n",
       "      <td>0.0</td>\n",
       "      <td>0.397959</td>\n",
       "      <td>United-States</td>\n",
       "    </tr>\n",
       "    <tr>\n",
       "      <th>5</th>\n",
       "      <td>0.273973</td>\n",
       "      <td>Local-gov</td>\n",
       "      <td>9</td>\n",
       "      <td>Married-civ-spouse</td>\n",
       "      <td>Protective-serv</td>\n",
       "      <td>Husband</td>\n",
       "      <td>White</td>\n",
       "      <td>Male</td>\n",
       "      <td>0.076881</td>\n",
       "      <td>0.0</td>\n",
       "      <td>0.346939</td>\n",
       "      <td>United-States</td>\n",
       "    </tr>\n",
       "    <tr>\n",
       "      <th>6</th>\n",
       "      <td>0.342466</td>\n",
       "      <td>Local-gov</td>\n",
       "      <td>9</td>\n",
       "      <td>Widowed</td>\n",
       "      <td>Transport-moving</td>\n",
       "      <td>Unmarried</td>\n",
       "      <td>White</td>\n",
       "      <td>Female</td>\n",
       "      <td>0.000000</td>\n",
       "      <td>0.0</td>\n",
       "      <td>0.397959</td>\n",
       "      <td>United-States</td>\n",
       "    </tr>\n",
       "    <tr>\n",
       "      <th>7</th>\n",
       "      <td>0.356164</td>\n",
       "      <td>Self-emp-inc</td>\n",
       "      <td>9</td>\n",
       "      <td>Never-married</td>\n",
       "      <td>Exec-managerial</td>\n",
       "      <td>Not-in-family</td>\n",
       "      <td>Black</td>\n",
       "      <td>Male</td>\n",
       "      <td>0.000000</td>\n",
       "      <td>0.0</td>\n",
       "      <td>0.551020</td>\n",
       "      <td>United-States</td>\n",
       "    </tr>\n",
       "    <tr>\n",
       "      <th>8</th>\n",
       "      <td>0.315068</td>\n",
       "      <td>Private</td>\n",
       "      <td>15</td>\n",
       "      <td>Never-married</td>\n",
       "      <td>Exec-managerial</td>\n",
       "      <td>Not-in-family</td>\n",
       "      <td>White</td>\n",
       "      <td>Female</td>\n",
       "      <td>0.000000</td>\n",
       "      <td>0.0</td>\n",
       "      <td>0.397959</td>\n",
       "      <td>Cuba</td>\n",
       "    </tr>\n",
       "    <tr>\n",
       "      <th>9</th>\n",
       "      <td>0.219178</td>\n",
       "      <td>Self-emp-not-inc</td>\n",
       "      <td>13</td>\n",
       "      <td>Married-civ-spouse</td>\n",
       "      <td>Sales</td>\n",
       "      <td>Husband</td>\n",
       "      <td>White</td>\n",
       "      <td>Male</td>\n",
       "      <td>0.072981</td>\n",
       "      <td>0.0</td>\n",
       "      <td>0.806122</td>\n",
       "      <td>United-States</td>\n",
       "    </tr>\n",
       "  </tbody>\n",
       "</table>\n",
       "</div>"
      ],
      "text/plain": [
       "        age          workclass education       marital-status  \\\n",
       "0  0.136986            Private        10        Never-married   \n",
       "1  0.520548            Private         9             Divorced   \n",
       "2  0.397260            Private        14   Married-civ-spouse   \n",
       "3  0.273973            Private         9   Married-civ-spouse   \n",
       "4  0.123288            Private        10   Married-spouse-abs   \n",
       "5  0.273973          Local-gov         9   Married-civ-spouse   \n",
       "6  0.342466          Local-gov         9              Widowed   \n",
       "7  0.356164       Self-emp-inc         9        Never-married   \n",
       "8  0.315068            Private        15        Never-married   \n",
       "9  0.219178   Self-emp-not-inc        13   Married-civ-spouse   \n",
       "\n",
       "           occupation    relationship    race      sex  capital-gain  \\\n",
       "0               Sales       Own-child   White     Male      0.000000   \n",
       "1        Craft-repair   Not-in-family   White     Male      0.000000   \n",
       "2     Exec-managerial         Husband   White     Male      0.000000   \n",
       "3   Machine-op-inspct         Husband   White     Male      0.000000   \n",
       "4        Adm-clerical       Unmarried   White   Female      0.000000   \n",
       "5     Protective-serv         Husband   White     Male      0.076881   \n",
       "6    Transport-moving       Unmarried   White   Female      0.000000   \n",
       "7     Exec-managerial   Not-in-family   Black     Male      0.000000   \n",
       "8     Exec-managerial   Not-in-family   White   Female      0.000000   \n",
       "9               Sales         Husband   White     Male      0.072981   \n",
       "\n",
       "   capital-loss  hours-per-week  native-country  \n",
       "0           0.0        0.346939   United-States  \n",
       "1           0.0        0.397959   United-States  \n",
       "2           0.0        0.500000   United-States  \n",
       "3           0.0        0.459184   United-States  \n",
       "4           0.0        0.397959   United-States  \n",
       "5           0.0        0.346939   United-States  \n",
       "6           0.0        0.397959   United-States  \n",
       "7           0.0        0.551020   United-States  \n",
       "8           0.0        0.397959            Cuba  \n",
       "9           0.0        0.806122   United-States  "
      ]
     },
     "execution_count": 271,
     "metadata": {},
     "output_type": "execute_result"
    }
   ],
   "source": [
    "from sklearn.preprocessing import MinMaxScaler\n",
    "scaler = MinMaxScaler()\n",
    "numeric_transformed = categorized_df\n",
    "numeric_transformed[integer_columns] = scaler.fit_transform(categorized_df[integer_columns])\n",
    "numeric_transformed.head(10)"
   ]
  },
  {
   "cell_type": "code",
   "execution_count": 272,
   "metadata": {},
   "outputs": [
    {
     "data": {
      "text/plain": [
       "(4631, 12)"
      ]
     },
     "execution_count": 272,
     "metadata": {},
     "output_type": "execute_result"
    }
   ],
   "source": [
    "numeric_transformed.shape"
   ]
  },
  {
   "cell_type": "markdown",
   "metadata": {},
   "source": [
    "In machine learning the <b><i>One-hot-encoder</i></b> encoding method is ideal for transforming categorical data."
   ]
  },
  {
   "cell_type": "code",
   "execution_count": 273,
   "metadata": {},
   "outputs": [
    {
     "name": "stdout",
     "output_type": "stream",
     "text": [
      "Index(['age', 'capital-gain', 'capital-loss', 'hours-per-week', 'workclass_ ?',\n",
      "       'workclass_ Federal-gov', 'workclass_ Local-gov', 'workclass_ Private',\n",
      "       'workclass_ Self-emp-inc', 'workclass_ Self-emp-not-inc',\n",
      "       ...\n",
      "       'native-country_ Portugal', 'native-country_ Puerto-Rico',\n",
      "       'native-country_ Scotland', 'native-country_ South',\n",
      "       'native-country_ Taiwan', 'native-country_ Thailand',\n",
      "       'native-country_ Trinadad&Tobago', 'native-country_ United-States',\n",
      "       'native-country_ Vietnam', 'native-country_ Yugoslavia'],\n",
      "      dtype='object', length=103)\n"
     ]
    },
    {
     "data": {
      "text/html": [
       "<div>\n",
       "<style scoped>\n",
       "    .dataframe tbody tr th:only-of-type {\n",
       "        vertical-align: middle;\n",
       "    }\n",
       "\n",
       "    .dataframe tbody tr th {\n",
       "        vertical-align: top;\n",
       "    }\n",
       "\n",
       "    .dataframe thead th {\n",
       "        text-align: right;\n",
       "    }\n",
       "</style>\n",
       "<table border=\"1\" class=\"dataframe\">\n",
       "  <thead>\n",
       "    <tr style=\"text-align: right;\">\n",
       "      <th></th>\n",
       "      <th>age</th>\n",
       "      <th>capital-gain</th>\n",
       "      <th>capital-loss</th>\n",
       "      <th>hours-per-week</th>\n",
       "      <th>workclass_ ?</th>\n",
       "      <th>workclass_ Federal-gov</th>\n",
       "      <th>workclass_ Local-gov</th>\n",
       "      <th>workclass_ Private</th>\n",
       "      <th>workclass_ Self-emp-inc</th>\n",
       "      <th>workclass_ Self-emp-not-inc</th>\n",
       "      <th>...</th>\n",
       "      <th>native-country_ Portugal</th>\n",
       "      <th>native-country_ Puerto-Rico</th>\n",
       "      <th>native-country_ Scotland</th>\n",
       "      <th>native-country_ South</th>\n",
       "      <th>native-country_ Taiwan</th>\n",
       "      <th>native-country_ Thailand</th>\n",
       "      <th>native-country_ Trinadad&amp;Tobago</th>\n",
       "      <th>native-country_ United-States</th>\n",
       "      <th>native-country_ Vietnam</th>\n",
       "      <th>native-country_ Yugoslavia</th>\n",
       "    </tr>\n",
       "  </thead>\n",
       "  <tbody>\n",
       "    <tr>\n",
       "      <th>0</th>\n",
       "      <td>0.136986</td>\n",
       "      <td>0.000000</td>\n",
       "      <td>0.0</td>\n",
       "      <td>0.346939</td>\n",
       "      <td>0</td>\n",
       "      <td>0</td>\n",
       "      <td>0</td>\n",
       "      <td>1</td>\n",
       "      <td>0</td>\n",
       "      <td>0</td>\n",
       "      <td>...</td>\n",
       "      <td>0</td>\n",
       "      <td>0</td>\n",
       "      <td>0</td>\n",
       "      <td>0</td>\n",
       "      <td>0</td>\n",
       "      <td>0</td>\n",
       "      <td>0</td>\n",
       "      <td>1</td>\n",
       "      <td>0</td>\n",
       "      <td>0</td>\n",
       "    </tr>\n",
       "    <tr>\n",
       "      <th>1</th>\n",
       "      <td>0.520548</td>\n",
       "      <td>0.000000</td>\n",
       "      <td>0.0</td>\n",
       "      <td>0.397959</td>\n",
       "      <td>0</td>\n",
       "      <td>0</td>\n",
       "      <td>0</td>\n",
       "      <td>1</td>\n",
       "      <td>0</td>\n",
       "      <td>0</td>\n",
       "      <td>...</td>\n",
       "      <td>0</td>\n",
       "      <td>0</td>\n",
       "      <td>0</td>\n",
       "      <td>0</td>\n",
       "      <td>0</td>\n",
       "      <td>0</td>\n",
       "      <td>0</td>\n",
       "      <td>1</td>\n",
       "      <td>0</td>\n",
       "      <td>0</td>\n",
       "    </tr>\n",
       "    <tr>\n",
       "      <th>2</th>\n",
       "      <td>0.397260</td>\n",
       "      <td>0.000000</td>\n",
       "      <td>0.0</td>\n",
       "      <td>0.500000</td>\n",
       "      <td>0</td>\n",
       "      <td>0</td>\n",
       "      <td>0</td>\n",
       "      <td>1</td>\n",
       "      <td>0</td>\n",
       "      <td>0</td>\n",
       "      <td>...</td>\n",
       "      <td>0</td>\n",
       "      <td>0</td>\n",
       "      <td>0</td>\n",
       "      <td>0</td>\n",
       "      <td>0</td>\n",
       "      <td>0</td>\n",
       "      <td>0</td>\n",
       "      <td>1</td>\n",
       "      <td>0</td>\n",
       "      <td>0</td>\n",
       "    </tr>\n",
       "    <tr>\n",
       "      <th>3</th>\n",
       "      <td>0.273973</td>\n",
       "      <td>0.000000</td>\n",
       "      <td>0.0</td>\n",
       "      <td>0.459184</td>\n",
       "      <td>0</td>\n",
       "      <td>0</td>\n",
       "      <td>0</td>\n",
       "      <td>1</td>\n",
       "      <td>0</td>\n",
       "      <td>0</td>\n",
       "      <td>...</td>\n",
       "      <td>0</td>\n",
       "      <td>0</td>\n",
       "      <td>0</td>\n",
       "      <td>0</td>\n",
       "      <td>0</td>\n",
       "      <td>0</td>\n",
       "      <td>0</td>\n",
       "      <td>1</td>\n",
       "      <td>0</td>\n",
       "      <td>0</td>\n",
       "    </tr>\n",
       "    <tr>\n",
       "      <th>4</th>\n",
       "      <td>0.123288</td>\n",
       "      <td>0.000000</td>\n",
       "      <td>0.0</td>\n",
       "      <td>0.397959</td>\n",
       "      <td>0</td>\n",
       "      <td>0</td>\n",
       "      <td>0</td>\n",
       "      <td>1</td>\n",
       "      <td>0</td>\n",
       "      <td>0</td>\n",
       "      <td>...</td>\n",
       "      <td>0</td>\n",
       "      <td>0</td>\n",
       "      <td>0</td>\n",
       "      <td>0</td>\n",
       "      <td>0</td>\n",
       "      <td>0</td>\n",
       "      <td>0</td>\n",
       "      <td>1</td>\n",
       "      <td>0</td>\n",
       "      <td>0</td>\n",
       "    </tr>\n",
       "    <tr>\n",
       "      <th>5</th>\n",
       "      <td>0.273973</td>\n",
       "      <td>0.076881</td>\n",
       "      <td>0.0</td>\n",
       "      <td>0.346939</td>\n",
       "      <td>0</td>\n",
       "      <td>0</td>\n",
       "      <td>1</td>\n",
       "      <td>0</td>\n",
       "      <td>0</td>\n",
       "      <td>0</td>\n",
       "      <td>...</td>\n",
       "      <td>0</td>\n",
       "      <td>0</td>\n",
       "      <td>0</td>\n",
       "      <td>0</td>\n",
       "      <td>0</td>\n",
       "      <td>0</td>\n",
       "      <td>0</td>\n",
       "      <td>1</td>\n",
       "      <td>0</td>\n",
       "      <td>0</td>\n",
       "    </tr>\n",
       "    <tr>\n",
       "      <th>6</th>\n",
       "      <td>0.342466</td>\n",
       "      <td>0.000000</td>\n",
       "      <td>0.0</td>\n",
       "      <td>0.397959</td>\n",
       "      <td>0</td>\n",
       "      <td>0</td>\n",
       "      <td>1</td>\n",
       "      <td>0</td>\n",
       "      <td>0</td>\n",
       "      <td>0</td>\n",
       "      <td>...</td>\n",
       "      <td>0</td>\n",
       "      <td>0</td>\n",
       "      <td>0</td>\n",
       "      <td>0</td>\n",
       "      <td>0</td>\n",
       "      <td>0</td>\n",
       "      <td>0</td>\n",
       "      <td>1</td>\n",
       "      <td>0</td>\n",
       "      <td>0</td>\n",
       "    </tr>\n",
       "    <tr>\n",
       "      <th>7</th>\n",
       "      <td>0.356164</td>\n",
       "      <td>0.000000</td>\n",
       "      <td>0.0</td>\n",
       "      <td>0.551020</td>\n",
       "      <td>0</td>\n",
       "      <td>0</td>\n",
       "      <td>0</td>\n",
       "      <td>0</td>\n",
       "      <td>1</td>\n",
       "      <td>0</td>\n",
       "      <td>...</td>\n",
       "      <td>0</td>\n",
       "      <td>0</td>\n",
       "      <td>0</td>\n",
       "      <td>0</td>\n",
       "      <td>0</td>\n",
       "      <td>0</td>\n",
       "      <td>0</td>\n",
       "      <td>1</td>\n",
       "      <td>0</td>\n",
       "      <td>0</td>\n",
       "    </tr>\n",
       "    <tr>\n",
       "      <th>8</th>\n",
       "      <td>0.315068</td>\n",
       "      <td>0.000000</td>\n",
       "      <td>0.0</td>\n",
       "      <td>0.397959</td>\n",
       "      <td>0</td>\n",
       "      <td>0</td>\n",
       "      <td>0</td>\n",
       "      <td>1</td>\n",
       "      <td>0</td>\n",
       "      <td>0</td>\n",
       "      <td>...</td>\n",
       "      <td>0</td>\n",
       "      <td>0</td>\n",
       "      <td>0</td>\n",
       "      <td>0</td>\n",
       "      <td>0</td>\n",
       "      <td>0</td>\n",
       "      <td>0</td>\n",
       "      <td>0</td>\n",
       "      <td>0</td>\n",
       "      <td>0</td>\n",
       "    </tr>\n",
       "    <tr>\n",
       "      <th>9</th>\n",
       "      <td>0.219178</td>\n",
       "      <td>0.072981</td>\n",
       "      <td>0.0</td>\n",
       "      <td>0.806122</td>\n",
       "      <td>0</td>\n",
       "      <td>0</td>\n",
       "      <td>0</td>\n",
       "      <td>0</td>\n",
       "      <td>0</td>\n",
       "      <td>1</td>\n",
       "      <td>...</td>\n",
       "      <td>0</td>\n",
       "      <td>0</td>\n",
       "      <td>0</td>\n",
       "      <td>0</td>\n",
       "      <td>0</td>\n",
       "      <td>0</td>\n",
       "      <td>0</td>\n",
       "      <td>1</td>\n",
       "      <td>0</td>\n",
       "      <td>0</td>\n",
       "    </tr>\n",
       "  </tbody>\n",
       "</table>\n",
       "<p>10 rows × 103 columns</p>\n",
       "</div>"
      ],
      "text/plain": [
       "        age  capital-gain  capital-loss  hours-per-week  workclass_ ?  \\\n",
       "0  0.136986      0.000000           0.0        0.346939             0   \n",
       "1  0.520548      0.000000           0.0        0.397959             0   \n",
       "2  0.397260      0.000000           0.0        0.500000             0   \n",
       "3  0.273973      0.000000           0.0        0.459184             0   \n",
       "4  0.123288      0.000000           0.0        0.397959             0   \n",
       "5  0.273973      0.076881           0.0        0.346939             0   \n",
       "6  0.342466      0.000000           0.0        0.397959             0   \n",
       "7  0.356164      0.000000           0.0        0.551020             0   \n",
       "8  0.315068      0.000000           0.0        0.397959             0   \n",
       "9  0.219178      0.072981           0.0        0.806122             0   \n",
       "\n",
       "   workclass_ Federal-gov  workclass_ Local-gov  workclass_ Private  \\\n",
       "0                       0                     0                   1   \n",
       "1                       0                     0                   1   \n",
       "2                       0                     0                   1   \n",
       "3                       0                     0                   1   \n",
       "4                       0                     0                   1   \n",
       "5                       0                     1                   0   \n",
       "6                       0                     1                   0   \n",
       "7                       0                     0                   0   \n",
       "8                       0                     0                   1   \n",
       "9                       0                     0                   0   \n",
       "\n",
       "   workclass_ Self-emp-inc  workclass_ Self-emp-not-inc  ...  \\\n",
       "0                        0                            0  ...   \n",
       "1                        0                            0  ...   \n",
       "2                        0                            0  ...   \n",
       "3                        0                            0  ...   \n",
       "4                        0                            0  ...   \n",
       "5                        0                            0  ...   \n",
       "6                        0                            0  ...   \n",
       "7                        1                            0  ...   \n",
       "8                        0                            0  ...   \n",
       "9                        0                            1  ...   \n",
       "\n",
       "   native-country_ Portugal  native-country_ Puerto-Rico  \\\n",
       "0                         0                            0   \n",
       "1                         0                            0   \n",
       "2                         0                            0   \n",
       "3                         0                            0   \n",
       "4                         0                            0   \n",
       "5                         0                            0   \n",
       "6                         0                            0   \n",
       "7                         0                            0   \n",
       "8                         0                            0   \n",
       "9                         0                            0   \n",
       "\n",
       "   native-country_ Scotland  native-country_ South  native-country_ Taiwan  \\\n",
       "0                         0                      0                       0   \n",
       "1                         0                      0                       0   \n",
       "2                         0                      0                       0   \n",
       "3                         0                      0                       0   \n",
       "4                         0                      0                       0   \n",
       "5                         0                      0                       0   \n",
       "6                         0                      0                       0   \n",
       "7                         0                      0                       0   \n",
       "8                         0                      0                       0   \n",
       "9                         0                      0                       0   \n",
       "\n",
       "   native-country_ Thailand  native-country_ Trinadad&Tobago  \\\n",
       "0                         0                                0   \n",
       "1                         0                                0   \n",
       "2                         0                                0   \n",
       "3                         0                                0   \n",
       "4                         0                                0   \n",
       "5                         0                                0   \n",
       "6                         0                                0   \n",
       "7                         0                                0   \n",
       "8                         0                                0   \n",
       "9                         0                                0   \n",
       "\n",
       "   native-country_ United-States  native-country_ Vietnam  \\\n",
       "0                              1                        0   \n",
       "1                              1                        0   \n",
       "2                              1                        0   \n",
       "3                              1                        0   \n",
       "4                              1                        0   \n",
       "5                              1                        0   \n",
       "6                              1                        0   \n",
       "7                              1                        0   \n",
       "8                              0                        0   \n",
       "9                              1                        0   \n",
       "\n",
       "   native-country_ Yugoslavia  \n",
       "0                           0  \n",
       "1                           0  \n",
       "2                           0  \n",
       "3                           0  \n",
       "4                           0  \n",
       "5                           0  \n",
       "6                           0  \n",
       "7                           0  \n",
       "8                           0  \n",
       "9                           0  \n",
       "\n",
       "[10 rows x 103 columns]"
      ]
     },
     "execution_count": 273,
     "metadata": {},
     "output_type": "execute_result"
    }
   ],
   "source": [
    " "
   ]
  },
  {
   "cell_type": "code",
   "execution_count": 274,
   "metadata": {},
   "outputs": [],
   "source": [
    "#dropping feature names for missing values\n",
    "empty_cols = ['workclass_ ?','occupation_ ?', 'native-country_ ?' ]\n",
    "\n",
    "features_df1 = features.drop([empty_cols[0]], 1)\n",
    "features_df2 = features_df1.drop([empty_cols[1]], 1)\n",
    "features_df = features_df2.drop([empty_cols[2]], 1)"
   ]
  },
  {
   "cell_type": "code",
   "execution_count": 275,
   "metadata": {},
   "outputs": [
    {
     "name": "stdout",
     "output_type": "stream",
     "text": [
      "(4631, 100)\n"
     ]
    },
    {
     "data": {
      "text/html": [
       "<div>\n",
       "<style scoped>\n",
       "    .dataframe tbody tr th:only-of-type {\n",
       "        vertical-align: middle;\n",
       "    }\n",
       "\n",
       "    .dataframe tbody tr th {\n",
       "        vertical-align: top;\n",
       "    }\n",
       "\n",
       "    .dataframe thead th {\n",
       "        text-align: right;\n",
       "    }\n",
       "</style>\n",
       "<table border=\"1\" class=\"dataframe\">\n",
       "  <thead>\n",
       "    <tr style=\"text-align: right;\">\n",
       "      <th></th>\n",
       "      <th>age</th>\n",
       "      <th>capital-gain</th>\n",
       "      <th>capital-loss</th>\n",
       "      <th>hours-per-week</th>\n",
       "      <th>workclass_ Federal-gov</th>\n",
       "      <th>workclass_ Local-gov</th>\n",
       "      <th>workclass_ Private</th>\n",
       "      <th>workclass_ Self-emp-inc</th>\n",
       "      <th>workclass_ Self-emp-not-inc</th>\n",
       "      <th>workclass_ State-gov</th>\n",
       "      <th>...</th>\n",
       "      <th>native-country_ Portugal</th>\n",
       "      <th>native-country_ Puerto-Rico</th>\n",
       "      <th>native-country_ Scotland</th>\n",
       "      <th>native-country_ South</th>\n",
       "      <th>native-country_ Taiwan</th>\n",
       "      <th>native-country_ Thailand</th>\n",
       "      <th>native-country_ Trinadad&amp;Tobago</th>\n",
       "      <th>native-country_ United-States</th>\n",
       "      <th>native-country_ Vietnam</th>\n",
       "      <th>native-country_ Yugoslavia</th>\n",
       "    </tr>\n",
       "  </thead>\n",
       "  <tbody>\n",
       "    <tr>\n",
       "      <th>0</th>\n",
       "      <td>0.136986</td>\n",
       "      <td>0.0</td>\n",
       "      <td>0.0</td>\n",
       "      <td>0.346939</td>\n",
       "      <td>0</td>\n",
       "      <td>0</td>\n",
       "      <td>1</td>\n",
       "      <td>0</td>\n",
       "      <td>0</td>\n",
       "      <td>0</td>\n",
       "      <td>...</td>\n",
       "      <td>0</td>\n",
       "      <td>0</td>\n",
       "      <td>0</td>\n",
       "      <td>0</td>\n",
       "      <td>0</td>\n",
       "      <td>0</td>\n",
       "      <td>0</td>\n",
       "      <td>1</td>\n",
       "      <td>0</td>\n",
       "      <td>0</td>\n",
       "    </tr>\n",
       "    <tr>\n",
       "      <th>1</th>\n",
       "      <td>0.520548</td>\n",
       "      <td>0.0</td>\n",
       "      <td>0.0</td>\n",
       "      <td>0.397959</td>\n",
       "      <td>0</td>\n",
       "      <td>0</td>\n",
       "      <td>1</td>\n",
       "      <td>0</td>\n",
       "      <td>0</td>\n",
       "      <td>0</td>\n",
       "      <td>...</td>\n",
       "      <td>0</td>\n",
       "      <td>0</td>\n",
       "      <td>0</td>\n",
       "      <td>0</td>\n",
       "      <td>0</td>\n",
       "      <td>0</td>\n",
       "      <td>0</td>\n",
       "      <td>1</td>\n",
       "      <td>0</td>\n",
       "      <td>0</td>\n",
       "    </tr>\n",
       "    <tr>\n",
       "      <th>2</th>\n",
       "      <td>0.397260</td>\n",
       "      <td>0.0</td>\n",
       "      <td>0.0</td>\n",
       "      <td>0.500000</td>\n",
       "      <td>0</td>\n",
       "      <td>0</td>\n",
       "      <td>1</td>\n",
       "      <td>0</td>\n",
       "      <td>0</td>\n",
       "      <td>0</td>\n",
       "      <td>...</td>\n",
       "      <td>0</td>\n",
       "      <td>0</td>\n",
       "      <td>0</td>\n",
       "      <td>0</td>\n",
       "      <td>0</td>\n",
       "      <td>0</td>\n",
       "      <td>0</td>\n",
       "      <td>1</td>\n",
       "      <td>0</td>\n",
       "      <td>0</td>\n",
       "    </tr>\n",
       "    <tr>\n",
       "      <th>3</th>\n",
       "      <td>0.273973</td>\n",
       "      <td>0.0</td>\n",
       "      <td>0.0</td>\n",
       "      <td>0.459184</td>\n",
       "      <td>0</td>\n",
       "      <td>0</td>\n",
       "      <td>1</td>\n",
       "      <td>0</td>\n",
       "      <td>0</td>\n",
       "      <td>0</td>\n",
       "      <td>...</td>\n",
       "      <td>0</td>\n",
       "      <td>0</td>\n",
       "      <td>0</td>\n",
       "      <td>0</td>\n",
       "      <td>0</td>\n",
       "      <td>0</td>\n",
       "      <td>0</td>\n",
       "      <td>1</td>\n",
       "      <td>0</td>\n",
       "      <td>0</td>\n",
       "    </tr>\n",
       "    <tr>\n",
       "      <th>4</th>\n",
       "      <td>0.123288</td>\n",
       "      <td>0.0</td>\n",
       "      <td>0.0</td>\n",
       "      <td>0.397959</td>\n",
       "      <td>0</td>\n",
       "      <td>0</td>\n",
       "      <td>1</td>\n",
       "      <td>0</td>\n",
       "      <td>0</td>\n",
       "      <td>0</td>\n",
       "      <td>...</td>\n",
       "      <td>0</td>\n",
       "      <td>0</td>\n",
       "      <td>0</td>\n",
       "      <td>0</td>\n",
       "      <td>0</td>\n",
       "      <td>0</td>\n",
       "      <td>0</td>\n",
       "      <td>1</td>\n",
       "      <td>0</td>\n",
       "      <td>0</td>\n",
       "    </tr>\n",
       "  </tbody>\n",
       "</table>\n",
       "<p>5 rows × 100 columns</p>\n",
       "</div>"
      ],
      "text/plain": [
       "        age  capital-gain  capital-loss  hours-per-week  \\\n",
       "0  0.136986           0.0           0.0        0.346939   \n",
       "1  0.520548           0.0           0.0        0.397959   \n",
       "2  0.397260           0.0           0.0        0.500000   \n",
       "3  0.273973           0.0           0.0        0.459184   \n",
       "4  0.123288           0.0           0.0        0.397959   \n",
       "\n",
       "   workclass_ Federal-gov  workclass_ Local-gov  workclass_ Private  \\\n",
       "0                       0                     0                   1   \n",
       "1                       0                     0                   1   \n",
       "2                       0                     0                   1   \n",
       "3                       0                     0                   1   \n",
       "4                       0                     0                   1   \n",
       "\n",
       "   workclass_ Self-emp-inc  workclass_ Self-emp-not-inc  workclass_ State-gov  \\\n",
       "0                        0                            0                     0   \n",
       "1                        0                            0                     0   \n",
       "2                        0                            0                     0   \n",
       "3                        0                            0                     0   \n",
       "4                        0                            0                     0   \n",
       "\n",
       "   ...  native-country_ Portugal  native-country_ Puerto-Rico  \\\n",
       "0  ...                         0                            0   \n",
       "1  ...                         0                            0   \n",
       "2  ...                         0                            0   \n",
       "3  ...                         0                            0   \n",
       "4  ...                         0                            0   \n",
       "\n",
       "   native-country_ Scotland  native-country_ South  native-country_ Taiwan  \\\n",
       "0                         0                      0                       0   \n",
       "1                         0                      0                       0   \n",
       "2                         0                      0                       0   \n",
       "3                         0                      0                       0   \n",
       "4                         0                      0                       0   \n",
       "\n",
       "   native-country_ Thailand  native-country_ Trinadad&Tobago  \\\n",
       "0                         0                                0   \n",
       "1                         0                                0   \n",
       "2                         0                                0   \n",
       "3                         0                                0   \n",
       "4                         0                                0   \n",
       "\n",
       "   native-country_ United-States  native-country_ Vietnam  \\\n",
       "0                              1                        0   \n",
       "1                              1                        0   \n",
       "2                              1                        0   \n",
       "3                              1                        0   \n",
       "4                              1                        0   \n",
       "\n",
       "   native-country_ Yugoslavia  \n",
       "0                           0  \n",
       "1                           0  \n",
       "2                           0  \n",
       "3                           0  \n",
       "4                           0  \n",
       "\n",
       "[5 rows x 100 columns]"
      ]
     },
     "execution_count": 275,
     "metadata": {},
     "output_type": "execute_result"
    }
   ],
   "source": [
    "print(features_df.shape)\n",
    "features_df.head()"
   ]
  },
  {
   "cell_type": "markdown",
   "metadata": {},
   "source": [
    "## Evaluation Measures\n"
   ]
  },
  {
   "cell_type": "markdown",
   "metadata": {},
   "source": [
    "The evaluation measures I have chosen for this <b><i>Imbalanced</i></b> dataset are:\n",
    "* <b><i>Balanced Accuracy Rate:</i></b> The distribution of class sizes here is skewed towards earning 50k or less a year, with around 75% of the dataset falling within this classification (The majority class) and 25% making up the minority class. This formula measures the proportionate mean of correctly identified positives and negatives.\n",
    "* <b><i>K-fold Cross Validation:</i></b> As the data set is imbalanced here, there could be bias in the way the data is split. Cross validation is used to ensure model performance is not optimally biased.\n",
    "* <b><i>ROC Curve:</i></b> (or Reciever Operating Characteristic) is a graphical plot of how the true positive rate and false positive rate change over many different thresholds. This will be used for graphically representing the diagnostic accuracy of a test.\n",
    "* <b><i>F-measure:</i></b>  A single measure that trades off precision against recall, for a given level of balance.This formula takes into account precision and recall, which is used to measure how accurately the minority class can be predicted.   "
   ]
  },
  {
   "cell_type": "markdown",
   "metadata": {},
   "source": [
    "## 1(b) Classifier Evaluation\n",
    "<b><i>Evaluate the performance of three basic classifiers on your dataset: a decision\n",
    "tree with depth at most 3, a neural network with at most 10 hidden nodes and\n",
    "1-NN. You can do basic parameter tuning, but there is no need to go overboard.\n",
    "The goal in this step is simply to create better than random classifiers. [5 marks]</i></b>"
   ]
  },
  {
   "cell_type": "markdown",
   "metadata": {},
   "source": [
    "Now that are data has been cleaned, encoded, labelled and normalised, we cn split the data for testing and training, before using in models. \n",
    "### Train Test Split"
   ]
  },
  {
   "cell_type": "code",
   "execution_count": 276,
   "metadata": {},
   "outputs": [
    {
     "name": "stdout",
     "output_type": "stream",
     "text": [
      "Size of training set :  3704\n",
      "Size of testing set :  927\n",
      "Size of training target :  3704\n",
      "Size of testing target :  927\n"
     ]
    }
   ],
   "source": [
    "# Splitting the data set into 80% for training and 20% for testing\n",
    "from sklearn.model_selection import train_test_split, GridSearchCV\n",
    "X_train, X_test, y_train, y_test = train_test_split(features_df, target_encoded, random_state=42, test_size=0.2)\n",
    "\n",
    "print('Size of training set : ', X_train.shape[0])\n",
    "print('Size of testing set : ', X_test.shape[0])\n",
    "print('Size of training target : ', y_train.shape[0])\n",
    "print('Size of testing target : ', y_test.shape[0])"
   ]
  },
  {
   "cell_type": "markdown",
   "metadata": {},
   "source": [
    "# Dummy Classifier\n",
    "The dummy classifier, which always predicts the positive class of simulation success.DummyClassifier is a classifier that makes predictions using simple rules. This classifier is useful as a simple baseline to compare with other (real) classifiers. Do not use it for real problems."
   ]
  },
  {
   "cell_type": "code",
   "execution_count": 277,
   "metadata": {},
   "outputs": [
    {
     "name": "stdout",
     "output_type": "stream",
     "text": [
      "Accuracy of the dummy classifier: 0.749\n"
     ]
    }
   ],
   "source": [
    "from sklearn.dummy import DummyClassifier\n",
    "\n",
    "dummy_classifier = DummyClassifier(strategy=\"most_frequent\")\n",
    "dummy_classifier.fit(X_train, y_train)\n",
    "print(f\"Accuracy of the dummy classifier: \" f\"{dummy_classifier.score(X_test, y_test):.3f}\")"
   ]
  },
  {
   "cell_type": "code",
   "execution_count": 278,
   "metadata": {},
   "outputs": [],
   "source": [
    "y_predicted_dummy = dummy_classifier.predict(X_test)"
   ]
  },
  {
   "cell_type": "markdown",
   "metadata": {},
   "source": [
    "### Balanced Accuracy"
   ]
  },
  {
   "cell_type": "code",
   "execution_count": 279,
   "metadata": {},
   "outputs": [
    {
     "name": "stdout",
     "output_type": "stream",
     "text": [
      "Balanced accuracy (Random): 0.500\n"
     ]
    }
   ],
   "source": [
    "balanced_accuracy_dt_random = balanced_accuracy_score(y_test, y_predicted_dummy)\n",
    "print(f\"Balanced accuracy (Random): {balanced_accuracy_dt_random :.3f}\")"
   ]
  },
  {
   "cell_type": "markdown",
   "metadata": {},
   "source": [
    "### K-fold Cross Validation"
   ]
  },
  {
   "cell_type": "code",
   "execution_count": 280,
   "metadata": {},
   "outputs": [],
   "source": [
    "from sklearn.model_selection import cross_validate\n",
    "from sklearn.model_selection import KFold\n",
    "\n",
    "# KFold doesn't shuffle by default. \n",
    "# To shuffle before creating the folds, shuffle=True and random_state=integer to produce reproducible results\n",
    "cv = KFold(n_splits=10, shuffle=False, random_state=None)"
   ]
  },
  {
   "cell_type": "code",
   "execution_count": 281,
   "metadata": {},
   "outputs": [
    {
     "data": {
      "text/plain": [
       "array([0.5, 0.5, 0.5, 0.5, 0.5, 0.5, 0.5, 0.5, 0.5, 0.5])"
      ]
     },
     "execution_count": 281,
     "metadata": {},
     "output_type": "execute_result"
    }
   ],
   "source": [
    "results = cross_validate(dummy_classifier, features_df, target_encoded, cv=cv, scoring='balanced_accuracy')\n",
    "test_score = results[\"test_score\"]\n",
    "test_score"
   ]
  },
  {
   "cell_type": "code",
   "execution_count": 282,
   "metadata": {},
   "outputs": [
    {
     "name": "stdout",
     "output_type": "stream",
     "text": [
      "The average balanced accuracy is 0.500 +/- 0.000\n"
     ]
    }
   ],
   "source": [
    "print(f\"The average balanced accuracy is \" f\"{test_score.mean():.3f} +/- {test_score.std():.3f}\")"
   ]
  },
  {
   "cell_type": "markdown",
   "metadata": {},
   "source": [
    "### F-Beta Measure\n",
    "F beta is a more general version of the F score, represents the weighted harmonic mean of precision and recall. Its values range in ascending order of optimality between [0,1]."
   ]
  },
  {
   "cell_type": "code",
   "execution_count": 283,
   "metadata": {},
   "outputs": [
    {
     "data": {
      "text/plain": [
       "0.5901455992103226"
      ]
     },
     "execution_count": 283,
     "metadata": {},
     "output_type": "execute_result"
    }
   ],
   "source": [
    "fbeta_score(y_test , y_predicted_dummy, average='weighted', beta=0.5)"
   ]
  },
  {
   "cell_type": "markdown",
   "metadata": {},
   "source": [
    "# Decision Tree\n",
    "A decision tree with a max depth of 3."
   ]
  },
  {
   "cell_type": "code",
   "execution_count": 284,
   "metadata": {},
   "outputs": [
    {
     "data": {
      "text/plain": [
       "DecisionTreeClassifier(criterion='entropy', max_depth=3)"
      ]
     },
     "execution_count": 284,
     "metadata": {},
     "output_type": "execute_result"
    }
   ],
   "source": [
    "from sklearn.tree import DecisionTreeClassifier\n",
    "dtc = DecisionTreeClassifier(max_depth=3, criterion='entropy')\n",
    "dtc.fit(X_train, y_train)"
   ]
  },
  {
   "cell_type": "code",
   "execution_count": 285,
   "metadata": {},
   "outputs": [],
   "source": [
    "from sklearn.metrics import balanced_accuracy_score\n",
    "y_predicted_dt = dtc.predict(X_test)"
   ]
  },
  {
   "cell_type": "markdown",
   "metadata": {},
   "source": [
    "### Balanced Accuracy"
   ]
  },
  {
   "cell_type": "code",
   "execution_count": 286,
   "metadata": {},
   "outputs": [
    {
     "name": "stdout",
     "output_type": "stream",
     "text": [
      "Balanced accuracy: 0.688\n"
     ]
    }
   ],
   "source": [
    "balanced_accuracy_dt = balanced_accuracy_score(y_test, y_predicted_dt)\n",
    "print(f\"Balanced accuracy: {balanced_accuracy_dt:.3f}\")"
   ]
  },
  {
   "cell_type": "markdown",
   "metadata": {},
   "source": [
    "### K-fold Cross Validation"
   ]
  },
  {
   "cell_type": "code",
   "execution_count": 287,
   "metadata": {},
   "outputs": [],
   "source": [
    "from sklearn.model_selection import cross_validate\n",
    "from sklearn.model_selection import KFold\n",
    "\n",
    "# KFold doesn't shuffle by default. \n",
    "# To shuffle before creating the folds, shuffle=True and random_state=integer to produce reproducible results\n",
    "cv = KFold(n_splits=10, shuffle=False, random_state=None)"
   ]
  },
  {
   "cell_type": "code",
   "execution_count": 288,
   "metadata": {},
   "outputs": [
    {
     "data": {
      "text/plain": [
       "array([0.74599427, 0.69346009, 0.6500814 , 0.66904436, 0.66208438,\n",
       "       0.67768647, 0.67019449, 0.65896501, 0.65162389, 0.67649392])"
      ]
     },
     "execution_count": 288,
     "metadata": {},
     "output_type": "execute_result"
    }
   ],
   "source": [
    "results = cross_validate(dtc, features_df, target_encoded, cv=cv, scoring='balanced_accuracy')\n",
    "test_score = results[\"test_score\"]\n",
    "test_score"
   ]
  },
  {
   "cell_type": "code",
   "execution_count": 289,
   "metadata": {},
   "outputs": [
    {
     "name": "stdout",
     "output_type": "stream",
     "text": [
      "The mean balanced accuracy is 0.676 +/- 0.027\n"
     ]
    }
   ],
   "source": [
    "print(f\"The mean balanced accuracy is \" f\"{test_score.mean():.3f} +/- {test_score.std():.3f}\")"
   ]
  },
  {
   "cell_type": "markdown",
   "metadata": {},
   "source": [
    "### ROC Curve"
   ]
  },
  {
   "cell_type": "code",
   "execution_count": 290,
   "metadata": {},
   "outputs": [
    {
     "data": {
      "image/png": "[encoded data removed]",
      "text/plain": [
       "<Figure size 432x288 with 1 Axes>"
      ]
     },
     "metadata": {
      "needs_background": "light"
     },
     "output_type": "display_data"
    }
   ],
   "source": [
    "from sklearn.metrics import plot_roc_curve\n",
    "\n",
    "disp = plot_roc_curve(dtc, X_test, y_test)\n",
    "disp = plot_roc_curve(dummy_classifier, X_test, y_test, color=\"tab:orange\", linestyle=\"--\", ax=disp.ax_)\n",
    "disp.ax_.set_title(\"ROC AUC curve\");"
   ]
  },
  {
   "cell_type": "markdown",
   "metadata": {},
   "source": [
    "### F-Beta Measure"
   ]
  },
  {
   "cell_type": "code",
   "execution_count": 291,
   "metadata": {},
   "outputs": [
    {
     "data": {
      "text/plain": [
       "0.8097322667105481"
      ]
     },
     "execution_count": 291,
     "metadata": {},
     "output_type": "execute_result"
    }
   ],
   "source": [
    "from sklearn.metrics import fbeta_score\n",
    "fbeta_score(y_test , y_predicted_dt, average='weighted', beta=0.5)"
   ]
  },
  {
   "cell_type": "markdown",
   "metadata": {},
   "source": [
    "# Neural Network\n",
    "A neural network with at most 10 hidden nodes"
   ]
  },
  {
   "cell_type": "code",
   "execution_count": 292,
   "metadata": {},
   "outputs": [],
   "source": [
    "# importing Neural network packages ffor scikit learn\n",
    "from sklearn.neural_network import MLPClassifier"
   ]
  },
  {
   "cell_type": "markdown",
   "metadata": {},
   "source": [
    "GridSearch is an exhaustive parameter generator for testing the classifier to find the best parameters to use on our model to optimise it's perfomance. As passing through every single possibility would be near impossible and very expensive computationally and time wise, I have manually selected some parameters to pass through the search, with the goal of finding the best version"
   ]
  },
  {
   "cell_type": "code",
   "execution_count": 143,
   "metadata": {},
   "outputs": [
    {
     "name": "stdout",
     "output_type": "stream",
     "text": [
      "Fitting 1 folds for each of 40 candidates, totalling 40 fits\n",
      "[CV] activation=logistic, alpha=0, hidden_layer_sizes=10, max_iter=1000, solver=lbfgs \n"
     ]
    },
    {
     "name": "stderr",
     "output_type": "stream",
     "text": [
      "[Parallel(n_jobs=1)]: Using backend SequentialBackend with 1 concurrent workers.\n"
     ]
    },
    {
     "name": "stdout",
     "output_type": "stream",
     "text": [
      "[CV]  activation=logistic, alpha=0, hidden_layer_sizes=10, max_iter=1000, solver=lbfgs, total=   1.4s\n",
      "[CV] activation=logistic, alpha=0, hidden_layer_sizes=10, max_iter=1000, solver=sgd \n"
     ]
    },
    {
     "name": "stderr",
     "output_type": "stream",
     "text": [
      "[Parallel(n_jobs=1)]: Done   1 out of   1 | elapsed:    1.3s remaining:    0.0s\n"
     ]
    },
    {
     "name": "stdout",
     "output_type": "stream",
     "text": [
      "[CV]  activation=logistic, alpha=0, hidden_layer_sizes=10, max_iter=1000, solver=sgd, total=   5.0s\n",
      "[CV] activation=logistic, alpha=0, hidden_layer_sizes=[3, 4, 3], max_iter=1000, solver=lbfgs \n"
     ]
    },
    {
     "name": "stderr",
     "output_type": "stream",
     "text": [
      "C:\\Users\\brian\\anaconda3\\lib\\site-packages\\sklearn\\neural_network\\_multilayer_perceptron.py:471: ConvergenceWarning: lbfgs failed to converge (status=1):\n",
      "STOP: TOTAL NO. of ITERATIONS REACHED LIMIT.\n",
      "\n",
      "Increase the number of iterations (max_iter) or scale the data as shown in:\n",
      "    https://scikit-learn.org/stable/modules/preprocessing.html\n",
      "  self.n_iter_ = _check_optimize_result(\"lbfgs\", opt_res, self.max_iter)\n"
     ]
    },
    {
     "name": "stdout",
     "output_type": "stream",
     "text": [
      "[CV]  activation=logistic, alpha=0, hidden_layer_sizes=[3, 4, 3], max_iter=1000, solver=lbfgs, total=   2.2s\n",
      "[CV] activation=logistic, alpha=0, hidden_layer_sizes=[3, 4, 3], max_iter=1000, solver=sgd \n",
      "[CV]  activation=logistic, alpha=0, hidden_layer_sizes=[3, 4, 3], max_iter=1000, solver=sgd, total=   0.6s\n",
      "[CV] activation=logistic, alpha=0, hidden_layer_sizes=[5, 5], max_iter=1000, solver=lbfgs \n"
     ]
    },
    {
     "name": "stderr",
     "output_type": "stream",
     "text": [
      "C:\\Users\\brian\\anaconda3\\lib\\site-packages\\sklearn\\neural_network\\_multilayer_perceptron.py:471: ConvergenceWarning: lbfgs failed to converge (status=1):\n",
      "STOP: TOTAL NO. of ITERATIONS REACHED LIMIT.\n",
      "\n",
      "Increase the number of iterations (max_iter) or scale the data as shown in:\n",
      "    https://scikit-learn.org/stable/modules/preprocessing.html\n",
      "  self.n_iter_ = _check_optimize_result(\"lbfgs\", opt_res, self.max_iter)\n"
     ]
    },
    {
     "name": "stdout",
     "output_type": "stream",
     "text": [
      "[CV]  activation=logistic, alpha=0, hidden_layer_sizes=[5, 5], max_iter=1000, solver=lbfgs, total=   2.2s\n",
      "[CV] activation=logistic, alpha=0, hidden_layer_sizes=[5, 5], max_iter=1000, solver=sgd \n",
      "[CV]  activation=logistic, alpha=0, hidden_layer_sizes=[5, 5], max_iter=1000, solver=sgd, total=   0.4s\n",
      "[CV] activation=logistic, alpha=0, hidden_layer_sizes=[2, 6, 2], max_iter=1000, solver=lbfgs \n"
     ]
    },
    {
     "name": "stderr",
     "output_type": "stream",
     "text": [
      "C:\\Users\\brian\\anaconda3\\lib\\site-packages\\sklearn\\neural_network\\_multilayer_perceptron.py:471: ConvergenceWarning: lbfgs failed to converge (status=1):\n",
      "STOP: TOTAL NO. of ITERATIONS REACHED LIMIT.\n",
      "\n",
      "Increase the number of iterations (max_iter) or scale the data as shown in:\n",
      "    https://scikit-learn.org/stable/modules/preprocessing.html\n",
      "  self.n_iter_ = _check_optimize_result(\"lbfgs\", opt_res, self.max_iter)\n"
     ]
    },
    {
     "name": "stdout",
     "output_type": "stream",
     "text": [
      "[CV]  activation=logistic, alpha=0, hidden_layer_sizes=[2, 6, 2], max_iter=1000, solver=lbfgs, total=   2.8s\n",
      "[CV] activation=logistic, alpha=0, hidden_layer_sizes=[2, 6, 2], max_iter=1000, solver=sgd \n",
      "[CV]  activation=logistic, alpha=0, hidden_layer_sizes=[2, 6, 2], max_iter=1000, solver=sgd, total=   0.7s\n",
      "[CV] activation=logistic, alpha=0.0005, hidden_layer_sizes=10, max_iter=1000, solver=lbfgs \n",
      "[CV]  activation=logistic, alpha=0.0005, hidden_layer_sizes=10, max_iter=1000, solver=lbfgs, total=   1.1s\n",
      "[CV] activation=logistic, alpha=0.0005, hidden_layer_sizes=10, max_iter=1000, solver=sgd \n",
      "[CV]  activation=logistic, alpha=0.0005, hidden_layer_sizes=10, max_iter=1000, solver=sgd, total=   5.7s\n",
      "[CV] activation=logistic, alpha=0.0005, hidden_layer_sizes=[3, 4, 3], max_iter=1000, solver=lbfgs \n"
     ]
    },
    {
     "name": "stderr",
     "output_type": "stream",
     "text": [
      "C:\\Users\\brian\\anaconda3\\lib\\site-packages\\sklearn\\neural_network\\_multilayer_perceptron.py:471: ConvergenceWarning: lbfgs failed to converge (status=1):\n",
      "STOP: TOTAL NO. of ITERATIONS REACHED LIMIT.\n",
      "\n",
      "Increase the number of iterations (max_iter) or scale the data as shown in:\n",
      "    https://scikit-learn.org/stable/modules/preprocessing.html\n",
      "  self.n_iter_ = _check_optimize_result(\"lbfgs\", opt_res, self.max_iter)\n"
     ]
    },
    {
     "name": "stdout",
     "output_type": "stream",
     "text": [
      "[CV]  activation=logistic, alpha=0.0005, hidden_layer_sizes=[3, 4, 3], max_iter=1000, solver=lbfgs, total=   3.1s\n",
      "[CV] activation=logistic, alpha=0.0005, hidden_layer_sizes=[3, 4, 3], max_iter=1000, solver=sgd \n",
      "[CV]  activation=logistic, alpha=0.0005, hidden_layer_sizes=[3, 4, 3], max_iter=1000, solver=sgd, total=   1.1s\n",
      "[CV] activation=logistic, alpha=0.0005, hidden_layer_sizes=[5, 5], max_iter=1000, solver=lbfgs \n"
     ]
    },
    {
     "name": "stderr",
     "output_type": "stream",
     "text": [
      "C:\\Users\\brian\\anaconda3\\lib\\site-packages\\sklearn\\neural_network\\_multilayer_perceptron.py:471: ConvergenceWarning: lbfgs failed to converge (status=1):\n",
      "STOP: TOTAL NO. of ITERATIONS REACHED LIMIT.\n",
      "\n",
      "Increase the number of iterations (max_iter) or scale the data as shown in:\n",
      "    https://scikit-learn.org/stable/modules/preprocessing.html\n",
      "  self.n_iter_ = _check_optimize_result(\"lbfgs\", opt_res, self.max_iter)\n"
     ]
    },
    {
     "name": "stdout",
     "output_type": "stream",
     "text": [
      "[CV]  activation=logistic, alpha=0.0005, hidden_layer_sizes=[5, 5], max_iter=1000, solver=lbfgs, total=   3.1s\n",
      "[CV] activation=logistic, alpha=0.0005, hidden_layer_sizes=[5, 5], max_iter=1000, solver=sgd \n",
      "[CV]  activation=logistic, alpha=0.0005, hidden_layer_sizes=[5, 5], max_iter=1000, solver=sgd, total=   0.9s\n",
      "[CV] activation=logistic, alpha=0.0005, hidden_layer_sizes=[2, 6, 2], max_iter=1000, solver=lbfgs \n"
     ]
    },
    {
     "name": "stderr",
     "output_type": "stream",
     "text": [
      "C:\\Users\\brian\\anaconda3\\lib\\site-packages\\sklearn\\neural_network\\_multilayer_perceptron.py:471: ConvergenceWarning: lbfgs failed to converge (status=1):\n",
      "STOP: TOTAL NO. of ITERATIONS REACHED LIMIT.\n",
      "\n",
      "Increase the number of iterations (max_iter) or scale the data as shown in:\n",
      "    https://scikit-learn.org/stable/modules/preprocessing.html\n",
      "  self.n_iter_ = _check_optimize_result(\"lbfgs\", opt_res, self.max_iter)\n"
     ]
    },
    {
     "name": "stdout",
     "output_type": "stream",
     "text": [
      "[CV]  activation=logistic, alpha=0.0005, hidden_layer_sizes=[2, 6, 2], max_iter=1000, solver=lbfgs, total=   3.3s\n",
      "[CV] activation=logistic, alpha=0.0005, hidden_layer_sizes=[2, 6, 2], max_iter=1000, solver=sgd \n",
      "[CV]  activation=logistic, alpha=0.0005, hidden_layer_sizes=[2, 6, 2], max_iter=1000, solver=sgd, total=   2.0s\n",
      "[CV] activation=logistic, alpha=0.0001, hidden_layer_sizes=10, max_iter=1000, solver=lbfgs \n",
      "[CV]  activation=logistic, alpha=0.0001, hidden_layer_sizes=10, max_iter=1000, solver=lbfgs, total=   2.5s\n",
      "[CV] activation=logistic, alpha=0.0001, hidden_layer_sizes=10, max_iter=1000, solver=sgd \n",
      "[CV]  activation=logistic, alpha=0.0001, hidden_layer_sizes=10, max_iter=1000, solver=sgd, total=   8.3s\n",
      "[CV] activation=logistic, alpha=0.0001, hidden_layer_sizes=[3, 4, 3], max_iter=1000, solver=lbfgs \n"
     ]
    },
    {
     "name": "stderr",
     "output_type": "stream",
     "text": [
      "C:\\Users\\brian\\anaconda3\\lib\\site-packages\\sklearn\\neural_network\\_multilayer_perceptron.py:471: ConvergenceWarning: lbfgs failed to converge (status=1):\n",
      "STOP: TOTAL NO. of ITERATIONS REACHED LIMIT.\n",
      "\n",
      "Increase the number of iterations (max_iter) or scale the data as shown in:\n",
      "    https://scikit-learn.org/stable/modules/preprocessing.html\n",
      "  self.n_iter_ = _check_optimize_result(\"lbfgs\", opt_res, self.max_iter)\n"
     ]
    },
    {
     "name": "stdout",
     "output_type": "stream",
     "text": [
      "[CV]  activation=logistic, alpha=0.0001, hidden_layer_sizes=[3, 4, 3], max_iter=1000, solver=lbfgs, total=   3.1s\n",
      "[CV] activation=logistic, alpha=0.0001, hidden_layer_sizes=[3, 4, 3], max_iter=1000, solver=sgd \n",
      "[CV]  activation=logistic, alpha=0.0001, hidden_layer_sizes=[3, 4, 3], max_iter=1000, solver=sgd, total=   1.0s\n",
      "[CV] activation=logistic, alpha=0.0001, hidden_layer_sizes=[5, 5], max_iter=1000, solver=lbfgs \n"
     ]
    },
    {
     "name": "stderr",
     "output_type": "stream",
     "text": [
      "C:\\Users\\brian\\anaconda3\\lib\\site-packages\\sklearn\\neural_network\\_multilayer_perceptron.py:471: ConvergenceWarning: lbfgs failed to converge (status=1):\n",
      "STOP: TOTAL NO. of ITERATIONS REACHED LIMIT.\n",
      "\n",
      "Increase the number of iterations (max_iter) or scale the data as shown in:\n",
      "    https://scikit-learn.org/stable/modules/preprocessing.html\n",
      "  self.n_iter_ = _check_optimize_result(\"lbfgs\", opt_res, self.max_iter)\n"
     ]
    },
    {
     "name": "stdout",
     "output_type": "stream",
     "text": [
      "[CV]  activation=logistic, alpha=0.0001, hidden_layer_sizes=[5, 5], max_iter=1000, solver=lbfgs, total=   3.7s\n",
      "[CV] activation=logistic, alpha=0.0001, hidden_layer_sizes=[5, 5], max_iter=1000, solver=sgd \n",
      "[CV]  activation=logistic, alpha=0.0001, hidden_layer_sizes=[5, 5], max_iter=1000, solver=sgd, total=   0.5s\n",
      "[CV] activation=logistic, alpha=0.0001, hidden_layer_sizes=[2, 6, 2], max_iter=1000, solver=lbfgs \n",
      "[CV]  activation=logistic, alpha=0.0001, hidden_layer_sizes=[2, 6, 2], max_iter=1000, solver=lbfgs, total=   1.6s\n",
      "[CV] activation=logistic, alpha=0.0001, hidden_layer_sizes=[2, 6, 2], max_iter=1000, solver=sgd \n",
      "[CV]  activation=logistic, alpha=0.0001, hidden_layer_sizes=[2, 6, 2], max_iter=1000, solver=sgd, total=   1.2s\n",
      "[CV] activation=logistic, alpha=0.0005, hidden_layer_sizes=10, max_iter=1000, solver=lbfgs \n"
     ]
    },
    {
     "name": "stderr",
     "output_type": "stream",
     "text": [
      "C:\\Users\\brian\\anaconda3\\lib\\site-packages\\sklearn\\neural_network\\_multilayer_perceptron.py:471: ConvergenceWarning: lbfgs failed to converge (status=1):\n",
      "STOP: TOTAL NO. of ITERATIONS REACHED LIMIT.\n",
      "\n",
      "Increase the number of iterations (max_iter) or scale the data as shown in:\n",
      "    https://scikit-learn.org/stable/modules/preprocessing.html\n",
      "  self.n_iter_ = _check_optimize_result(\"lbfgs\", opt_res, self.max_iter)\n"
     ]
    },
    {
     "name": "stdout",
     "output_type": "stream",
     "text": [
      "[CV]  activation=logistic, alpha=0.0005, hidden_layer_sizes=10, max_iter=1000, solver=lbfgs, total=   3.2s\n",
      "[CV] activation=logistic, alpha=0.0005, hidden_layer_sizes=10, max_iter=1000, solver=sgd \n",
      "[CV]  activation=logistic, alpha=0.0005, hidden_layer_sizes=10, max_iter=1000, solver=sgd, total=   6.2s\n",
      "[CV] activation=logistic, alpha=0.0005, hidden_layer_sizes=[3, 4, 3], max_iter=1000, solver=lbfgs \n"
     ]
    },
    {
     "name": "stderr",
     "output_type": "stream",
     "text": [
      "C:\\Users\\brian\\anaconda3\\lib\\site-packages\\sklearn\\neural_network\\_multilayer_perceptron.py:471: ConvergenceWarning: lbfgs failed to converge (status=1):\n",
      "STOP: TOTAL NO. of ITERATIONS REACHED LIMIT.\n",
      "\n",
      "Increase the number of iterations (max_iter) or scale the data as shown in:\n",
      "    https://scikit-learn.org/stable/modules/preprocessing.html\n",
      "  self.n_iter_ = _check_optimize_result(\"lbfgs\", opt_res, self.max_iter)\n"
     ]
    },
    {
     "name": "stdout",
     "output_type": "stream",
     "text": [
      "[CV]  activation=logistic, alpha=0.0005, hidden_layer_sizes=[3, 4, 3], max_iter=1000, solver=lbfgs, total=   2.8s\n",
      "[CV] activation=logistic, alpha=0.0005, hidden_layer_sizes=[3, 4, 3], max_iter=1000, solver=sgd \n",
      "[CV]  activation=logistic, alpha=0.0005, hidden_layer_sizes=[3, 4, 3], max_iter=1000, solver=sgd, total=   0.8s\n",
      "[CV] activation=logistic, alpha=0.0005, hidden_layer_sizes=[5, 5], max_iter=1000, solver=lbfgs \n"
     ]
    },
    {
     "name": "stderr",
     "output_type": "stream",
     "text": [
      "C:\\Users\\brian\\anaconda3\\lib\\site-packages\\sklearn\\neural_network\\_multilayer_perceptron.py:471: ConvergenceWarning: lbfgs failed to converge (status=1):\n",
      "STOP: TOTAL NO. of ITERATIONS REACHED LIMIT.\n",
      "\n",
      "Increase the number of iterations (max_iter) or scale the data as shown in:\n",
      "    https://scikit-learn.org/stable/modules/preprocessing.html\n",
      "  self.n_iter_ = _check_optimize_result(\"lbfgs\", opt_res, self.max_iter)\n"
     ]
    },
    {
     "name": "stdout",
     "output_type": "stream",
     "text": [
      "[CV]  activation=logistic, alpha=0.0005, hidden_layer_sizes=[5, 5], max_iter=1000, solver=lbfgs, total=   3.7s\n",
      "[CV] activation=logistic, alpha=0.0005, hidden_layer_sizes=[5, 5], max_iter=1000, solver=sgd \n",
      "[CV]  activation=logistic, alpha=0.0005, hidden_layer_sizes=[5, 5], max_iter=1000, solver=sgd, total=   0.8s\n",
      "[CV] activation=logistic, alpha=0.0005, hidden_layer_sizes=[2, 6, 2], max_iter=1000, solver=lbfgs \n"
     ]
    },
    {
     "name": "stderr",
     "output_type": "stream",
     "text": [
      "C:\\Users\\brian\\anaconda3\\lib\\site-packages\\sklearn\\neural_network\\_multilayer_perceptron.py:471: ConvergenceWarning: lbfgs failed to converge (status=1):\n",
      "STOP: TOTAL NO. of ITERATIONS REACHED LIMIT.\n",
      "\n",
      "Increase the number of iterations (max_iter) or scale the data as shown in:\n",
      "    https://scikit-learn.org/stable/modules/preprocessing.html\n",
      "  self.n_iter_ = _check_optimize_result(\"lbfgs\", opt_res, self.max_iter)\n"
     ]
    },
    {
     "name": "stdout",
     "output_type": "stream",
     "text": [
      "[CV]  activation=logistic, alpha=0.0005, hidden_layer_sizes=[2, 6, 2], max_iter=1000, solver=lbfgs, total=   3.1s\n",
      "[CV] activation=logistic, alpha=0.0005, hidden_layer_sizes=[2, 6, 2], max_iter=1000, solver=sgd \n",
      "[CV]  activation=logistic, alpha=0.0005, hidden_layer_sizes=[2, 6, 2], max_iter=1000, solver=sgd, total=   1.0s\n",
      "[CV] activation=logistic, alpha=0.001, hidden_layer_sizes=10, max_iter=1000, solver=lbfgs \n"
     ]
    },
    {
     "name": "stderr",
     "output_type": "stream",
     "text": [
      "C:\\Users\\brian\\anaconda3\\lib\\site-packages\\sklearn\\neural_network\\_multilayer_perceptron.py:471: ConvergenceWarning: lbfgs failed to converge (status=1):\n",
      "STOP: TOTAL NO. of ITERATIONS REACHED LIMIT.\n",
      "\n",
      "Increase the number of iterations (max_iter) or scale the data as shown in:\n",
      "    https://scikit-learn.org/stable/modules/preprocessing.html\n",
      "  self.n_iter_ = _check_optimize_result(\"lbfgs\", opt_res, self.max_iter)\n"
     ]
    },
    {
     "name": "stdout",
     "output_type": "stream",
     "text": [
      "[CV]  activation=logistic, alpha=0.001, hidden_layer_sizes=10, max_iter=1000, solver=lbfgs, total=   2.9s\n",
      "[CV] activation=logistic, alpha=0.001, hidden_layer_sizes=10, max_iter=1000, solver=sgd \n",
      "[CV]  activation=logistic, alpha=0.001, hidden_layer_sizes=10, max_iter=1000, solver=sgd, total=   6.0s\n",
      "[CV] activation=logistic, alpha=0.001, hidden_layer_sizes=[3, 4, 3], max_iter=1000, solver=lbfgs \n"
     ]
    },
    {
     "name": "stderr",
     "output_type": "stream",
     "text": [
      "C:\\Users\\brian\\anaconda3\\lib\\site-packages\\sklearn\\neural_network\\_multilayer_perceptron.py:471: ConvergenceWarning: lbfgs failed to converge (status=1):\n",
      "STOP: TOTAL NO. of ITERATIONS REACHED LIMIT.\n",
      "\n",
      "Increase the number of iterations (max_iter) or scale the data as shown in:\n",
      "    https://scikit-learn.org/stable/modules/preprocessing.html\n",
      "  self.n_iter_ = _check_optimize_result(\"lbfgs\", opt_res, self.max_iter)\n"
     ]
    },
    {
     "name": "stdout",
     "output_type": "stream",
     "text": [
      "[CV]  activation=logistic, alpha=0.001, hidden_layer_sizes=[3, 4, 3], max_iter=1000, solver=lbfgs, total=   3.2s\n",
      "[CV] activation=logistic, alpha=0.001, hidden_layer_sizes=[3, 4, 3], max_iter=1000, solver=sgd \n",
      "[CV]  activation=logistic, alpha=0.001, hidden_layer_sizes=[3, 4, 3], max_iter=1000, solver=sgd, total=   0.9s\n",
      "[CV] activation=logistic, alpha=0.001, hidden_layer_sizes=[5, 5], max_iter=1000, solver=lbfgs \n"
     ]
    },
    {
     "name": "stderr",
     "output_type": "stream",
     "text": [
      "C:\\Users\\brian\\anaconda3\\lib\\site-packages\\sklearn\\neural_network\\_multilayer_perceptron.py:471: ConvergenceWarning: lbfgs failed to converge (status=1):\n",
      "STOP: TOTAL NO. of ITERATIONS REACHED LIMIT.\n",
      "\n",
      "Increase the number of iterations (max_iter) or scale the data as shown in:\n",
      "    https://scikit-learn.org/stable/modules/preprocessing.html\n",
      "  self.n_iter_ = _check_optimize_result(\"lbfgs\", opt_res, self.max_iter)\n"
     ]
    },
    {
     "name": "stdout",
     "output_type": "stream",
     "text": [
      "[CV]  activation=logistic, alpha=0.001, hidden_layer_sizes=[5, 5], max_iter=1000, solver=lbfgs, total=   2.6s\n",
      "[CV] activation=logistic, alpha=0.001, hidden_layer_sizes=[5, 5], max_iter=1000, solver=sgd \n",
      "[CV]  activation=logistic, alpha=0.001, hidden_layer_sizes=[5, 5], max_iter=1000, solver=sgd, total=   0.5s\n",
      "[CV] activation=logistic, alpha=0.001, hidden_layer_sizes=[2, 6, 2], max_iter=1000, solver=lbfgs \n"
     ]
    },
    {
     "name": "stderr",
     "output_type": "stream",
     "text": [
      "C:\\Users\\brian\\anaconda3\\lib\\site-packages\\sklearn\\neural_network\\_multilayer_perceptron.py:471: ConvergenceWarning: lbfgs failed to converge (status=1):\n",
      "STOP: TOTAL NO. of ITERATIONS REACHED LIMIT.\n",
      "\n",
      "Increase the number of iterations (max_iter) or scale the data as shown in:\n",
      "    https://scikit-learn.org/stable/modules/preprocessing.html\n",
      "  self.n_iter_ = _check_optimize_result(\"lbfgs\", opt_res, self.max_iter)\n"
     ]
    },
    {
     "name": "stdout",
     "output_type": "stream",
     "text": [
      "[CV]  activation=logistic, alpha=0.001, hidden_layer_sizes=[2, 6, 2], max_iter=1000, solver=lbfgs, total=   3.0s\n",
      "[CV] activation=logistic, alpha=0.001, hidden_layer_sizes=[2, 6, 2], max_iter=1000, solver=sgd \n",
      "[CV]  activation=logistic, alpha=0.001, hidden_layer_sizes=[2, 6, 2], max_iter=1000, solver=sgd, total=   0.7s\n",
      "Score:  0.7232876712328767\n",
      "Parameters:  {'activation': 'logistic', 'alpha': 0.001, 'hidden_layer_sizes': [2, 6, 2], 'max_iter': 1000, 'solver': 'lbfgs'}\n"
     ]
    },
    {
     "name": "stderr",
     "output_type": "stream",
     "text": [
      "[Parallel(n_jobs=1)]: Done  40 out of  40 | elapsed:  1.6min finished\n"
     ]
    }
   ],
   "source": [
    "from sklearn.model_selection import ShuffleSplit\n",
    "\n",
    "cv = ShuffleSplit(n_splits=1, test_size=0.2, random_state=1)\n",
    "\n",
    "param_grid = {\n",
    "    'hidden_layer_sizes':[10,[3,4,3],[5,5],[2,6,2]],\n",
    "    'activation': ['logistic'],\n",
    "    'solver': ['lbfgs','sgd'],\n",
    "    'alpha': [0,0.0005,0.0001,0.0005,0.001],\n",
    "    'max_iter' : [1000]}\n",
    "\n",
    "gridSearch = GridSearchCV(MLPClassifier(), param_grid, cv=cv,\n",
    "                          scoring=['recall','f1'],refit='f1',verbose=2)\n",
    "gridSearch.fit(X_train, y_train)\n",
    "print('Score: ', gridSearch.best_score_)\n",
    "print('Parameters: ', gridSearch.best_params_)"
   ]
  },
  {
   "cell_type": "markdown",
   "metadata": {},
   "source": [
    "<b><u>Best score</u> and  <u>parameters</u> from GridSearch</b>"
   ]
  },
  {
   "cell_type": "markdown",
   "metadata": {},
   "source": [
    "* Score:  0.7232876712328767\n",
    "* Parameters:  {'activation': 'logistic', 'alpha': 0.001, 'hidden_layer_sizes': [2, 6, 2], 'max_iter': 1000, 'solver': 'lbfgs'}\n",
    "\n",
    "\n",
    "Now with these best scoring parameters from the gridsearch test, we can use these parameters to train our neural network model."
   ]
  },
  {
   "cell_type": "code",
   "execution_count": 293,
   "metadata": {},
   "outputs": [
    {
     "data": {
      "text/plain": [
       "MLPClassifier(alpha=0.001, hidden_layer_sizes=(2, 6, 2), max_iter=10000,\n",
       "              random_state=1, solver='lbfgs')"
      ]
     },
     "execution_count": 293,
     "metadata": {},
     "output_type": "execute_result"
    }
   ],
   "source": [
    "nn = MLPClassifier(solver='lbfgs', alpha=0.001, hidden_layer_sizes=(2, 6, 2), random_state=1, max_iter = 10000)\n",
    "nn.fit(X_train,y_train)"
   ]
  },
  {
   "cell_type": "code",
   "execution_count": 294,
   "metadata": {},
   "outputs": [],
   "source": [
    "y_predicted_nn = nn.predict(X_test)"
   ]
  },
  {
   "cell_type": "markdown",
   "metadata": {},
   "source": [
    "### Balanced Accuracy"
   ]
  },
  {
   "cell_type": "code",
   "execution_count": 295,
   "metadata": {},
   "outputs": [
    {
     "name": "stdout",
     "output_type": "stream",
     "text": [
      "Balanced accuracy: 0.739\n"
     ]
    }
   ],
   "source": [
    "balanced_accuracy_nn = balanced_accuracy_score(y_test, y_predicted_nn)\n",
    "print(f\"Balanced accuracy: {balanced_accuracy_nn:.3f}\")"
   ]
  },
  {
   "cell_type": "markdown",
   "metadata": {},
   "source": [
    "### K-fold Cross Validation"
   ]
  },
  {
   "cell_type": "code",
   "execution_count": 296,
   "metadata": {},
   "outputs": [],
   "source": [
    "cv = KFold(n_splits=10, shuffle=False, random_state=None)"
   ]
  },
  {
   "cell_type": "code",
   "execution_count": 297,
   "metadata": {},
   "outputs": [
    {
     "data": {
      "text/plain": [
       "array([0.80629111, 0.80090345, 0.74763431, 0.73111687, 0.78564547,\n",
       "       0.75788875, 0.75538458, 0.75918367, 0.74444203, 0.77218643])"
      ]
     },
     "execution_count": 297,
     "metadata": {},
     "output_type": "execute_result"
    }
   ],
   "source": [
    "results = cross_validate(nn, features_df, target_encoded, cv=cv, scoring='balanced_accuracy')\n",
    "test_score = results[\"test_score\"]\n",
    "test_score"
   ]
  },
  {
   "cell_type": "code",
   "execution_count": 298,
   "metadata": {},
   "outputs": [
    {
     "name": "stdout",
     "output_type": "stream",
     "text": [
      "The average balanced accuracy is 0.766 +/- 0.023\n"
     ]
    }
   ],
   "source": [
    "print(f\"The average balanced accuracy is \" f\"{test_score.mean():.3f} +/- {test_score.std():.3f}\")"
   ]
  },
  {
   "cell_type": "markdown",
   "metadata": {},
   "source": [
    "### ROC Curve"
   ]
  },
  {
   "cell_type": "code",
   "execution_count": 299,
   "metadata": {},
   "outputs": [
    {
     "data": {
      "image/png": "[encoded data removed]",
      "text/plain": [
       "<Figure size 432x288 with 1 Axes>"
      ]
     },
     "metadata": {
      "needs_background": "light"
     },
     "output_type": "display_data"
    }
   ],
   "source": [
    "disp = plot_roc_curve(nn, X_test, y_test)\n",
    "disp = plot_roc_curve(dummy_classifier, X_test, y_test, color=\"tab:orange\", linestyle=\"--\", ax=disp.ax_)\n",
    "disp.ax_.set_title(\"ROC AUC curve\");"
   ]
  },
  {
   "cell_type": "markdown",
   "metadata": {},
   "source": [
    "### F-Beta Measure"
   ]
  },
  {
   "cell_type": "code",
   "execution_count": 300,
   "metadata": {},
   "outputs": [
    {
     "data": {
      "text/plain": [
       "0.8178145619491406"
      ]
     },
     "execution_count": 300,
     "metadata": {},
     "output_type": "execute_result"
    }
   ],
   "source": [
    "fbeta_score(y_test , y_predicted_nn, average='weighted', beta=0.5)"
   ]
  },
  {
   "cell_type": "markdown",
   "metadata": {},
   "source": [
    "# 1 - Nearest Neighbour"
   ]
  },
  {
   "cell_type": "code",
   "execution_count": 301,
   "metadata": {},
   "outputs": [
    {
     "data": {
      "text/plain": [
       "KNeighborsClassifier(n_neighbors=1)"
      ]
     },
     "execution_count": 301,
     "metadata": {},
     "output_type": "execute_result"
    }
   ],
   "source": [
    "from sklearn.neighbors import KNeighborsClassifier\n",
    "nbrs = KNeighborsClassifier(n_neighbors=1)\n",
    "nbrs.fit(X_train, y_train)"
   ]
  },
  {
   "cell_type": "code",
   "execution_count": 302,
   "metadata": {},
   "outputs": [],
   "source": [
    "y_predicted_nbrs = nbrs.predict(X_test)"
   ]
  },
  {
   "cell_type": "markdown",
   "metadata": {},
   "source": [
    "### Balanced Accuracy"
   ]
  },
  {
   "cell_type": "code",
   "execution_count": 330,
   "metadata": {},
   "outputs": [
    {
     "name": "stdout",
     "output_type": "stream",
     "text": [
      "Balanced accuracy: 0.705\n"
     ]
    }
   ],
   "source": [
    "balanced_accuracy_nbrs = balanced_accuracy_score(y_test, y_predicted_nbrs)\n",
    "print(f\"Balanced accuracy: {balanced_accuracy_nbrs:.3f}\")"
   ]
  },
  {
   "cell_type": "markdown",
   "metadata": {},
   "source": [
    "### K-fold Cross Validation"
   ]
  },
  {
   "cell_type": "code",
   "execution_count": 304,
   "metadata": {},
   "outputs": [],
   "source": [
    "cv = KFold(n_splits=10, shuffle=False, random_state=None)"
   ]
  },
  {
   "cell_type": "code",
   "execution_count": 305,
   "metadata": {},
   "outputs": [
    {
     "data": {
      "text/plain": [
       "array([0.74407874, 0.77311219, 0.65436762, 0.71158638, 0.73832815,\n",
       "       0.67378003, 0.72747528, 0.68544704, 0.74171137, 0.69428152])"
      ]
     },
     "execution_count": 305,
     "metadata": {},
     "output_type": "execute_result"
    }
   ],
   "source": [
    "results = cross_validate(nbrs, features_df, target_encoded, cv=cv, scoring='balanced_accuracy')\n",
    "test_score = results[\"test_score\"]\n",
    "test_score"
   ]
  },
  {
   "cell_type": "code",
   "execution_count": 306,
   "metadata": {},
   "outputs": [
    {
     "name": "stdout",
     "output_type": "stream",
     "text": [
      "The average balanced accuracy is 0.714 +/- 0.035\n"
     ]
    }
   ],
   "source": [
    "print(f\"The average balanced accuracy is \" f\"{test_score.mean():.3f} +/- {test_score.std():.3f}\")"
   ]
  },
  {
   "cell_type": "markdown",
   "metadata": {},
   "source": [
    "### ROC Curve"
   ]
  },
  {
   "cell_type": "code",
   "execution_count": 307,
   "metadata": {},
   "outputs": [
    {
     "data": {
      "image/png": "[encoded data removed]",
      "text/plain": [
       "<Figure size 432x288 with 1 Axes>"
      ]
     },
     "metadata": {
      "needs_background": "light"
     },
     "output_type": "display_data"
    }
   ],
   "source": [
    "disp = plot_roc_curve(nbrs, X_test, y_test)\n",
    "disp = plot_roc_curve(dummy_classifier, X_test, y_test, color=\"tab:orange\", linestyle=\"--\", ax=disp.ax_)\n",
    "disp.ax_.set_title(\"ROC AUC curve\");"
   ]
  },
  {
   "cell_type": "markdown",
   "metadata": {},
   "source": [
    "### F-Beta Measure"
   ]
  },
  {
   "cell_type": "code",
   "execution_count": 308,
   "metadata": {},
   "outputs": [
    {
     "data": {
      "text/plain": [
       "0.7789320504212112"
      ]
     },
     "execution_count": 308,
     "metadata": {},
     "output_type": "execute_result"
    }
   ],
   "source": [
    "fbeta_score(y_test , y_predicted_nbrs, average='weighted', beta=0.5)"
   ]
  },
  {
   "cell_type": "code",
   "execution_count": 332,
   "metadata": {},
   "outputs": [
    {
     "data": {
      "text/html": [
       "<div>\n",
       "<style scoped>\n",
       "    .dataframe tbody tr th:only-of-type {\n",
       "        vertical-align: middle;\n",
       "    }\n",
       "\n",
       "    .dataframe tbody tr th {\n",
       "        vertical-align: top;\n",
       "    }\n",
       "\n",
       "    .dataframe thead th {\n",
       "        text-align: right;\n",
       "    }\n",
       "</style>\n",
       "<table border=\"1\" class=\"dataframe\">\n",
       "  <thead>\n",
       "    <tr style=\"text-align: right;\">\n",
       "      <th></th>\n",
       "      <th>Classifier</th>\n",
       "      <th>Balanced Accuracy</th>\n",
       "      <th>K-fold Cross Validation</th>\n",
       "      <th>AUC</th>\n",
       "      <th>F-Beta score</th>\n",
       "    </tr>\n",
       "  </thead>\n",
       "  <tbody>\n",
       "    <tr>\n",
       "      <th>0</th>\n",
       "      <td>Decision Tree</td>\n",
       "      <td>0.688</td>\n",
       "      <td>0.676</td>\n",
       "      <td>0.86</td>\n",
       "      <td>0.810</td>\n",
       "    </tr>\n",
       "    <tr>\n",
       "      <th>1</th>\n",
       "      <td>Neural Network</td>\n",
       "      <td>0.739</td>\n",
       "      <td>0.766</td>\n",
       "      <td>0.89</td>\n",
       "      <td>0.818</td>\n",
       "    </tr>\n",
       "    <tr>\n",
       "      <th>2</th>\n",
       "      <td>1-NN</td>\n",
       "      <td>0.705</td>\n",
       "      <td>0.714</td>\n",
       "      <td>0.70</td>\n",
       "      <td>0.779</td>\n",
       "    </tr>\n",
       "  </tbody>\n",
       "</table>\n",
       "</div>"
      ],
      "text/plain": [
       "       Classifier  Balanced Accuracy  K-fold Cross Validation   AUC  \\\n",
       "0   Decision Tree              0.688                    0.676  0.86   \n",
       "1  Neural Network              0.739                    0.766  0.89   \n",
       "2            1-NN              0.705                    0.714  0.70   \n",
       "\n",
       "   F-Beta score  \n",
       "0         0.810  \n",
       "1         0.818  \n",
       "2         0.779  "
      ]
     },
     "execution_count": 332,
     "metadata": {},
     "output_type": "execute_result"
    }
   ],
   "source": [
    "evaluation_table = {'Classifier' : ['Decision Tree', 'Neural Network', '1-NN'],\n",
    "                    'Balanced Accuracy' : [0.688, 0.739, 0.705],\n",
    "                    'K-fold Cross Validation' : [0.676, 0.766, 0.714],\n",
    "                    'AUC' : [0.86,0.89,0.7],\n",
    "                    'F-Beta score' : [0.810, 0.818, 0.779]\n",
    "                   }\n",
    "pd.DataFrame.from_dict(evaluation_table)"
   ]
  },
  {
   "cell_type": "markdown",
   "metadata": {},
   "source": [
    "The neural network appears to be the best preforming network overall, with higher scores in every category. Despite having the poorest balanced accuracy and k fold cross validation, the decision tree has a better F-beta score and Area Under Curve than 1-NN, which suggests that it handles false positives and and the minority class (the over 50k a year in the training set) better than the 1 nearest neighbour model. The neural network has a noticabley high area under curve, implying that it's an accurate model, which may be a result of the gridsearch identification of parameters for the neural network. precision and recall is quite high across all models also."
   ]
  },
  {
   "cell_type": "markdown",
   "metadata": {},
   "source": [
    "## 1(c) Bagging\n",
    "<b><i>Apply ensembles with bagging using the three classifiers from Task (b).\n",
    "Investigate the performance of these classifiers as the ensemble size increases\n",
    "(e.g., in steps of 2 from 2 to 20 members). Using the best performing ensemble\n",
    "size, investigate how changing the number of instances in the bootstrap samples\n",
    "affects classification performance.  [10 marks]</i></b>"
   ]
  },
  {
   "cell_type": "markdown",
   "metadata": {},
   "source": [
    "Bagging the decision tree. Bagging randomly sample from training data with \n",
    "replacement, apply a classifier to each sample. It encourages diversity in the ensemble, works better for “unstable” \n",
    "classifiers - e.g. decision trees, neural networks."
   ]
  },
  {
   "cell_type": "code",
   "execution_count": 315,
   "metadata": {},
   "outputs": [],
   "source": [
    "from sklearn.ensemble import BaggingClassifier\n",
    "from sklearn.model_selection import cross_val_score"
   ]
  },
  {
   "cell_type": "code",
   "execution_count": 316,
   "metadata": {},
   "outputs": [],
   "source": [
    "folds = 5\n",
    "v = 0\n",
    "scores_dtc = cross_val_score(dtc, features_df, target_encoded, cv=folds, verbose = v, n_jobs = -1, scoring='balanced_accuracy')\n",
    "scores_nn = cross_val_score(nn, features_df, target_encoded, cv=folds, verbose = v, n_jobs = -1, scoring='balanced_accuracy')\n",
    "scores_nbrs = cross_val_score(nbrs, features_df, target_encoded, cv=folds, verbose = v, n_jobs = -1, scoring='balanced_accuracy')"
   ]
  },
  {
   "cell_type": "code",
   "execution_count": 317,
   "metadata": {},
   "outputs": [
    {
     "name": "stdout",
     "output_type": "stream",
     "text": [
      "\n",
      "\n",
      "__________________  2\n",
      "Mean accuracy for tree_bag 0.69\n",
      "Mean accuracy for nn_bag 0.77\n",
      "Mean accuracy for nbrs_bag 0.68\n",
      "\n",
      "\n",
      "__________________  4\n",
      "Mean accuracy for tree_bag 0.68\n",
      "Mean accuracy for nn_bag 0.77\n",
      "Mean accuracy for nbrs_bag 0.69\n",
      "\n",
      "\n",
      "__________________  6\n",
      "Mean accuracy for tree_bag 0.66\n",
      "Mean accuracy for nn_bag 0.77\n",
      "Mean accuracy for nbrs_bag 0.70\n",
      "\n",
      "\n",
      "__________________  8\n",
      "Mean accuracy for tree_bag 0.67\n",
      "Mean accuracy for nn_bag 0.77\n",
      "Mean accuracy for nbrs_bag 0.70\n",
      "\n",
      "\n",
      "__________________  10\n",
      "Mean accuracy for tree_bag 0.67\n",
      "Mean accuracy for nn_bag 0.76\n",
      "Mean accuracy for nbrs_bag 0.70\n",
      "\n",
      "\n",
      "__________________  12\n",
      "Mean accuracy for tree_bag 0.67\n",
      "Mean accuracy for nn_bag 0.76\n",
      "Mean accuracy for nbrs_bag 0.71\n",
      "\n",
      "\n",
      "__________________  14\n",
      "Mean accuracy for tree_bag 0.67\n",
      "Mean accuracy for nn_bag 0.76\n",
      "Mean accuracy for nbrs_bag 0.71\n",
      "\n",
      "\n",
      "__________________  16\n",
      "Mean accuracy for tree_bag 0.67\n",
      "Mean accuracy for nn_bag 0.75\n",
      "Mean accuracy for nbrs_bag 0.71\n",
      "\n",
      "\n",
      "__________________  18\n",
      "Mean accuracy for tree_bag 0.67\n",
      "Mean accuracy for nn_bag 0.74\n",
      "Mean accuracy for nbrs_bag 0.71\n",
      "\n",
      "\n",
      "__________________  20\n",
      "Mean accuracy for tree_bag 0.67\n",
      "Mean accuracy for nn_bag 0.74\n",
      "Mean accuracy for nbrs_bag 0.71\n"
     ]
    }
   ],
   "source": [
    "for i in range(2,22,2):\n",
    "    tree_bag = BaggingClassifier(dtc, \n",
    "                                n_estimators = i,\n",
    "                                max_samples = 1.0, # bootstrap resampling \n",
    "                                bootstrap = True, random_state=1)\n",
    "    nn_bag = BaggingClassifier(nn, \n",
    "                            n_estimators = i,\n",
    "                            max_samples = 1.0, # bootstrap resampling \n",
    "                            bootstrap = True, random_state=1)\n",
    "    \n",
    "    nbrs_bag = BaggingClassifier(nbrs, \n",
    "                            n_estimators = i,\n",
    "                            max_samples = 1.0, # bootstrap resampling \n",
    "                            bootstrap = True, random_state=1)\n",
    "    \n",
    "    scores_dtc_bag = cross_val_score(tree_bag, features_df, target_encoded, cv=folds, verbose = v, n_jobs = -1, scoring='balanced_accuracy')\n",
    "    scores_nn_bag = cross_val_score(nn_bag, features_df, target_encoded, cv=folds, verbose = v, n_jobs = -1, scoring='balanced_accuracy')\n",
    "    scores_nbrs_bag = cross_val_score(nbrs_bag, features_df, target_encoded, cv=folds, verbose = v, n_jobs = -1, scoring='balanced_accuracy')\n",
    "   \n",
    "    print('\\n\\n__________________ ',i)\n",
    "    print(\"Mean accuracy for tree_bag {:.2f}\".format(scores_dtc_bag.mean()))\n",
    "    print(\"Mean accuracy for nn_bag {:.2f}\".format(scores_nn_bag.mean()))\n",
    "    print(\"Mean accuracy for nbrs_bag {:.2f}\".format(scores_nbrs_bag.mean()))\n",
    "    \n",
    "    \n",
    "    "
   ]
  },
  {
   "cell_type": "markdown",
   "metadata": {},
   "source": [
    "### Investigating bagging with different ensemble sizes\n",
    "\n",
    "__________________  2\n",
    "Mean accuracy for tree_bag 0.69\n",
    "Mean accuracy for nn_bag 0.77\n",
    "Mean accuracy for nbrs_bag 0.68\n",
    "\n",
    "\n",
    "__________________  4\n",
    "Mean accuracy for tree_bag 0.68\n",
    "Mean accuracy for nn_bag 0.77\n",
    "Mean accuracy for nbrs_bag 0.69\n",
    "\n",
    "\n",
    "__________________  6\n",
    "Mean accuracy for tree_bag 0.66\n",
    "Mean accuracy for nn_bag 0.77\n",
    "Mean accuracy for nbrs_bag 0.70\n",
    "\n",
    "\n",
    "__________________  8\n",
    "Mean accuracy for tree_bag 0.67\n",
    "Mean accuracy for nn_bag 0.77\n",
    "Mean accuracy for nbrs_bag 0.70\n",
    "\n",
    "\n",
    "__________________  10\n",
    "Mean accuracy for tree_bag 0.67\n",
    "Mean accuracy for nn_bag 0.76\n",
    "Mean accuracy for nbrs_bag 0.70\n",
    "\n",
    "\n",
    "__________________  12\n",
    "Mean accuracy for tree_bag 0.67\n",
    "Mean accuracy for nn_bag 0.76\n",
    "Mean accuracy for nbrs_bag 0.71\n",
    "\n",
    "\n",
    "__________________  14\n",
    "Mean accuracy for tree_bag 0.67\n",
    "Mean accuracy for nn_bag 0.76\n",
    "Mean accuracy for nbrs_bag 0.71\n",
    "\n",
    "\n",
    "__________________  16\n",
    "Mean accuracy for tree_bag 0.67\n",
    "Mean accuracy for nn_bag 0.75\n",
    "Mean accuracy for nbrs_bag 0.71\n",
    "\n",
    "\n",
    "__________________  18\n",
    "Mean accuracy for tree_bag 0.67\n",
    "Mean accuracy for nn_bag 0.74\n",
    "Mean accuracy for nbrs_bag 0.71\n",
    "\n",
    "\n",
    "__________________  20\n",
    "Mean accuracy for tree_bag 0.67\n",
    "Mean accuracy for nn_bag 0.74\n",
    "Mean accuracy for nbrs_bag 0.71"
   ]
  },
  {
   "cell_type": "markdown",
   "metadata": {},
   "source": [
    "As expected with an ensemble size of 2, bagging works best on the decision tree and the neural network. It is interesting to see as the ensemble size grows, the mean accuracy of the decision tree and the neural network fall, whilst it increases for the 1 nearest neighbours classifier. The 1-NN is far more stable than the decision tree and the neural network classifiers which is not very ideal for bagging and may explain its contrary behaviour as ensemble size increases.Because k-NN is a stable classifier, bootstrap resampling does not produce diversity."
   ]
  },
  {
   "cell_type": "code",
   "execution_count": 319,
   "metadata": {},
   "outputs": [
    {
     "name": "stdout",
     "output_type": "stream",
     "text": [
      "Mean accuracy for tree 0.66\n",
      "Mean accuracy for nn 0.76\n",
      "Mean accuracy for nbrs 0.71\n"
     ]
    }
   ],
   "source": [
    "print(\"Mean accuracy for tree {:.2f}\".format(scores_dtc.mean()))\n",
    "print(\"Mean accuracy for nn {:.2f}\".format(scores_nn.mean()))\n",
    "print(\"Mean accuracy for nbrs {:.2f}\".format(scores_nbrs.mean()))"
   ]
  },
  {
   "cell_type": "markdown",
   "metadata": {},
   "source": [
    "Now we have idenfied the best performing ensemble sizes for each classifier after bagging"
   ]
  },
  {
   "cell_type": "code",
   "execution_count": 321,
   "metadata": {},
   "outputs": [],
   "source": [
    "# Creating a dictionary of the best preforming ensemble sizes\n",
    "best_ensemble_sizes = { 'tree_bag' : 2,\n",
    "                         'nn_bag' : 2,\n",
    "                          'nbrs_bag' : 20}"
   ]
  },
  {
   "cell_type": "markdown",
   "metadata": {},
   "source": [
    "Using the best performing ensemble size, investigate how changing the number of instances in the bootstrap samples\n",
    "effects classification performance"
   ]
  },
  {
   "cell_type": "code",
   "execution_count": 323,
   "metadata": {},
   "outputs": [
    {
     "name": "stdout",
     "output_type": "stream",
     "text": [
      "\n",
      "\n",
      "__________________  1\n",
      "Mean accuracy for tree_bag 0.50\n",
      "Mean accuracy for nn_bag 0.50\n",
      "Mean accuracy for nbrs_bag 0.50\n",
      "\n",
      "\n",
      "__________________  3\n",
      "Mean accuracy for tree_bag 0.48\n",
      "Mean accuracy for nn_bag 0.55\n",
      "Mean accuracy for nbrs_bag 0.53\n",
      "\n",
      "\n",
      "__________________  5\n",
      "Mean accuracy for tree_bag 0.63\n",
      "Mean accuracy for nn_bag 0.71\n",
      "Mean accuracy for nbrs_bag 0.67\n",
      "\n",
      "\n",
      "__________________  7\n",
      "Mean accuracy for tree_bag 0.59\n",
      "Mean accuracy for nn_bag 0.69\n",
      "Mean accuracy for nbrs_bag 0.70\n",
      "\n",
      "\n",
      "__________________  9\n",
      "Mean accuracy for tree_bag 0.58\n",
      "Mean accuracy for nn_bag 0.65\n",
      "Mean accuracy for nbrs_bag 0.67\n"
     ]
    }
   ],
   "source": [
    "for i in range(1,11,2):\n",
    "    tree_bag = BaggingClassifier(dtc, \n",
    "                                n_estimators = best_ensemble_sizes['tree_bag'],\n",
    "                                max_samples = i, # bootstrap resampling \n",
    "                                bootstrap = True, random_state=1)\n",
    "    nn_bag = BaggingClassifier(nn, \n",
    "                            n_estimators = best_ensemble_sizes['nn_bag'],\n",
    "                            max_samples = i, # bootstrap resampling \n",
    "                            bootstrap = True, random_state=1)\n",
    "    \n",
    "    nbrs_bag = BaggingClassifier(nbrs, \n",
    "                            n_estimators = best_ensemble_sizes['nbrs_bag'],\n",
    "                            max_samples = i, # bootstrap resampling \n",
    "                            bootstrap = True, random_state=1)\n",
    "    \n",
    "    scores_dtc_bag = cross_val_score(tree_bag, features_df, target_encoded, cv=folds, verbose = v, n_jobs = -1, scoring='balanced_accuracy')\n",
    "    scores_nn_bag = cross_val_score(nn_bag, features_df, target_encoded, cv=folds, verbose = v, n_jobs = -1, scoring='balanced_accuracy')\n",
    "    scores_nbrs_bag = cross_val_score(nbrs_bag, features_df, target_encoded, cv=folds, verbose = v, n_jobs = -1, scoring='balanced_accuracy')\n",
    "   \n",
    "    print('\\n\\n__________________ ',i)\n",
    "    print(\"Mean accuracy for tree_bag {:.2f}\".format(scores_dtc_bag.mean()))\n",
    "    print(\"Mean accuracy for nn_bag {:.2f}\".format(scores_nn_bag.mean()))\n",
    "    print(\"Mean accuracy for nbrs_bag {:.2f}\".format(scores_nbrs_bag.mean()))"
   ]
  },
  {
   "cell_type": "markdown",
   "metadata": {},
   "source": [
    "### Investigating bagging with different number of instances in the bootstrap samples\n",
    "__________________  1\n",
    "Mean accuracy for tree_bag 0.50\n",
    "Mean accuracy for nn_bag 0.50\n",
    "Mean accuracy for nbrs_bag 0.50\n",
    "\n",
    "\n",
    "__________________  3\n",
    "Mean accuracy for tree_bag 0.48\n",
    "Mean accuracy for nn_bag 0.55\n",
    "Mean accuracy for nbrs_bag 0.53\n",
    "\n",
    "\n",
    "__________________  5\n",
    "Mean accuracy for tree_bag 0.63\n",
    "Mean accuracy for nn_bag 0.71\n",
    "Mean accuracy for nbrs_bag 0.67\n",
    "\n",
    "\n",
    "__________________  7\n",
    "Mean accuracy for tree_bag 0.59\n",
    "Mean accuracy for nn_bag 0.69\n",
    "Mean accuracy for nbrs_bag 0.70\n",
    "\n",
    "\n",
    "__________________  9\n",
    "Mean accuracy for tree_bag 0.58\n",
    "Mean accuracy for nn_bag 0.65\n",
    "Mean accuracy for nbrs_bag 0.67"
   ]
  },
  {
   "cell_type": "code",
   "execution_count": 357,
   "metadata": {},
   "outputs": [
    {
     "data": {
      "text/html": [
       "<div>\n",
       "<style scoped>\n",
       "    .dataframe tbody tr th:only-of-type {\n",
       "        vertical-align: middle;\n",
       "    }\n",
       "\n",
       "    .dataframe tbody tr th {\n",
       "        vertical-align: top;\n",
       "    }\n",
       "\n",
       "    .dataframe thead th {\n",
       "        text-align: right;\n",
       "    }\n",
       "</style>\n",
       "<table border=\"1\" class=\"dataframe\">\n",
       "  <thead>\n",
       "    <tr style=\"text-align: right;\">\n",
       "      <th></th>\n",
       "      <th>tree_bag</th>\n",
       "      <th>nn_bag</th>\n",
       "      <th>nbrs_bag</th>\n",
       "    </tr>\n",
       "    <tr>\n",
       "      <th>instance_number</th>\n",
       "      <th></th>\n",
       "      <th></th>\n",
       "      <th></th>\n",
       "    </tr>\n",
       "  </thead>\n",
       "  <tbody>\n",
       "    <tr>\n",
       "      <th>1</th>\n",
       "      <td>0.50</td>\n",
       "      <td>0.50</td>\n",
       "      <td>0.50</td>\n",
       "    </tr>\n",
       "    <tr>\n",
       "      <th>3</th>\n",
       "      <td>0.48</td>\n",
       "      <td>0.55</td>\n",
       "      <td>0.53</td>\n",
       "    </tr>\n",
       "    <tr>\n",
       "      <th>5</th>\n",
       "      <td>0.63</td>\n",
       "      <td>0.71</td>\n",
       "      <td>0.67</td>\n",
       "    </tr>\n",
       "    <tr>\n",
       "      <th>7</th>\n",
       "      <td>0.59</td>\n",
       "      <td>0.69</td>\n",
       "      <td>0.70</td>\n",
       "    </tr>\n",
       "    <tr>\n",
       "      <th>9</th>\n",
       "      <td>0.58</td>\n",
       "      <td>0.65</td>\n",
       "      <td>0.67</td>\n",
       "    </tr>\n",
       "  </tbody>\n",
       "</table>\n",
       "</div>"
      ],
      "text/plain": [
       "                 tree_bag  nn_bag  nbrs_bag\n",
       "instance_number                            \n",
       "1                    0.50    0.50      0.50\n",
       "3                    0.48    0.55      0.53\n",
       "5                    0.63    0.71      0.67\n",
       "7                    0.59    0.69      0.70\n",
       "9                    0.58    0.65      0.67"
      ]
     },
     "execution_count": 357,
     "metadata": {},
     "output_type": "execute_result"
    }
   ],
   "source": [
    "instances_in_bootstrap = {'instance_number' : [1,3,5,7,9],\n",
    "                          'tree_bag' : [0.50, 0.48, 0.63, 0.59, 0.58],\n",
    "                          'nn_bag' : [0.50, 0.55, 0.71, 0.69, 0.65],\n",
    "                          'nbrs_bag' : [0.50, 0.53, 0.67, 0.70, 0.67]\n",
    "                         }\n",
    "\n",
    "bootstrap_df = pd.DataFrame.from_dict(instances_in_bootstrap)\n",
    "bootstrap_df = bootstrap_df.set_index('instance_number') \n",
    "bootstrap_df"
   ]
  },
  {
   "cell_type": "code",
   "execution_count": 356,
   "metadata": {},
   "outputs": [
    {
     "data": {
      "image/png": "[encoded data removed]",
      "text/plain": [
       "<Figure size 720x432 with 1 Axes>"
      ]
     },
     "metadata": {
      "needs_background": "light"
     },
     "output_type": "display_data"
    }
   ],
   "source": [
    "ax = bootstrap_df.plot(figsize=(10,6), fontsize=14, color=[\"magenta\", \"blue\",\"darkorange\"])\n",
    "ax.set_title('Bagging with different number of instances in the bootstrap samples',fontsize=24, color=\"darkgreen\")\n",
    "ax.set_xlabel('Number of Instances', fontsize=24,color=\"blue\")\n",
    "ax.set_ylabel('Mean Accuracy', fontsize=24,color=\"blue\")\n",
    "plt.grid()\n",
    "plt.show()"
   ]
  },
  {
   "cell_type": "markdown",
   "metadata": {},
   "source": [
    "Although the mean accuracy is greater throughout the graph in the neural network bag than the tree bag, both bagging classifiers react in a similar fashion as the number of instances increas, with both peaking when drawing 5 samples to train the classifier. The 1-nn bagged classifier is also quite similar but hits an apex when 7 samples are drawn with replacement. A fascinating discovery from this graph is that the 1-NN tree out performs the decision tree (with both being optimum ensemble sizes) with every number of instances tested here, despite it's stable vs. unstable nature, and bagging's ensemble diversity functioning better tradtionally with unstable classifiers. \n",
    "Once again, our neural network seems the best performing classifier, having the best mean accuracy of optimal ensemble sizes tested, with 5 random instances in the bootstrap samples at 71%."
   ]
  },
  {
   "cell_type": "markdown",
   "metadata": {},
   "source": [
    "# 1(d) Random Subspacing\n",
    "<b><i>Apply ensembles with random subspacing using the three classifiers from Task\n",
    "(b). Investigate the performance of these classifiers as the ensemble size\n",
    "increases (e.g., in steps of 2 from 2 to 20 members). Using the best performing\n",
    "ensemble size, investigate how changing the number of features used when\n",
    "applying random subspacing affects classification performance.</i></b>\n",
    "\n",
    "A subset of features is randomly selected without replacement."
   ]
  },
  {
   "cell_type": "code",
   "execution_count": 326,
   "metadata": {},
   "outputs": [
    {
     "name": "stdout",
     "output_type": "stream",
     "text": [
      "\n",
      "\n",
      "__________________  2\n",
      "Mean accuracy for tree RSS 0.73\n",
      "Mean accuracy for nn RSS 0.50\n",
      "Mean accuracy for nbrs RSS 0.65\n",
      "\n",
      "\n",
      "__________________  4\n",
      "Mean accuracy for tree RSS 0.67\n",
      "Mean accuracy for nn RSS 0.59\n",
      "Mean accuracy for nbrs RSS 0.68\n",
      "\n",
      "\n",
      "__________________  6\n",
      "Mean accuracy for tree RSS 0.66\n",
      "Mean accuracy for nn RSS 0.58\n",
      "Mean accuracy for nbrs RSS 0.69\n",
      "\n",
      "\n",
      "__________________  8\n",
      "Mean accuracy for tree RSS 0.68\n",
      "Mean accuracy for nn RSS 0.57\n",
      "Mean accuracy for nbrs RSS 0.69\n",
      "\n",
      "\n",
      "__________________  10\n",
      "Mean accuracy for tree RSS 0.66\n",
      "Mean accuracy for nn RSS 0.52\n",
      "Mean accuracy for nbrs RSS 0.71\n",
      "\n",
      "\n",
      "__________________  12\n",
      "Mean accuracy for tree RSS 0.66\n",
      "Mean accuracy for nn RSS 0.52\n",
      "Mean accuracy for nbrs RSS 0.72\n",
      "\n",
      "\n",
      "__________________  14\n",
      "Mean accuracy for tree RSS 0.67\n",
      "Mean accuracy for nn RSS 0.53\n",
      "Mean accuracy for nbrs RSS 0.72\n",
      "\n",
      "\n",
      "__________________  16\n",
      "Mean accuracy for tree RSS 0.67\n",
      "Mean accuracy for nn RSS 0.58\n",
      "Mean accuracy for nbrs RSS 0.73\n",
      "\n",
      "\n",
      "__________________  18\n",
      "Mean accuracy for tree RSS 0.66\n",
      "Mean accuracy for nn RSS 0.57\n",
      "Mean accuracy for nbrs RSS 0.73\n",
      "\n",
      "\n",
      "__________________  20\n",
      "Mean accuracy for tree RSS 0.67\n",
      "Mean accuracy for nn RSS 0.61\n",
      "Mean accuracy for nbrs RSS 0.74\n"
     ]
    }
   ],
   "source": [
    "# Apply ensembles with random subspacing using the three classifiers from Task\n",
    "for i in range(2,22,2):\n",
    "    random_SS_tree = BaggingClassifier(dtc, \n",
    "                                n_estimators = i,\n",
    "                                max_samples=1.0, \n",
    "                                max_features=0.5, random_state=10)\n",
    "    \n",
    "    random_SS_nn = BaggingClassifier(nn, \n",
    "                                n_estimators = i,\n",
    "                                max_samples=1.0, \n",
    "                                max_features=0.5, random_state=10)\n",
    "    \n",
    "    random_SS_nbrs = BaggingClassifier(nbrs, \n",
    "                                n_estimators = i,\n",
    "                                max_samples=1.0, \n",
    "                                max_features=0.5, random_state=10)\n",
    "   #Using balanced accuracy to work with the imbalanced data \n",
    "    scores_dtc_rss = cross_val_score(random_SS_tree, features_df, target_encoded, cv=folds, verbose = v, n_jobs = -1, scoring='balanced_accuracy')\n",
    "    scores_nn_rss = cross_val_score(random_SS_nn, features_df, target_encoded, cv=folds, verbose = v, n_jobs = -1, scoring='balanced_accuracy')\n",
    "    scores_nbrs_rss = cross_val_score(random_SS_nbrs, features_df, target_encoded, cv=folds, verbose = v, n_jobs = -1, scoring='balanced_accuracy')\n",
    "   \n",
    "    print('\\n\\n__________________ ',i)\n",
    "    print(\"Mean accuracy for tree RSS {:.2f}\".format(scores_dtc_rss.mean()))\n",
    "    print(\"Mean accuracy for nn RSS {:.2f}\".format(scores_nn_rss.mean()))\n",
    "    print(\"Mean accuracy for nbrs RSS {:.2f}\".format(scores_nbrs_rss.mean()))\n",
    "    "
   ]
  },
  {
   "cell_type": "markdown",
   "metadata": {},
   "source": [
    "### Investigating random subspacing with different ensemble sizes\n",
    "__________________  2\n",
    "Mean accuracy for tree RSS 0.73\n",
    "Mean accuracy for nn RSS 0.50\n",
    "Mean accuracy for nbrs RSS 0.65\n",
    "\n",
    "\n",
    "__________________  4\n",
    "Mean accuracy for tree RSS 0.67\n",
    "Mean accuracy for nn RSS 0.59\n",
    "Mean accuracy for nbrs RSS 0.68\n",
    "\n",
    "\n",
    "__________________  6\n",
    "Mean accuracy for tree RSS 0.66\n",
    "Mean accuracy for nn RSS 0.58\n",
    "Mean accuracy for nbrs RSS 0.69\n",
    "\n",
    "\n",
    "__________________  8\n",
    "Mean accuracy for tree RSS 0.68\n",
    "Mean accuracy for nn RSS 0.57\n",
    "Mean accuracy for nbrs RSS 0.69\n",
    "\n",
    "\n",
    "__________________  10\n",
    "Mean accuracy for tree RSS 0.66\n",
    "Mean accuracy for nn RSS 0.52\n",
    "Mean accuracy for nbrs RSS 0.71\n",
    "\n",
    "\n",
    "__________________  12\n",
    "Mean accuracy for tree RSS 0.66\n",
    "Mean accuracy for nn RSS 0.52\n",
    "Mean accuracy for nbrs RSS 0.72\n",
    "\n",
    "\n",
    "__________________  14\n",
    "Mean accuracy for tree RSS 0.67\n",
    "Mean accuracy for nn RSS 0.53\n",
    "Mean accuracy for nbrs RSS 0.72\n",
    "\n",
    "\n",
    "__________________  16\n",
    "Mean accuracy for tree RSS 0.67\n",
    "Mean accuracy for nn RSS 0.58\n",
    "Mean accuracy for nbrs RSS 0.73\n",
    "\n",
    "\n",
    "__________________  18\n",
    "Mean accuracy for tree RSS 0.66\n",
    "Mean accuracy for nn RSS 0.57\n",
    "Mean accuracy for nbrs RSS 0.73\n",
    "\n",
    "\n",
    "__________________  20\n",
    "Mean accuracy for tree RSS 0.67\n",
    "Mean accuracy for nn RSS 0.61\n",
    "Mean accuracy for nbrs RSS 0.74"
   ]
  },
  {
   "cell_type": "markdown",
   "metadata": {},
   "source": [
    "Random subspaces encourage diveristy and as expected works well with 1-NN, especially as the number of ensemble sizes grows. The neural network, while less accurate, also improves in sharpness with the increase in the number of ensembles.The more  ensemble members the decision tree encounters, the worse it gets. The decision tree's efficicency could be suffering due to possible strong imbalances occuring in some of the random subspaces."
   ]
  },
  {
   "cell_type": "code",
   "execution_count": 327,
   "metadata": {},
   "outputs": [
    {
     "data": {
      "text/plain": [
       "{'tree_bag': 2,\n",
       " 'nn_bag': 2,\n",
       " 'nbrs_bag': 20,\n",
       " 'tree_rss': 2,\n",
       " 'nn_rss': 20,\n",
       " 'nbrs_rss': 20}"
      ]
     },
     "execution_count": 327,
     "metadata": {},
     "output_type": "execute_result"
    }
   ],
   "source": [
    "best_ensemble_sizes['tree_rss'] = 2\n",
    "best_ensemble_sizes['nn_rss'] = 20\n",
    "best_ensemble_sizes['nbrs_rss'] = 20\n",
    "best_ensemble_sizes"
   ]
  },
  {
   "cell_type": "markdown",
   "metadata": {},
   "source": [
    "Using the best performing\n",
    "ensemble size, investigate how changing the number of features used when\n",
    "applying random subspacing affects classification performance."
   ]
  },
  {
   "cell_type": "code",
   "execution_count": 329,
   "metadata": {},
   "outputs": [
    {
     "name": "stdout",
     "output_type": "stream",
     "text": [
      "\n",
      "\n",
      "__________________  0.1\n",
      "Mean accuracy for tree RSS 0.59\n",
      "Mean accuracy for nn RSS 0.50\n",
      "Mean accuracy for nbrs RSS 0.55\n",
      "\n",
      "\n",
      "__________________  0.3\n",
      "Mean accuracy for tree RSS 0.67\n",
      "Mean accuracy for nn RSS 0.64\n",
      "Mean accuracy for nbrs RSS 0.66\n",
      "\n",
      "\n",
      "__________________  0.5\n",
      "Mean accuracy for tree RSS 0.73\n",
      "Mean accuracy for nn RSS 0.61\n",
      "Mean accuracy for nbrs RSS 0.74\n",
      "\n",
      "\n",
      "__________________  0.7\n",
      "Mean accuracy for tree RSS 0.71\n",
      "Mean accuracy for nn RSS 0.69\n",
      "Mean accuracy for nbrs RSS 0.72\n",
      "\n",
      "\n",
      "__________________  0.9\n",
      "Mean accuracy for tree RSS 0.70\n",
      "Mean accuracy for nn RSS 0.74\n",
      "Mean accuracy for nbrs RSS 0.71\n"
     ]
    }
   ],
   "source": [
    "for j in range(1,11,2):\n",
    "    i = j/10 #converting 1 to 0.1 and so on\n",
    "    random_SS_tree = BaggingClassifier(dtc, \n",
    "                                n_estimators = best_ensemble_sizes['tree_rss'],\n",
    "                                max_samples=1.0, \n",
    "                                max_features=i, random_state=10)\n",
    "    \n",
    "    random_SS_nn = BaggingClassifier(nn, \n",
    "                                n_estimators = best_ensemble_sizes['nn_rss'],\n",
    "                                max_samples=1.0, \n",
    "                                max_features=i, random_state=10)\n",
    "    \n",
    "    random_SS_nbrs = BaggingClassifier(nbrs, \n",
    "                                n_estimators = best_ensemble_sizes['nbrs_rss'],\n",
    "                                max_samples=1.0, \n",
    "                                max_features=i, random_state=10)\n",
    "    \n",
    "    scores_dtc_rss = cross_val_score(random_SS_tree, features_df, target_encoded, cv=folds, verbose = v, n_jobs = -1, scoring='balanced_accuracy')\n",
    "    scores_nn_rss = cross_val_score(random_SS_nn, features_df, target_encoded, cv=folds, verbose = v, n_jobs = -1, scoring='balanced_accuracy')\n",
    "    scores_nbrs_rss = cross_val_score(random_SS_nbrs, features_df, target_encoded, cv=folds, verbose = v, n_jobs = -1, scoring='balanced_accuracy')\n",
    "   \n",
    "    print('\\n\\n__________________ ',i)\n",
    "    print(\"Mean accuracy for tree RSS {:.2f}\".format(scores_dtc_rss.mean()))\n",
    "    print(\"Mean accuracy for nn RSS {:.2f}\".format(scores_nn_rss.mean()))\n",
    "    print(\"Mean accuracy for nbrs RSS {:.2f}\".format(scores_nbrs_rss.mean()))\n",
    "    "
   ]
  },
  {
   "cell_type": "markdown",
   "metadata": {},
   "source": [
    "### Investigating how changing the number of features used when applying random subspacing affects classification performance.\n",
    "__________________  0.1\n",
    "Mean accuracy for tree RSS 0.59\n",
    "Mean accuracy for nn RSS 0.50\n",
    "Mean accuracy for nbrs RSS 0.55\n",
    "\n",
    "\n",
    "__________________  0.3\n",
    "Mean accuracy for tree RSS 0.67\n",
    "Mean accuracy for nn RSS 0.64\n",
    "Mean accuracy for nbrs RSS 0.66\n",
    "\n",
    "\n",
    "__________________  0.5\n",
    "Mean accuracy for tree RSS 0.73\n",
    "Mean accuracy for nn RSS 0.61\n",
    "Mean accuracy for nbrs RSS 0.74\n",
    "\n",
    "\n",
    "__________________  0.7\n",
    "Mean accuracy for tree RSS 0.71\n",
    "Mean accuracy for nn RSS 0.69\n",
    "Mean accuracy for nbrs RSS 0.72\n",
    "\n",
    "\n",
    "__________________  0.9\n",
    "Mean accuracy for tree RSS 0.70\n",
    "Mean accuracy for nn RSS 0.74\n",
    "Mean accuracy for nbrs RSS 0.71"
   ]
  },
  {
   "cell_type": "code",
   "execution_count": 351,
   "metadata": {},
   "outputs": [
    {
     "data": {
      "text/html": [
       "<div>\n",
       "<style scoped>\n",
       "    .dataframe tbody tr th:only-of-type {\n",
       "        vertical-align: middle;\n",
       "    }\n",
       "\n",
       "    .dataframe tbody tr th {\n",
       "        vertical-align: top;\n",
       "    }\n",
       "\n",
       "    .dataframe thead th {\n",
       "        text-align: right;\n",
       "    }\n",
       "</style>\n",
       "<table border=\"1\" class=\"dataframe\">\n",
       "  <thead>\n",
       "    <tr style=\"text-align: right;\">\n",
       "      <th></th>\n",
       "      <th>tree_rss</th>\n",
       "      <th>nn_rss</th>\n",
       "      <th>nbrs_rss</th>\n",
       "    </tr>\n",
       "    <tr>\n",
       "      <th>instance_number</th>\n",
       "      <th></th>\n",
       "      <th></th>\n",
       "      <th></th>\n",
       "    </tr>\n",
       "  </thead>\n",
       "  <tbody>\n",
       "    <tr>\n",
       "      <th>0.1</th>\n",
       "      <td>0.59</td>\n",
       "      <td>0.50</td>\n",
       "      <td>0.55</td>\n",
       "    </tr>\n",
       "    <tr>\n",
       "      <th>0.3</th>\n",
       "      <td>0.67</td>\n",
       "      <td>0.64</td>\n",
       "      <td>0.66</td>\n",
       "    </tr>\n",
       "    <tr>\n",
       "      <th>0.5</th>\n",
       "      <td>0.73</td>\n",
       "      <td>0.61</td>\n",
       "      <td>0.74</td>\n",
       "    </tr>\n",
       "    <tr>\n",
       "      <th>0.7</th>\n",
       "      <td>0.71</td>\n",
       "      <td>0.69</td>\n",
       "      <td>0.72</td>\n",
       "    </tr>\n",
       "    <tr>\n",
       "      <th>0.9</th>\n",
       "      <td>0.70</td>\n",
       "      <td>0.74</td>\n",
       "      <td>0.71</td>\n",
       "    </tr>\n",
       "  </tbody>\n",
       "</table>\n",
       "</div>"
      ],
      "text/plain": [
       "                 tree_rss  nn_rss  nbrs_rss\n",
       "instance_number                            \n",
       "0.1                  0.59    0.50      0.55\n",
       "0.3                  0.67    0.64      0.66\n",
       "0.5                  0.73    0.61      0.74\n",
       "0.7                  0.71    0.69      0.72\n",
       "0.9                  0.70    0.74      0.71"
      ]
     },
     "execution_count": 351,
     "metadata": {},
     "output_type": "execute_result"
    }
   ],
   "source": [
    "instances_in_rss = {'instance_number' : [0.1,0.3,0.5,0.7,0.9],\n",
    "                          'tree_rss' : [0.59, 0.67, 0.73, 0.71, 0.70],\n",
    "                          'nn_rss' : [0.50, 0.64, 0.61, 0.69, 0.74],\n",
    "                          'nbrs_rss' : [0.55, 0.66, 0.74, 0.72, 0.71]\n",
    "                         }\n",
    "\n",
    "rss_df = pd.DataFrame.from_dict(instances_in_rss)\n",
    "rss_df = rss_df.set_index('instance_number') \n",
    "rss_df"
   ]
  },
  {
   "cell_type": "code",
   "execution_count": 355,
   "metadata": {},
   "outputs": [
    {
     "data": {
      "image/png": "[encoded data removed]",
      "text/plain": [
       "<Figure size 720x432 with 1 Axes>"
      ]
     },
     "metadata": {
      "needs_background": "light"
     },
     "output_type": "display_data"
    }
   ],
   "source": [
    "ax = rss_df.plot(figsize=(10,6), fontsize=14, color=[\"magenta\", \"blue\",\"darkorange\"])\n",
    "ax.set_title('Changing number of features used when applying random subspacing',fontsize=24, color=\"darkgreen\")\n",
    "ax.set_xlabel('Number of Features', fontsize=24,color=\"blue\")\n",
    "ax.set_ylabel('Mean Accuracy', fontsize=24,color=\"blue\")\n",
    "plt.grid()\n",
    "plt.show()"
   ]
  },
  {
   "cell_type": "markdown",
   "metadata": {},
   "source": [
    "A curious insight that we can draw from this graph is that as the number of features increases to 50% of the features set, the 1-nn and decision tree both apex, and behave very similarly throught out the graph, while the neural network noticably. It is at this point that the neural network begins reacting contrary to both the decision tree and the 1-nn classifier. Increased dimensisonality of data often aids nearest neighbour algorithms when relevant features are added. The slight decrease seen beween 50% and 90% could be attributed to noise dimensions affecting accuracy. The decision tree runs a near-same pattern to the 1-NN, which could imply it also gained from access to more complete data, but deteriorated post peak (Curse of dimensionality).It is clear that the neural network operates better with higher-dimensional, with 50% sized subspaces actually decaying the accuracy of a 30% subspace as variance has become harder to distinguish with new data columns confusing the algorithm."
   ]
  },
  {
   "cell_type": "markdown",
   "metadata": {},
   "source": [
    "# 1(e) Expectations\n",
    "\n",
    "Bagging is designed to operate on unstable classifiers. From this information, we would expect the method to work well with both the decision tree and neural network models.\n",
    "\n",
    "Random subspacing works finer on more stable classifiers. This indicates that the 1-NN is ideal for this approach.\n",
    "From my work on this dataset, as expected the neural network model implemented here functions better using the bagging ensemble technique and the nearest neighbour method works better using random subspacing too. However, it appears that the decision tree unexpectedly works nicer using random subspacing than bagging. \n",
    "\n",
    "We know from our analysis that bagging with increased ensemble size worsens the predictive integrity of this decision tree, which also reacts poorly to a range of different number of instances in the bootstrap samples.\n",
    "\n",
    "To improve the accuracy of the decision tree we can cut down some of the data being used (pruning) to try obtaining a higher accuracy. Furthermore, increased depth (> 3) will add complexity to the model without overfitting should enable us to implement a more precise predictive decision tree than our current one. Going too deep can result in the decision tree perfectly fitting the training data, meaning the model will not be able to generalize adequately on the test set.\n"
   ]
  },
  {
   "cell_type": "markdown",
   "metadata": {},
   "source": [
    "# 1(f) Comparison\n",
    "Compare the ensemble classifiers with the tuned individual classifiers, e.g.,\n",
    "decision trees with more depth, k-NN with a carefully chosen k and a neural\n",
    "network with a carefully chosen number of hidden layers and hidden nodes."
   ]
  },
  {
   "cell_type": "markdown",
   "metadata": {},
   "source": [
    "For the purpose of this comparison we will compare the highest scoring ensemble balanced_average (be it bagging or subspacing) against the balanced accuracy of the newly implemented classifier with finer-tuned parameters.\n",
    "\n",
    "### Decision Tree"
   ]
  },
  {
   "cell_type": "code",
   "execution_count": 371,
   "metadata": {},
   "outputs": [],
   "source": [
    "#Increasing depth slightly to avoid overfitting\n",
    "deeper_dtc = DecisionTreeClassifier(max_depth=5, criterion='entropy')\n",
    "deeper_dtc.fit(X_train, y_train)\n",
    "y_predicted_dtc_deeper = deeper_dtc.predict(X_test)"
   ]
  },
  {
   "cell_type": "code",
   "execution_count": 372,
   "metadata": {},
   "outputs": [
    {
     "name": "stdout",
     "output_type": "stream",
     "text": [
      "Balanced accuracy: 0.761\n"
     ]
    }
   ],
   "source": [
    "balanced_accuracy_dtc_deeper = balanced_accuracy_score(y_test, y_predicted_dtc_deeper)\n",
    "print(f\"Balanced accuracy: {balanced_accuracy_dtc_deeper:.3f}\")"
   ]
  },
  {
   "cell_type": "markdown",
   "metadata": {},
   "source": [
    "A decision tree with a 50% random subspace of the data set and an esemble size of 2 is the highest scoring ensemble classifier with 0.73 balanced accuracy"
   ]
  },
  {
   "cell_type": "markdown",
   "metadata": {},
   "source": [
    "Here it is clear that increasing the maximum depth of a tree slightly, as not to cause without causing overfitting, whilst improving variation diffrentiation abilities of the model."
   ]
  },
  {
   "cell_type": "markdown",
   "metadata": {},
   "source": [
    "### K-nn"
   ]
  },
  {
   "cell_type": "code",
   "execution_count": 378,
   "metadata": {},
   "outputs": [
    {
     "name": "stdout",
     "output_type": "stream",
     "text": [
      "_________2\n",
      "Balanced accuracy: 0.652\n",
      "_________3\n",
      "Balanced accuracy: 0.730\n",
      "_________4\n",
      "Balanced accuracy: 0.681\n",
      "_________5\n",
      "Balanced accuracy: 0.728\n",
      "_________6\n",
      "Balanced accuracy: 0.697\n",
      "_________7\n",
      "Balanced accuracy: 0.726\n",
      "_________8\n",
      "Balanced accuracy: 0.716\n",
      "_________9\n",
      "Balanced accuracy: 0.728\n"
     ]
    }
   ],
   "source": [
    "for i in range(2,10):\n",
    "    k_nbrs = KNeighborsClassifier(n_neighbors=i)\n",
    "    k_nbrs.fit(X_train, y_train)\n",
    "    y_predicted_k_nbrs = k_nbrs.predict(X_test)\n",
    "    balanced_accuracy_k_nbrs = balanced_accuracy_score(y_test, y_predicted_k_nbrs)\n",
    "    print('_________{0}'.format(i))\n",
    "    print(f\"Balanced accuracy: {balanced_accuracy_k_nbrs:.3f}\")"
   ]
  },
  {
   "cell_type": "markdown",
   "metadata": {},
   "source": [
    "_________3\n",
    "Balanced accuracy: 0.730"
   ]
  },
  {
   "cell_type": "markdown",
   "metadata": {},
   "source": [
    "1-nearest neighbour with 20 ensemble members or/and 5 features in the random subspacing classifier has a mean balanced accuracy rate of 0.74"
   ]
  },
  {
   "cell_type": "markdown",
   "metadata": {},
   "source": [
    "This comparison is an excellent example of how ensemble classifiers can outperform individual classifiers, with this random subspacing ensemble making slightly more conclusive forecasts."
   ]
  },
  {
   "cell_type": "markdown",
   "metadata": {},
   "source": [
    "### Neural Network"
   ]
  },
  {
   "cell_type": "code",
   "execution_count": 420,
   "metadata": {},
   "outputs": [
    {
     "name": "stdout",
     "output_type": "stream",
     "text": [
      "Using layout: [64, 32, 16, 8, 4, 2]\n",
      "Balanced accuracy: 0.724\n",
      "Using layout: [16, 8, 4, 2]\n",
      "Balanced accuracy: 0.716\n",
      "Using layout: [2, 2]\n",
      "Balanced accuracy: 0.500\n",
      "Using layout: [3, 4, 3, 4]\n",
      "Balanced accuracy: 0.744\n"
     ]
    }
   ],
   "source": [
    "hidden_layer_lists = [[64,32,16,8,4,2],[16,8,4,2],[2,2],[3,4,3,4]]\n",
    "\n",
    "for hidden_layer_list in hidden_layer_lists:\n",
    "    nn_2 = MLPClassifier(solver='lbfgs', alpha=0.001, hidden_layer_sizes=(hidden_layer_list), random_state=1, max_iter = 10000)\n",
    "    nn_2.fit(X_train,y_train)\n",
    "    y_predicted_nn_2 = nn_2.predict(X_test)\n",
    "    balanced_accuracy_nn_2 = balanced_accuracy_score(y_test, y_predicted_nn_2)\n",
    "    print(\"Using layout: {0}\".format(hidden_layer_list))\n",
    "    print(f\"Balanced accuracy: {balanced_accuracy_nn_2:.3f}\")"
   ]
  },
  {
   "cell_type": "markdown",
   "metadata": {},
   "source": [
    "A neural network bagged with an ensemble size of 2, has mean balanced accuracy rate of 0.77."
   ]
  },
  {
   "cell_type": "markdown",
   "metadata": {},
   "source": [
    "The neural network with the ensemble size of 2 can outperform all of these randomly generated hidden unit and node distributions, again reinforcing the purpose of ensembles."
   ]
  },
  {
   "cell_type": "markdown",
   "metadata": {},
   "source": [
    "# 2(a)\n",
    "There is a 100% chance that Emma is actually positive for Covid-19, as all healthy individuals are identified correctly as healthy by this testing method, so there are no false positives (100% specific)."
   ]
  },
  {
   "cell_type": "markdown",
   "metadata": {},
   "source": [
    "# 2(b)\n",
    "* K-nearest neighbour- Is relatively simple to explain to a layman. It is a classification method, where an unknown data point on a 2-D plane, will categorise itself the same as it’s k closest neighbours (in distance), where k is an integer. If there are a points k nearest neighbours span two or more categories, the point will associate with the category that makes up most of the selected neighbours. This can be aided greatly with a visual aid. \n",
    "\n",
    "* It is easy for the user to understand why we get a particular answer, and to manipulate the data as to produce a different prediction, especially in smaller data sets.\n",
    "\n",
    "* The user specifies the weights of different features in the model.\n",
    "\n",
    "* Decision tree – It’s conditional, flow-chart nature is very easy to explain to a layman, especially with a labelled visual aid.\n",
    "* Like k-NN, as it is easily interpreted and visualized, adding bias is quite simple if desired. Splitting is done using rules inferred from the training set.\n",
    "\n",
    "* A decision tree does not traditionally use weights.\n",
    "\n",
    "* SVM or Support Vector Machine is generally difficult to interpret.\n",
    "\n",
    "* Although possible, it is far from easy to optimise SVM’s predictions.\n",
    "\n",
    "* Weights can be easily interpreted in a linear model, but this becomes far more difficult in higher dimensional spaces.\n",
    "\n",
    "* Random forest- Despite being a multitude of decision trees, which are inherently easy to interpret, but trying top understand the paths of multiple sometimes tens or hundreds of trees is far more difficult.\n",
    "\n",
    "* It is usually very difficult to modify prediction in a random forest and almost impossible as the number of trees increases.\n",
    "* Similarly, it is very difficult to identify weights in a random forest.\n",
    "\n",
    "* Deep neural network-  Even regular artificial neural networks are often referred to as “Black Boxes” i.e. a human cannot look inside the model and easily interpret the outputs. A deep neural network is no exception and is even more complex than regular artificial neural networks.\n",
    "* Deep neural networks are very difficult to understand, and so altering predictions is an almost impossible feat.\n",
    "* There is no analytical solution for calculating weights in a deep neural network. Usually the value for weights is estimated from the model’s training set.\n"
   ]
  },
  {
   "cell_type": "markdown",
   "metadata": {},
   "source": [
    "# 2(C)"
   ]
  },
  {
   "cell_type": "markdown",
   "metadata": {},
   "source": [
    "* Divisive clustering is more complex that agglomerative clustering. In each case of divisive clustering, we need to spit each cluster until individual data has been split into a singleton cluster.\n",
    "* Divisive clustering is more efficient if the overall hierarchy is not completed all the way down to individual data leaves. Naïve agglomerative clustering is much more exhaustive as it has to calculate the shortest distance in each n-1 iteration.\n",
    "* Divisive clustering is more accurate than agglomerative, as agglomerative does not take into account the global distribution of data, unlike the divisive method, instead opting for local patterns instead, which can lead to errors in latter stages of the strategy.\n",
    "\n",
    "#### Single linkage\n",
    "Defines cluster distance as the smallest pairwise distance between items from each cluster.\n",
    "\n",
    "<b>Advantages of single linkage</b>\n",
    "* Can accurately differentiate between non elliptical shapes, as long as there is a sufficient gap between two clusters.\n",
    "\n",
    "<b>Disadvantages of single linkage</b>\n",
    "* Noise greatly impacts this method’s ability to differentiate and separate from each other.\n",
    "\n",
    "#### Complete Linkage\n",
    "Defines cluster distance as the largest pairwise distance between items from each cluster.\n",
    "\n",
    "<b>Advantages of complete linkage</b>\n",
    "* Is able to effectively separate clusters regardless of noise.\n",
    "\n",
    "<b>Disadvantages of complete linkage</b>\n",
    "* Can result in large clusters being split.\n",
    "* Can be biased towards disk-shaped clusters.\n"
   ]
  },
  {
   "cell_type": "markdown",
   "metadata": {},
   "source": [
    "# 2(D)\n",
    "Stochastic gradient descent chooses random subset of data set to preform gradient descent. This is less expensive on both memory and time than batch gradient descent, which computes the gradient using the whole dataset. Additionally stochastic gradient descent helps the algorithm escape “bad” local minima better than it’s batch counterpart."
   ]
  },
  {
   "cell_type": "markdown",
   "metadata": {},
   "source": [
    "# 2(E)\n",
    "K-means is very popular due to it’s ability to scale to large data sets, ability to adapt and generalise different cluster shapes and sizes, and ease of application using Lloyd’s algorithm. Although K-means is not perfect, it’s ease of deployment and accuracy is sufficient for it’s use in applications and on large data sets, even with it’s less significant disadvantages such as outlier handling and scaling high-dimensional data."
   ]
  },
  {
   "cell_type": "markdown",
   "metadata": {},
   "source": [
    "# 2(F)\n",
    "Since the clusters are imbalanced in size, Lloyd’s Algorithm is prone to place all of the cluster centres in the majority cluster. As a result, Lloyd’s algorithm will be unable to identify the two minority classes.\n",
    "K-means++ works to push randomly selected centroids as far from one another as possible, based on the proportional probability to the squared distance. Applying k-means++ to this data set will provide improved cluster centroid selection compared to Lloyd’s algorithm.\n"
   ]
  },
  {
   "cell_type": "code",
   "execution_count": null,
   "metadata": {},
   "outputs": [],
   "source": []
  }
 ],
 "metadata": {
  "kernelspec": {
   "display_name": "Python 3",
   "language": "python",
   "name": "python3"
  },
  "language_info": {
   "codemirror_mode": {
    "name": "ipython",
    "version": 3
   },
   "file_extension": ".py",
   "mimetype": "text/x-python",
   "name": "python",
   "nbconvert_exporter": "python",
   "pygments_lexer": "ipython3",
   "version": "3.8.3"
  }
 },
 "nbformat": 4,
 "nbformat_minor": 4
}
